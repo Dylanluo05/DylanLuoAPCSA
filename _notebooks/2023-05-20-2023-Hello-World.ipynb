{
 "cells": [
  {
   "attachments": {},
   "cell_type": "markdown",
   "metadata": {},
   "source": [
    "# Java Fundamentals - Notes Part 1\n",
    "> Java Fundamentals - Notes Part 1\n",
    "\n",
    "- toc: true\n",
    "- description: Java Fundamentals Post for first part of notes\n",
    "- categories: [jupyter]\n",
    "- title: Java Fundamentals - Notes Part 1\n",
    "- author: Dylan Luo\n",
    "- show_tags: true\n",
    "- comments: true"
   ]
  },
  {
   "attachments": {},
   "cell_type": "markdown",
   "metadata": {},
   "source": [
    "# 1. A Hello World Program #"
   ]
  },
  {
   "attachments": {},
   "cell_type": "markdown",
   "metadata": {},
   "source": [
    "## Notes: ##\n",
    "* The System.out.println() method is a default Java method that prints whatever is specified in its parameter on a new line.\n",
    "* If you want to print a String, wrap it within double quotes inside the println parameter. Note single quotes are for characters, not Strings."
   ]
  },
  {
   "attachments": {},
   "cell_type": "markdown",
   "metadata": {},
   "source": [
    "## Examples: ##\n"
   ]
  },
  {
   "cell_type": "code",
   "execution_count": 1,
   "metadata": {
    "vscode": {
     "languageId": "java"
    }
   },
   "outputs": [
    {
     "name": "stdout",
     "output_type": "stream",
     "text": [
      "Hello, World!\n"
     ]
    }
   ],
   "source": [
    "public class Application {\n",
    "    public static void main(String[] args) {\n",
    "        System.out.println(\"Hello, World!\");\n",
    "    }\n",
    "}\n",
    "\n",
    "Application.main(null);"
   ]
  },
  {
   "attachments": {},
   "cell_type": "markdown",
   "metadata": {},
   "source": [
    "# 2. Using Variables #"
   ]
  },
  {
   "attachments": {},
   "cell_type": "markdown",
   "metadata": {},
   "source": [
    "## Notes: ##\n",
    "* Variables are essentially containers that can store values.\n",
    "* Different variable types are like containers that store different types of values.\n",
    "* You can declare and initialize variables on the same line of code (e.g. int myNumber = 7;).\n",
    "* There are 8 primitive data types in Java: byte (8-bit integer), short (16-bit integer), int (32-bit integer), long (64-bit integer), float (32-bit single-precision floating point, can contain decimals), double (64-bit double-precision floating point, can contain decimals), boolean (can only contain two possible values: true or false), and char (16-bit Unicode character)."
   ]
  },
  {
   "attachments": {},
   "cell_type": "markdown",
   "metadata": {},
   "source": [
    "## Examples: ##"
   ]
  },
  {
   "cell_type": "code",
   "execution_count": 6,
   "metadata": {
    "vscode": {
     "languageId": "java"
    }
   },
   "outputs": [
    {
     "name": "stdout",
     "output_type": "stream",
     "text": [
      "7\n",
      "8\n",
      "777\n",
      "9797\n",
      "3.1415\n",
      "324.3\n",
      "A\n",
      "true\n",
      "127\n"
     ]
    }
   ],
   "source": [
    "public class Application {\n",
    "    public static void main(String[] args) {\n",
    "        // Declare variable\n",
    "        int myNumber;\n",
    "\n",
    "        // Initialize variable value\n",
    "        myNumber = 7;\n",
    "\n",
    "        // Output variable value\n",
    "        System.out.println(myNumber);\n",
    "\n",
    "        // Different variable types\n",
    "        int myNumber2 = 8;\n",
    "        short myShort = 777;\n",
    "        long myLong = 9797;\n",
    "        double myDouble = 3.1415;\n",
    "        // Include the f at the end of the value\n",
    "        float myFloat = 324.3f;\n",
    "        char myChar = 'A';\n",
    "        boolean myBoolean = true;\n",
    "        byte myByte = 127;\n",
    "        \n",
    "        System.out.println(myNumber2);\n",
    "        System.out.println(myShort);\n",
    "        System.out.println(myLong);\n",
    "        System.out.println(myDouble);\n",
    "        System.out.println(myFloat);\n",
    "        System.out.println(myChar);\n",
    "        System.out.println(myBoolean);\n",
    "        System.out.println(myByte);\n",
    "    }\n",
    "}\n",
    "\n",
    "Application.main(null);"
   ]
  }
 ],
 "metadata": {
  "kernelspec": {
   "display_name": "Java",
   "language": "java",
   "name": "java"
  },
  "language_info": {
   "codemirror_mode": "java",
   "file_extension": ".jshell",
   "mimetype": "text/x-java-source",
   "name": "Java",
   "pygments_lexer": "java",
   "version": "11.0.16+8-post-Ubuntu-0ubuntu120.04"
  },
  "orig_nbformat": 4
 },
 "nbformat": 4,
 "nbformat_minor": 2
}
