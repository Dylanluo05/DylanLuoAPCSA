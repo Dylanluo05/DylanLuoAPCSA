{
 "cells": [
  {
   "cell_type": "markdown",
   "metadata": {},
   "source": [
    "# Vocabulary Part 2 Post\n",
    "> Vocabulary Part 2\n",
    "\n",
    "- toc: true\n",
    "- description: Vocabulary part 2 post for AP CSA\n",
    "- categories: [jupyter]\n",
    "- title: Vocabulary Part 2 Post\n",
    "- author: Dylan Luo\n",
    "- show_tags: true\n",
    "- comments: true"
   ]
  },
  {
   "cell_type": "markdown",
   "metadata": {},
   "source": [
    "* **Comparing Numbers:** To compare 2 numbers in Java, we mainly use the >, <, and == operators. == Checks if 2 numbers are equal to each others. > checks if the first number is greater than the second number. < checks if the second number is greater than the first number.\n",
    "* **Comparing Strings:** To compare 2 strings in Java, we mainly use the equals() and compareTo() method. The equals() method checks if 2 strings are equal to each other, and the compareTo() method compares string values lexicographically.\n",
    "* **Comparing Objects:** To compare 2 objects in Java, we mainly use the equals() method to check for equality between 2 objects.\n",
    "* **For Loop and Enhanced For Loop:** A for loop basically iterates through a given group of statements multiple times, and keeps running as long as the set condition evaluates to true. A for loop generally has some kind of incrementing in one of its parameter. An enhanced for loop as also known as a for-each loop, which is a type of control flow statement that iterates through each element of a data collection (e.g. arrays).\n",
    "* **While Loop vs. Do-While Loop:** A while loop executes a given group of statements multiple times as long as the boolean condition is met, and a do-while loop is also used to do the same thing, although it executes at least once, even if the boolean condition is not met.\n",
    "* **Nested Loop:** A nested loop is a loop statement inside another loop statement, or in other words, an inner loop statement within the body of an outer loop statement. It is typically used to print dimensions as in rows and loops.\n",
    "* **Class Creation:** In Java, a class is user-defined blueprint that is used to create objects. To create a class, write \"class ClassName {}.\" The naming convention for creating classes in Java is generally to capitalize the first letter of each word.\n",
    "* **Constructor:** A constructor is a special method in Java that is used to initialize values in objects, as it is called whenever an object of a class is created. To create a constructor, write \"public ClassName(){}.\""
   ]
  },
  {
   "cell_type": "code",
   "execution_count": 20,
   "metadata": {},
   "outputs": [
    {
     "name": "stdout",
     "output_type": "stream",
     "text": [
      "Comparing Numbers:\n",
      "true\n",
      "true\n",
      "true\n",
      "\n",
      "Comparing Strings:\n",
      "false\n",
      "-1\n",
      "\n",
      "Comparing Objects\n",
      "true\n",
      "false\n",
      "\n",
      "For Loop and Enhanced For Loop:\n",
      "0 1 2 3 4 5 6 7 8 9 \n",
      "0 1 2 3 4 5 6 7 \n",
      "While Loop vs. Do-While Loop:\n",
      "0 1 2 3 4 5 6 7 \n",
      "0\n",
      "\n",
      "Nested Loop:\n",
      "1 2 3 4 \n",
      "5 6 7 8 \n",
      "9 10 11 12 \n",
      "13 14 15 16 \n"
     ]
    }
   ],
   "source": [
    "public class vocabTwo {\n",
    "    public static void main(String[] args) {\n",
    "        System.out.println(\"Comparing Numbers:\");\n",
    "        int a = 5;\n",
    "        int b = 10;\n",
    "        int c = 3;\n",
    "        System.out.println(a == a);\n",
    "        System.out.println(a < b);\n",
    "        System.out.println(a > c);\n",
    "        System.out.println(\"\");\n",
    "\n",
    "        System.out.println(\"Comparing Strings:\");\n",
    "        String string1 = \"Hello World\";\n",
    "        String string2 = \"Hello!\";\n",
    "        System.out.println(string1.equals(string2));\n",
    "        System.out.println(string1.compareTo(string2));\n",
    "        System.out.println(\"\");\n",
    "\n",
    "        System.out.println(\"Comparing Objects\");\n",
    "        Integer int1 = new Integer(7);\n",
    "        Integer int2 = new Integer(7);\n",
    "        Integer int3 = new Integer(8);\n",
    "        System.out.println(int1.equals(int2));\n",
    "        System.out.println(int1.equals(int3));\n",
    "        System.out.println(\"\");\n",
    "\n",
    "        System.out.println(\"For Loop and Enhanced For Loop:\");\n",
    "        for (int i = 0; i < 10; i++) {\n",
    "            System.out.print(i + \" \");\n",
    "        }\n",
    "        System.out.println(\"\");\n",
    "        int[] forLoopArray = {0, 1, 2, 3, 4, 5, 6, 7};\n",
    "        for (int element : forLoopArray) {\n",
    "            System.out.print(element + \" \");\n",
    "        }\n",
    "        System.out.println(\"\");\n",
    "\n",
    "        System.out.println(\"While Loop vs. Do-While Loop:\");\n",
    "        int w = 0;\n",
    "        while(w < forLoopArray.length) {\n",
    "            System.out.print(forLoopArray[w] + \" \");\n",
    "            w++;\n",
    "        }\n",
    "        System.out.println(\"\");\n",
    "        int z = 0;\n",
    "        do {\n",
    "            System.out.println(z);\n",
    "        } while (z < 0);\n",
    "        System.out.println(\"\");\n",
    "\n",
    "        System.out.println(\"Nested Loop:\");\n",
    "        int[][] multiDimensionalArray = {{1, 2, 3, 4}, {5, 6, 7, 8}, {9, 10, 11, 12}, {13, 14, 15, 16}};\n",
    "        for (int i = 0; i < 4; i++) {\n",
    "            for (int j = 0; j < 4; j++) {\n",
    "                System.out.print(multiDimensionalArray[i][j] + \" \");\n",
    "            }\n",
    "            System.out.println(\"\");\n",
    "        }\n",
    "        System.out.println(\"\");\n",
    "    }\n",
    "}\n",
    "\n",
    "vocabTwo.main(null);"
   ]
  },
  {
   "cell_type": "code",
   "execution_count": 29,
   "metadata": {},
   "outputs": [
    {
     "name": "stdout",
     "output_type": "stream",
     "text": [
      "7\n",
      "Hello, World!\n"
     ]
    }
   ],
   "source": [
    "// Class Creation\n",
    "public class Main {\n",
    "    // Variable x is declared\n",
    "    int x;\n",
    "    // Constructor\n",
    "    public Main() {\n",
    "        // Variable x is assigned a value 7\n",
    "        x = 7;\n",
    "    }\n",
    "\n",
    "    public void printMessage() {\n",
    "        System.out.println(\"Hello, World!\");\n",
    "    }\n",
    "}\n",
    "\n",
    "class Tester {\n",
    "    public static void main(String[] args) {\n",
    "        // Create an object with an attribute \"x\" immediately initialized due to the constructor.\n",
    "        Main myObj = new Main();\n",
    "        System.out.println(myObj.x);\n",
    "        myObj.printMessage();\n",
    "    }\n",
    "}\n",
    "\n",
    "Tester.main(null);"
   ]
  }
 ],
 "metadata": {
  "kernelspec": {
   "display_name": "Java",
   "language": "java",
   "name": "java"
  },
  "language_info": {
   "codemirror_mode": "java",
   "file_extension": ".jshell",
   "mimetype": "text/x-java-source",
   "name": "java",
   "pygments_lexer": "java",
   "version": "11.0.16+8-post-Ubuntu-0ubuntu120.04"
  },
  "orig_nbformat": 4,
  "vscode": {
   "interpreter": {
    "hash": "916dbcbb3f70747c44a77c7bcd40155683ae19c65e1c03b4aa3499c5328201f1"
   }
  }
 },
 "nbformat": 4,
 "nbformat_minor": 2
}
