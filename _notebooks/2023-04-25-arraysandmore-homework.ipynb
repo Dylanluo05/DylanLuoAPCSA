{
 "cells": [
  {
   "attachments": {},
   "cell_type": "markdown",
   "metadata": {},
   "source": [
    "# Arrays and More Homework Post\n",
    "> Arrays and More Homework Post\n",
    "\n",
    "- toc: true\n",
    "- description: Arrays and more homework blog post for AP CSA\n",
    "- categories: [jupyter]\n",
    "- title: Arrays and More Homework Post\n",
    "- author: Dylan Luo\n",
    "- show_tags: true\n",
    "- comments: true"
   ]
  },
  {
   "attachments": {},
   "cell_type": "markdown",
   "metadata": {},
   "source": [
    "# Hack: Create method that sets all elements in array to n"
   ]
  },
  {
   "cell_type": "code",
   "execution_count": 1,
   "metadata": {},
   "outputs": [
    {
     "name": "stdout",
     "output_type": "stream",
     "text": [
      "10\n",
      "10\n",
      "10\n",
      "10\n",
      "10\n",
      "10\n",
      "10\n",
      "10\n",
      "10\n",
      "10\n"
     ]
    }
   ],
   "source": [
    "// Function to set all elements in array to specified integer\n",
    "void setArray(int[] arr, int n) {\n",
    "    for (int i = 0; i < arr.length; i++) {\n",
    "        arr[i] = n;\n",
    "    }\n",
    "}\n",
    "\n",
    "int[] array = new int[10];\n",
    "\n",
    "// Set all elements to 10\n",
    "setArray(array, 10);\n",
    "\n",
    "for (int i = 0; i < array.length; i++) {\n",
    "    System.out.println(array[i]);\n",
    "}\n",
    "\n",
    "// Should print all 10s when working properly\n"
   ]
  },
  {
   "attachments": {},
   "cell_type": "markdown",
   "metadata": {},
   "source": [
    "# Hack: Write an array to find the average of an array #"
   ]
  },
  {
   "cell_type": "code",
   "execution_count": 6,
   "metadata": {},
   "outputs": [
    {
     "name": "stdout",
     "output_type": "stream",
     "text": [
      "5.4\n"
     ]
    }
   ],
   "source": [
    "//Example finding the average an array. \n",
    "\n",
    "//Finds the average of an array\n",
    "public static double average(int[] array) {\n",
    "    // Initialize sum to be 0\n",
    "    int sum = 0;\n",
    "    // Add all elements to sum\n",
    "    for (int item : array) {\n",
    "        sum += item;\n",
    "    }\n",
    "    // Divide sum by total number of elements to get the average. Note the double cast\n",
    "    double average = (double) sum/array.length;\n",
    "    return average;\n",
    "}\n",
    "\n",
    "//tester array\n",
    "int[] test = {3, 5, 7, 2, 10};\n",
    "\n",
    "//returns 5.4\n",
    "System.out.println(average(test));"
   ]
  },
  {
   "attachments": {},
   "cell_type": "markdown",
   "metadata": {},
   "source": [
    "# Hack: Find the average number of a diagonal in a 2d array\n",
    "For example, here find the average of the bolded #s<br>\n",
    "**1** 2 3 4<br>\n",
    "5 **6** 7 8<br>\n",
    "9 1 **2** 3<br>"
   ]
  },
  {
   "cell_type": "markdown",
   "metadata": {},
   "source": []
  },
  {
   "cell_type": "code",
   "execution_count": 1,
   "metadata": {},
   "outputs": [
    {
     "name": "stdout",
     "output_type": "stream",
     "text": [
      "8.6\n"
     ]
    }
   ],
   "source": [
    "public static double averageDiagonal (int[][] array2D) {\n",
    "    // Initialize important variables to control the function\n",
    "    int sum = 0;\n",
    "    int index = 0;\n",
    "    int count = 0;\n",
    "    // Loop through the 2d array by checking each row\n",
    "    for (int[] array : array2D) {\n",
    "        // Using the index variable, check the elements in a diagonal (going bottom right), \n",
    "        // adding them to the sum until there is no more elements in the current diagonal position\n",
    "        try {\n",
    "            sum += array[index];\n",
    "            index++;\n",
    "            count++;\n",
    "        } catch (Exception e) {\n",
    "            break;\n",
    "        }\n",
    "    }\n",
    "    // Divide sum by total number of elements and double cast in order to find the average value\n",
    "    double average = (double) sum/count;\n",
    "    return average;\n",
    "}\n",
    "\n",
    "int[][] arr = {\n",
    "    {1,2,3,4,5,6},\n",
    "    {7,8,9,10,11,12},\n",
    "    {0,1,2,3,4,5},\n",
    "    {10,11,12,13,14,15},\n",
    "    {15,16,17,18,19,20}\n",
    "};\n",
    "\n",
    "System.out.println(averageDiagonal(arr));"
   ]
  },
  {
   "attachments": {},
   "cell_type": "markdown",
   "metadata": {},
   "source": [
    "# FRQ 2018 Q4 #"
   ]
  },
  {
   "cell_type": "code",
   "execution_count": null,
   "metadata": {},
   "outputs": [],
   "source": [
    "public class ArrayTester {\n",
    "    public static int[] getColumn(int[][] arr2D, int c) {\n",
    "        // Create 1D array that will contain the column values\n",
    "        int[] column = new int[arr2D.length];\n",
    "        // Add all values in the specified column to the column array. Iterate through each row\n",
    "        for (int i = 0; i < arr2D.length; i++) {\n",
    "            column[i] = arr2D[i][c];\n",
    "        }\n",
    "        return column;\n",
    "    }   \n",
    "\n",
    "    public static boolean hasAllValues(int[] arr1, int[] arr2) {\n",
    "        // Implementation not shown\n",
    "    }\n",
    "\n",
    "    public static boolean containsDuplicates(int[] arr) {\n",
    "        // Implementation not shown\n",
    "    }\n",
    "\n",
    "    public static boolean isLatin(int[][] square) {\n",
    "        // Get the first row array of the 2D array\n",
    "        int[] firstRow = square[0];\n",
    "        // Check if the first row contains any duplicate values\n",
    "        if (containsDuplicates(firstRow) != true) {\n",
    "            return false;\n",
    "        }\n",
    "        // For each row under the first, check if it contains all of the values of the first row\n",
    "        for (int i = 1; i < square.length; i++) {\n",
    "            if (hasAllValues(firstRow, square[i]) != true) {\n",
    "                return false;\n",
    "            }\n",
    "        }\n",
    "        // For each column in the square, check if it contains all of the values of the first row\n",
    "        for (int j = 0; j < square[0].length; j++) {\n",
    "            int[] column = getColumn(square, j);\n",
    "            if (hasAllValues(firstRow, column) != true) {\n",
    "                return false;\n",
    "            }\n",
    "        }\n",
    "        return true;\n",
    "    }\n",
    "}\n"
   ]
  },
  {
   "attachments": {},
   "cell_type": "markdown",
   "metadata": {},
   "source": [
    "# FRQ 2017 Q4 #"
   ]
  },
  {
   "cell_type": "code",
   "execution_count": null,
   "metadata": {},
   "outputs": [],
   "source": [
    "// Position class that will be processed by the Successors class\n",
    "public class Position {\n",
    "    public Position(int r, int c) {\n",
    "        // Implementation not shown\n",
    "    }\n",
    "}\n",
    "\n",
    "public class Successors {\n",
    "    // Static function to return the position (row and column) of the searched value\n",
    "    public static Position findPosition(int num, int[][] intArr) {\n",
    "        boolean found = false;\n",
    "        // Iterate through rows and columns to search through every element of the 2D array\n",
    "        for (int i = 0; i < intArr.length; i++) {\n",
    "            for (int j = 0; j < intArr[i].length; j++) {\n",
    "                // Stop the search once the element is found\n",
    "                if (intArr[i][j] == num) {\n",
    "                    found = true;\n",
    "                    Position positionObject = new Position(i, j);\n",
    "                    break;\n",
    "                }\n",
    "            }\n",
    "        }\n",
    "        // Return null if the element is not found\n",
    "        if (found == false) {\n",
    "            return null;\n",
    "        } else {\n",
    "            return positionObject;\n",
    "        }\n",
    "        \n",
    "    }\n",
    "\n",
    "    // Static function\n",
    "    public static Position[][] getSuccessorArray(int[][] intArr) {\n",
    "        // Instantiate new array with the same dimensions as intArr\n",
    "        Position[][] successorArray = new Position[intArr.length][intArr[0].length];\n",
    "        // Set a Position object (position of respective intArr element + 1) for each element of successorArray\n",
    "        for (int i = 0; i < successorArray.length; i++) {\n",
    "            for (int j = 0; j < successorArray[i].length; j++) {\n",
    "                successorArray[i][j] = findPosition(intArr[i][j] + 1, intArr);\n",
    "            }\n",
    "        }\n",
    "        \n",
    "        return successorArray;\n",
    "    }\n",
    "}"
   ]
  },
  {
   "attachments": {},
   "cell_type": "markdown",
   "metadata": {},
   "source": [
    "# FRQ 2016 Q4 #"
   ]
  },
  {
   "cell_type": "code",
   "execution_count": null,
   "metadata": {},
   "outputs": [],
   "source": [
    "public class StringFormatter {\n",
    "    public static int totalLetters(List<String> wordList) {\n",
    "        int total = 0;\n",
    "        // Add the length of every word in wordList to get the total letters\n",
    "        for (int i = 0; i < wordList.size(); i++) {\n",
    "            total += wordList.get(i).length();\n",
    "        }\n",
    "        return total;\n",
    "    }\n",
    "\n",
    "    public static int basicGapWidth(List<String> wordList, int formattedLen) {\n",
    "        // Get the number of gaps for the wordList\n",
    "        int numGaps = wordList.size() - 1;\n",
    "        // Get the number of spaces by subtracting the total letters from the formatted sentence length\n",
    "        int numSpaces = formattedLen - totalLetters(wordList);\n",
    "        // Divide using int type to get rid of remainders, effectively getting the basic gap width\n",
    "        int gapWidth = numSpaces/numGaps;\n",
    "        return gapWidth;\n",
    "    }\n",
    "\n",
    "    public static int leftoverSpaces(List<String> wordList, int formattedLen) {\n",
    "        // Implementation not shown\n",
    "    }\n",
    "\n",
    "    public static String format(List<String> wordList, int formattedLen) {\n",
    "        // Instantiate empty string that will ultimately contain the formatted string\n",
    "        String formattedString = \"\";\n",
    "        // Get leftover spaces\n",
    "        int leftover = leftoverSpaces(wordList, formattedLen);\n",
    "        // Get basic gap width\n",
    "        int gapWidth = basicGapWidth(wordList, formattedLen);\n",
    "        for (int i = 0; i < wordList.size(); i++) {\n",
    "            // Add each word to formattedString\n",
    "            formattedString += wordList.get(i);\n",
    "            // If not the last word, add the basic gap width, as well as a leftover space if applicable\n",
    "            if (i < wordList.size() - 1) {\n",
    "                for (int j = 0; j < gapWidth; j++) {\n",
    "                    formattedString += \" \";\n",
    "                }\n",
    "                if (leftover > 0) {\n",
    "                    formattedString += \" \";\n",
    "                    leftover--;\n",
    "                }\n",
    "            }\n",
    "        }\n",
    "\n",
    "        return formattedString;\n",
    "    }\n",
    "}"
   ]
  }
 ],
 "metadata": {
  "kernelspec": {
   "display_name": "Java",
   "language": "java",
   "name": "java"
  },
  "language_info": {
   "codemirror_mode": "java",
   "file_extension": ".jshell",
   "mimetype": "text/x-java-source",
   "name": "java",
   "pygments_lexer": "java",
   "version": "11.0.16+8-post-Ubuntu-0ubuntu120.04"
  },
  "orig_nbformat": 4
 },
 "nbformat": 4,
 "nbformat_minor": 2
}
