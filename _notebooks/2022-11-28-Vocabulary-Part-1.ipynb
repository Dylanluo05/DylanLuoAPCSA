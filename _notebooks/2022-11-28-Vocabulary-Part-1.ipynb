{
 "cells": [
  {
   "cell_type": "markdown",
   "metadata": {},
   "source": [
    "# Vocabulary Part 1 Post\n",
    "> Vocabulary Part 1\n",
    "\n",
    "- toc: true\n",
    "- description: Vocabulary part 1 post for AP CSA\n",
    "- categories: [jupyter]\n",
    "- title: Vocabulary Part 1 Post\n",
    "- author: Dylan Luo\n",
    "- show_tags: true\n",
    "- comments: true"
   ]
  },
  {
   "cell_type": "markdown",
   "metadata": {},
   "source": [
    "* **Casting (Division):** In coding, float/float = float, float/int = float, int/float = float, and int/int. As shown, you only need to cast one of each number in division operations.\n",
    "* **Casting (Truncating and Rounding):** Truncation removes the decimal portion of the number, while rounding alters a number to the nearest one less precise decimal place. Casting from double to int will result in truncation.\n",
    "* **Wrapper Classes:** Wrapper classes allow primitive data types such as int and boolean to be used as objects. The wrapper class of int is Integer. When using ArrayLists, which only store objects, we use the wrapper class Integer instead of int.\n",
    "* **Concatenation:** The \"+\" operator is used to achieve concatenation, which is typically used to combine strings. When combining a string and 2 ints, the 2 ints will not be mathematically computed and will be transformed into strings from the beginning.\n",
    "* **Math Class:** The Math class can be utilized to perform various math operations such as power and square root on number variables. The Math.random() method can be used to generate a random number. Math.random() * (max - min) + min; will generate a random number between min and max, including min but excluding max.\n",
    "* **Compound Boolean Expression:** Created by the && symbol and multiple boolean expressions, a compound boolean expression makes it so that if the first expression is false, then the whole expression will also be false. All expressions need to be true in order for a compound boolean expression to return true.\n",
    "* **Truth Tables:** Truth tables display all of the possible values of a logic function. Truth tables generally comprise of several rows and columns, with the top row containing all of the logical variables and combinations, and the bottom rows containing all of the possible outputs.\n",
    "* **De Morgan's Law:** De Morgan's Law basically states that the complement of the union of 2 sets is the intersection of their complements and that the complement of the intersection of 2 sets is the union of their complements."
   ]
  },
  {
   "cell_type": "code",
   "execution_count": 20,
   "metadata": {},
   "outputs": [
    {
     "name": "stdout",
     "output_type": "stream",
     "text": [
      "Casting (Division):\n",
      "1\n",
      "1.5\n",
      "1.5\n",
      "1.5\n",
      "\n",
      "Casting (Truncating and Rounding):\n",
      "3\n",
      "\n",
      "Wrapper Classes:\n",
      "ArrayList<Integer> works, but ArrayList<int> does not; []\n",
      "\n",
      "Concatenation:\n",
      "one + two + three = Hey23\n",
      "two + three + one = 23Hey\n",
      "two + one + three = 2Hey3\n",
      "\n",
      "Math Class\n",
      "Randomly generated number between 1 and 10, inclusive: 9\n",
      "\n",
      "Compound Boolean Expression\n",
      "true\n",
      "false\n",
      "\n",
      "De Morgan's Law\n",
      "true\n",
      "true\n",
      "\n"
     ]
    }
   ],
   "source": [
    "import java.util.ArrayList;\n",
    "\n",
    "public class vocabOne {\n",
    "    public static void main(String[] args) {\n",
    "        System.out.println(\"Casting (Division):\");\n",
    "        int x = 2;\n",
    "        int y = 3;\n",
    "        System.out.println(y/x);\n",
    "        System.out.println((float) y/ x);\n",
    "        System.out.println(y/ (float) x);\n",
    "        System.out.println((float) y/ (float) x);\n",
    "        System.out.println(\"\");\n",
    "\n",
    "        System.out.println(\"Casting (Truncating and Rounding):\");\n",
    "        double w = 3.7;\n",
    "        System.out.println((int) w);\n",
    "        System.out.println(\"\");\n",
    "\n",
    "        System.out.println(\"Wrapper Classes:\");\n",
    "        ArrayList<Integer> testArrayList = new ArrayList<Integer>();\n",
    "        System.out.println(\"ArrayList<Integer> works, but ArrayList<int> does not; \" + testArrayList);\n",
    "        System.out.println(\"\");\n",
    "\n",
    "        System.out.println(\"Concatenation:\");\n",
    "        String one = \"Hey\";\n",
    "        int two = 2;\n",
    "        int three = 3;\n",
    "        System.out.println(\"one + two + three = \" + one + two + three);\n",
    "        System.out.println(\"two + three + one = \" + two + three + one);\n",
    "        System.out.println(\"two + one + three = \" + two + one + three);\n",
    "        System.out.println(\"\");\n",
    "\n",
    "        System.out.println(\"Math Class:\");\n",
    "        int min = 1;\n",
    "        int max = 11;\n",
    "        int randInt = (int) Math.floor(Math.random() * (max - min) + min);\n",
    "        System.out.println(\"Randomly generated number between 1 and 10, inclusive: \" + randInt);\n",
    "        System.out.println(\"\");\n",
    "\n",
    "        System.out.println(\"Compound Boolean Expression:\");\n",
    "        int i = 5;\n",
    "        int j = 10;\n",
    "        System.out.println(i == 5 && j == 10);\n",
    "        System.out.println(i == 5 && j == 5);\n",
    "        System.out.println(\"\");\n",
    "\n",
    "        System.out.println(\"De Morgan's Law:\");\n",
    "        System.out.println(!(i == 5 && j == 5));\n",
    "        System.out.println(!(i == 5) || !(j == 5));\n",
    "        System.out.println(\"\");\n",
    "    }\n",
    "}    \n",
    "\n",
    "vocabOne.main(null);"
   ]
  }
 ],
 "metadata": {
  "kernelspec": {
   "display_name": "Java",
   "language": "java",
   "name": "java"
  },
  "language_info": {
   "codemirror_mode": "java",
   "file_extension": ".jshell",
   "mimetype": "text/x-java-source",
   "name": "java",
   "pygments_lexer": "java",
   "version": "11.0.16+8-post-Ubuntu-0ubuntu120.04"
  },
  "orig_nbformat": 4
 },
 "nbformat": 4,
 "nbformat_minor": 2
}
