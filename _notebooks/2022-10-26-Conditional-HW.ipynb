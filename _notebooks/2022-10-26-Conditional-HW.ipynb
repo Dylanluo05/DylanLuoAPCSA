{
 "cells": [
  {
   "cell_type": "markdown",
   "metadata": {},
   "source": [
    "# Boolean Expressions and If Else Statements HW Post\n",
    "> Boolean Expressions and If Else Statements HW\n",
    "\n",
    "- toc: true\n",
    "- description: Boolean expressions and if else statements post for AP CSA\n",
    "- categories: [jupyter]\n",
    "- title: Boolean Expressions and If Else Statements Post\n",
    "- author: Dylan Luo\n",
    "- show_tags: true\n",
    "- comments: true"
   ]
  },
  {
   "cell_type": "markdown",
   "metadata": {},
   "source": [
    "2009 FRQ 3b"
   ]
  },
  {
   "cell_type": "code",
   "execution_count": 46,
   "metadata": {},
   "outputs": [
    {
     "name": "stdout",
     "output_type": "stream",
     "text": [
      "3710\n"
     ]
    }
   ],
   "source": [
    "public class BatteryCharger {\n",
    "    private int[] rateTable = {50, 60, 160, 60, 80, 100, 100, 120, 150, 150, 150, 200, 40, 240, 220, 220, 200, 200, 180, 180, 140, 100, 80, 60};\n",
    "\n",
    "    private int getChargingCost(int startHour, int chargeTime) {\n",
    "        int totalCost = 0;\n",
    "\n",
    "        for (int i = startHour; i < startHour + chargeTime; i++) {\n",
    "            if (i >= 24) {\n",
    "                int temp = i % 24;\n",
    "                totalCost += rateTable[temp];\n",
    "            } else {\n",
    "                totalCost += rateTable[i];\n",
    "            }\n",
    "        }\n",
    "        return totalCost;\n",
    "    } \n",
    "\n",
    "    public static void main(String[] args) {\n",
    "        BatteryCharger myObj = new BatteryCharger();\n",
    "        System.out.println(myObj.getChargingCost(22, 30));\n",
    "    }\n",
    "}\n",
    "\n",
    "BatteryCharger.main(null);"
   ]
  },
  {
   "cell_type": "markdown",
   "metadata": {},
   "source": [
    "2017 FRQ 1b"
   ]
  },
  {
   "cell_type": "code",
   "execution_count": 34,
   "metadata": {},
   "outputs": [
    {
     "name": "stdout",
     "output_type": "stream",
     "text": [
      "true\n"
     ]
    }
   ],
   "source": [
    "public class Digits {\n",
    "    \n",
    "    private ArrayList<Integer> digitList;\n",
    "\n",
    "    public Digits(int num) {\n",
    "        Integer number = num;\n",
    "        digitList = new ArrayList<Integer>();\n",
    "        String numberNew = number.toString();\n",
    "        for (int i = 0; i < numberNew.length(); i++) {\n",
    "            int numberNewDigit = Character.getNumericValue(numberNew.charAt(i));\n",
    "            digitList.add(numberNewDigit);\n",
    "        }\n",
    "    }\n",
    "\n",
    "    public boolean isStrictlyIncreasing() {\n",
    "        if (digitList.size() < 2) {\n",
    "            return true;\n",
    "        }\n",
    "        for (int a = 0; a < digitList.size() - 1; a++) {\n",
    "            if (digitList.get(a) >= digitList.get(a + 1)) {\n",
    "                return false;\n",
    "            }\n",
    "        }\n",
    "        return true;\n",
    "    }\n",
    "\n",
    "    public void test() {\n",
    "        for (int i = 0; i < digitList.size(); i++) {\n",
    "            System.out.println(digitList.get(i));\n",
    "        }\n",
    "    }\n",
    "\n",
    "    public static void main(String[] args) {\n",
    "        Digits myObj = new Digits(1234578);\n",
    "        System.out.println(myObj.isStrictlyIncreasing());\n",
    "    }\n",
    "}\n",
    "\n",
    "\n",
    "Digits.main(null);"
   ]
  },
  {
   "cell_type": "markdown",
   "metadata": {},
   "source": [
    "2019 FRQ 3b"
   ]
  },
  {
   "cell_type": "code",
   "execution_count": null,
   "metadata": {},
   "outputs": [],
   "source": [
    "public class Delimiters {\n",
    "    private String openDel;\n",
    "    private String closeDel;\n",
    "\n",
    "    public Delimiters(String open, String close) {\n",
    "        openDel = open;\n",
    "        closeDel = close;\n",
    "    }\n",
    "}"
   ]
  }
 ],
 "metadata": {
  "kernelspec": {
   "display_name": "Java",
   "language": "java",
   "name": "java"
  },
  "language_info": {
   "codemirror_mode": "java",
   "file_extension": ".jshell",
   "mimetype": "text/x-java-source",
   "name": "java",
   "pygments_lexer": "java",
   "version": "11.0.16+8-post-Ubuntu-0ubuntu120.04"
  },
  "orig_nbformat": 4,
  "vscode": {
   "interpreter": {
    "hash": "916dbcbb3f70747c44a77c7bcd40155683ae19c65e1c03b4aa3499c5328201f1"
   }
  }
 },
 "nbformat": 4,
 "nbformat_minor": 2
}
