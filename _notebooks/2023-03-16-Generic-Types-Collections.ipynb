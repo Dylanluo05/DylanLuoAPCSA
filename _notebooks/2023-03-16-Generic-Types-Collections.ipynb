{
 "cells": [
  {
   "attachments": {},
   "cell_type": "markdown",
   "metadata": {},
   "source": [
    "# Generic Types and Collections Post\n",
    "> Generic Types and Collections Post\n",
    "\n",
    "- toc: true\n",
    "- description: Generic types and collections blog post for AP CSA\n",
    "- categories: [jupyter]\n",
    "- title: Generic Types and Collections Post\n",
    "- author: Dylan Luo\n",
    "- show_tags: true\n",
    "- comments: true"
   ]
  },
  {
   "attachments": {},
   "cell_type": "markdown",
   "metadata": {},
   "source": [
    "## Classes and Objects: ##\n",
    "* A class is like a \"blueprint\" for creating objects.\n",
    "* Class attributes are variables within a class, and class methods are methods within a class.\n",
    "* Constructors:\n",
    "    * A constructor is essentially a special method that is ran whenever an object of a class is initialized, and is typically used to set initial object attribute values.\n",
    "    * The constructor name has to match the class name.\n",
    "    * All classes have constructors by default. The default constructor does not set any values in the class.\n",
    "* Access Modifiers:\n",
    "    * Access modifiers control the access level of classes, their attributes, and their methods.\n",
    "    * Class Access Modifiers:\n",
    "        * public - class is accessible by any other class.\n",
    "        * default - class is only accessible by any classes in the same package.\n",
    "    * Attribute, Method, and Constructor Access Modifiers:\n",
    "        * public - Code is accessible for all classes.\n",
    "        * private - Code is only accessible within the class.\n",
    "        * default - Code is only accessible in the same package.\n",
    "        * protected - Code is accessible in the same package and any subclasses.\n",
    "* Modifiers:\n",
    "    * Non-access modifiers provide different kinds of functionality regarding the behavior of classes, attributes, and methods.\n",
    "    * Class Non-Access Modifiers:\n",
    "        * final - Class cannot be inherited by other classes.\n",
    "        * abstract - Objects cannot be created from the class, as it can only be accessed from a subclass that inherits it.\n",
    "    * Attribute, Method, and Constructor Non-Access Modifier:\n",
    "        * final - Code cannot be modified.\n",
    "        * static - Code belongs to the class instead of an object.\n",
    "        * abstract (methods) - Code can only be located in an abstract class. Body of code is provided in the subclass.\n",
    "        * transient - Code is skipped over when the object containing it is serialized.\n",
    "        * synchronized (methods) - Code is accessed one thread at a time.\n",
    "        * volatile (attributes) - The value of code is not cached thread-locally, but is stored in the main memory.\n",
    "    * Getters and Setters:\n",
    "        * Getters and Setters are typically used to provide access to private variables.\n",
    "        * Encapsulation is basically the process of keeping sensitive data hidden or \"private\" from users.\n",
    "        * get and set methods are typically public, allowing us to access private variables from outside the class.\n",
    "        * Getters return the variable value, while Setters set the variable value.\n",
    "        * get method:\n",
    "            * private String name;\n",
    "            * public String getName() {\n",
    "                return name;\n",
    "            }\n",
    "        * set method:\n",
    "            * private String name;\n",
    "            * public void setName(String newName) {\n",
    "                this.name = newName;\n",
    "            }\n",
    "\n",
    "## Linked List: ##\n",
    "\n",
    "\n",
    "## Queue: ##\n",
    "\n",
    "## Stack: ##"
   ]
  },
  {
   "cell_type": "markdown",
   "metadata": {},
   "source": []
  }
 ],
 "metadata": {
  "kernelspec": {
   "display_name": "Java",
   "language": "java",
   "name": "java"
  },
  "language_info": {
   "name": "java"
  },
  "orig_nbformat": 4
 },
 "nbformat": 4,
 "nbformat_minor": 2
}
