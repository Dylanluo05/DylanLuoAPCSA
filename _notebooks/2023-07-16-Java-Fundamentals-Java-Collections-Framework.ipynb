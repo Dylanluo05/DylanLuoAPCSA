{
 "cells": [
  {
   "cell_type": "markdown",
   "metadata": {},
   "source": [
    "# Java Fundamentals - Java Collections Framework Notes\n",
    "> Java Fundamentals - Java Collections Framework Notes\n",
    "\n",
    "- toc: true\n",
    "- description: Java Fundamentals Post for Java Collections Framework notes\n",
    "- categories: [jupyter]\n",
    "- title: Java Fundamentals - Java Collections Framework Notes\n",
    "- author: Dylan Luo\n",
    "- show_tags: true\n",
    "- comments: true"
   ]
  },
  {
   "cell_type": "markdown",
   "metadata": {},
   "source": [
    "# 49. ArrayLists #"
   ]
  },
  {
   "cell_type": "markdown",
   "metadata": {},
   "source": [
    "## Notes: ##\n",
    "* The Java Collections framework defines a group of classes that each have some sort of architecture used for grouping collections of individual objects. A framework is basically a platform of pre-written code (typically includes multitudes of classes and interfaces) used to assist programmers with creating applications, usually in the form of providing useful attributes and methods to help keep programmers' code concise.\n",
    "* The ArrayList class, which a part of the Java Collections framework, is essentially utilized to define a special type of array that is resizable and mutable. Basically, an ArrayList can change itself (size and content) dynamically. ArrayList is a Generic class, meaning it takes a parameterized type that specifies the data type it will work with (similar to defining the data type stored by an array).\n",
    "* An ArrayList basically stores an internal array within itself, and whenever the size of the internal array has to change to accommodate for appended or removed elements, the ArrayList copies all of the elements to a new array with the new changes implemented.\n",
    "* Whenever you remove an element from an ArrayList, the indices all of the elements after that element change (decrement by 1), as the ArrayList has to fill up the hole left by the removed element.\n",
    "* The capacity of an ArrayList is different from its size in that the capacity defines the number of elements the ArrayList can store without changing the size of its internal array, while the size is the number of actual data/elements saved within the ArrayList. The capacity of an ArrayList can be manually specified, but is by default 10 elements, and will dynamically grow with the elements appended to the ArrayList (after capacity has been exceeded), but will remain constant when elements are removed from the ArrayList (unless trimToSize() method is used). The size of an ArrayList starts off at 0 if the ArrayList is initialized as empty, and will change in correspondence to elements being added to or removed from the ArrayList.\n",
    "* The classes in the Collections framework are grouped by different interfaces (e.g. The list classes such as ArrayList and LinkedList implement the List interface)."
   ]
  },
  {
   "cell_type": "markdown",
   "metadata": {},
   "source": [
    "## Examples: ##"
   ]
  },
  {
   "cell_type": "code",
   "execution_count": 17,
   "metadata": {
    "vscode": {
     "languageId": "java"
    }
   },
   "outputs": [
    {
     "name": "stdout",
     "output_type": "stream",
     "text": [
      "3\n",
      "10\n",
      "\n",
      "First iteration:\n",
      "10\n",
      "100\n",
      "40\n",
      "\n",
      "Removing Elements:\n",
      "40\n",
      "\n",
      "Second Iteration:\n",
      "100\n"
     ]
    }
   ],
   "source": [
    "// Import the ArrayList class, a part of the Collections framework, from the java.util package\n",
    "import java.util.ArrayList;\n",
    "// Import List interface\n",
    "import java.util.List;\n",
    "\n",
    "public class Application {\n",
    "    public static void main(String[] args) {\n",
    "        // Initialize ArrayList of parameterized type Integer, and defines its capacity as 3\n",
    "        // Cannot define parameterized type with primitive type directly; have to define with wrapper class counterpart, since Generics store objects\n",
    "        // After defining wrapper class of int (Integer), we can store and access primitive integer data to and from the ArrayList\n",
    "        ArrayList<Integer> numbers = new ArrayList<Integer>(3);\n",
    "\n",
    "        // Append elements to ArrayList (can append values directly or values of variables) will dynamically change its size\n",
    "        numbers.add(10);\n",
    "        numbers.add(100);\n",
    "        numbers.add(40);\n",
    "\n",
    "        // Get size of ArrayList\n",
    "        System.out.println(numbers.size());\n",
    "\n",
    "        // Retrieving elements of ArrayList via their index, since ArrayLists are ordered, as well as zero-indexed, just like arrays\n",
    "        System.out.println(numbers.get(0));\n",
    "\n",
    "        System.out.println(\"\\nFirst iteration:\");\n",
    "        // Iterate through elements of ArrayList using normal for loop\n",
    "        // Define for loop capacity with size of ArrayList. size() method to get number of elements in ArrayList\n",
    "        for (int i = 0; i < numbers.size(); i++) {\n",
    "            System.out.println(numbers.get(i));\n",
    "        }\n",
    "\n",
    "        System.out.println(\"\\nRemoving Elements:\");\n",
    "        // Removing elements from ArrayList via their index will also dynamically change its size\n",
    "        // Print the element that was removed from ArrayList\n",
    "        System.out.println(numbers.remove(numbers.size() - 1));\n",
    "        // Removing the first element may cause the program to take more time than removing the last element, since removing the first element will cause the indices of all subsequent elements to change\n",
    "        numbers.remove(0);\n",
    "\n",
    "        System.out.println(\"\\nSecond Iteration:\");\n",
    "        // Enhanced for loop to iterate through ArrayList\n",
    "        // Can use type Integer instead of int, since both data types equate to each other in terms of what the data they can store (int is primitive counterpart while Integer is object counterpart)\n",
    "        // Just a reminder that Integer and int can be converted to each other without manual type casting. Just assigning the value will be automatically converted, since their is no conversion risks (e.g. there is low risk of lossy conversion)\n",
    "        for (int value : numbers) {\n",
    "            System.out.println(value);\n",
    "        }\n",
    "\n",
    "        // The values object variable is of object type ArrayList but of interface variable type List. Notice how List also takes parameterized types\n",
    "        // This means that values can only implement the attributes and methods defined in List, but not those exclusive to ArrayList\n",
    "        // Nonetheless, values can still be considered an ArrayList, and can call the properties of ArrayList that are defined in List\n",
    "        List<String> values = new ArrayList<String>();\n",
    "    }\n",
    "}\n",
    "\n",
    "Application.main(null);"
   ]
  }
 ],
 "metadata": {
  "kernelspec": {
   "display_name": "Java",
   "language": "java",
   "name": "java"
  },
  "language_info": {
   "codemirror_mode": "java",
   "file_extension": ".jshell",
   "mimetype": "text/x-java-source",
   "name": "Java",
   "pygments_lexer": "java",
   "version": "11.0.16+8-post-Ubuntu-0ubuntu120.04"
  },
  "orig_nbformat": 4
 },
 "nbformat": 4,
 "nbformat_minor": 2
}
