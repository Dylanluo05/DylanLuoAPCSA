{
 "cells": [
  {
   "cell_type": "markdown",
   "metadata": {},
   "source": [
    "# Java Fundamentals - Java Collections Framework Notes\n",
    "> Java Fundamentals - Java Collections Framework Notes\n",
    "\n",
    "- toc: true\n",
    "- description: Java Fundamentals Post for Java Collections Framework notes\n",
    "- categories: [jupyter]\n",
    "- title: Java Fundamentals - Java Collections Framework Notes\n",
    "- author: Dylan Luo\n",
    "- show_tags: true\n",
    "- comments: true"
   ]
  },
  {
   "cell_type": "markdown",
   "metadata": {},
   "source": [
    "# 49. ArrayLists #"
   ]
  },
  {
   "cell_type": "markdown",
   "metadata": {},
   "source": [
    "## Notes: ##\n",
    "* The Java Collections framework defines a group of classes that each have some sort of architecture used for grouping collections of individual objects. A framework is basically a platform of pre-written code (typically includes multitudes of classes and interfaces) used to assist programmers with creating applications, usually in the form of providing useful attributes and methods to help keep programmers' code concise.\n",
    "* The ArrayList class, which a part of the Java Collections framework, is essentially utilized to define a special type of array that is resizable and mutable. Basically, an ArrayList can change itself (size and content) dynamically. ArrayList is a Generic class, meaning it takes a parameterized type that specifies the data type it will work with (similar to defining the data type stored by an array).\n",
    "* An ArrayList basically stores an internal array within itself, and whenever the internal array is updated whenever the ArrayList has to account for added or removed elements. When the size of the ArrayList exceeds its capacity, the ArrayList copies all of the elements to a new internal array with the new changes implemented.\n",
    "* Whenever you remove an element from an ArrayList, the indices all of the elements after that element change (decrement by 1), as the ArrayList has to fill up the hole left by the removed element.\n",
    "* The capacity of an ArrayList is different from its size in that the capacity defines the number of elements the ArrayList can store without changing the size of its internal array, while the size is the number of actual data/elements saved within the ArrayList. The capacity of an ArrayList can be manually specified, but is by default 10 elements, and will dynamically grow with the elements appended to the ArrayList (after capacity has been exceeded), but will remain constant when elements are removed from the ArrayList (unless trimToSize() method is used). The size of an ArrayList starts off at 0 if the ArrayList is initialized as empty, and will change in correspondence to elements being added to or removed from the ArrayList.\n",
    "* The classes in the Collections framework are grouped by different interfaces (e.g. The list classes such as ArrayList and LinkedList implement the List interface)."
   ]
  },
  {
   "cell_type": "markdown",
   "metadata": {},
   "source": [
    "## Examples: ##"
   ]
  },
  {
   "cell_type": "code",
   "execution_count": 3,
   "metadata": {
    "vscode": {
     "languageId": "java"
    }
   },
   "outputs": [
    {
     "name": "stdout",
     "output_type": "stream",
     "text": [
      "3\n",
      "10\n",
      "\n",
      "First iteration:\n",
      "10\n",
      "100\n",
      "40\n",
      "\n",
      "Removing Elements:\n",
      "40\n",
      "\n",
      "Second Iteration:\n",
      "100\n",
      "\n",
      "Updating Elements:\n",
      "hi\n",
      "hey\n"
     ]
    }
   ],
   "source": [
    "// Import the ArrayList class, a part of the Collections framework, from the java.util package\n",
    "import java.util.ArrayList;\n",
    "// Import List interface\n",
    "import java.util.List;\n",
    "\n",
    "public class Application {\n",
    "    public static void main(String[] args) {\n",
    "        // Initialize ArrayList of parameterized type Integer, and defines its capacity as 3\n",
    "        // Cannot define parameterized type with primitive type directly; have to define with wrapper class counterpart, since Generics store objects\n",
    "        // After defining wrapper class of int (Integer), we can store and access primitive integer data to and from the ArrayList\n",
    "        ArrayList<Integer> numbers = new ArrayList<Integer>(3);\n",
    "\n",
    "        // Append elements to ArrayList (can append values directly or values of variables) will dynamically change its size\n",
    "        numbers.add(10);\n",
    "        numbers.add(100);\n",
    "        numbers.add(40);\n",
    "\n",
    "        // Get size of ArrayList\n",
    "        System.out.println(numbers.size());\n",
    "\n",
    "        // Retrieving elements of ArrayList via their index, since ArrayLists are ordered, as well as zero-indexed, just like arrays\n",
    "        System.out.println(numbers.get(0));\n",
    "\n",
    "        System.out.println(\"\\nFirst iteration:\");\n",
    "        // Iterate through elements of ArrayList using normal for loop\n",
    "        // Define for loop capacity with size of ArrayList. size() method to get number of elements in ArrayList\n",
    "        for (int i = 0; i < numbers.size(); i++) {\n",
    "            System.out.println(numbers.get(i));\n",
    "        }\n",
    "\n",
    "        System.out.println(\"\\nRemoving Elements:\");\n",
    "        // Removing elements from ArrayList via their index will also dynamically change its size\n",
    "        // Print the element that was removed from ArrayList\n",
    "        System.out.println(numbers.remove(numbers.size() - 1));\n",
    "        // Removing the first element may cause the program to take more time than removing the last element, since removing the first element will cause the indices of all subsequent elements to change\n",
    "        numbers.remove(0);\n",
    "\n",
    "        System.out.println(\"\\nSecond Iteration:\");\n",
    "        // Enhanced for loop to iterate through ArrayList\n",
    "        // Can use type Integer instead of int, since both data types equate to each other in terms of what the data they can store (int is primitive counterpart while Integer is object counterpart)\n",
    "        // Just a reminder that Integer and int can be converted to each other without manual type casting. Just assigning the value will be automatically converted, since their is no conversion risks (e.g. there is low risk of lossy conversion)\n",
    "        for (int value : numbers) {\n",
    "            System.out.println(value);\n",
    "        }\n",
    "\n",
    "        // The values object variable is of object type ArrayList but of interface variable type List. Notice how List also takes parameterized types\n",
    "        // This means that values can only implement the attributes and methods defined in List, but not those exclusive to ArrayList (if there are any)\n",
    "        // Nonetheless, values can still be considered an ArrayList, and can call the properties of ArrayList that are defined in List\n",
    "        List<String> values = new ArrayList<String>();\n",
    "        values.add(\"hi\");\n",
    "        System.out.println(\"\\nUpdating Elements:\");\n",
    "        System.out.println(values.get(0));\n",
    "        // Update the element at the 0th index to a value of \"hey\"\n",
    "        values.set(0, \"hey\");\n",
    "        System.out.println(values.get(0));\n",
    "    }\n",
    "}\n",
    "\n",
    "Application.main(null);"
   ]
  },
  {
   "cell_type": "markdown",
   "metadata": {},
   "source": [
    "# 50. LinkedLists #"
   ]
  },
  {
   "cell_type": "markdown",
   "metadata": {},
   "source": [
    "## Notes: ##\n",
    "* Like an ArrayList, a LinkedList is a linear dynamic data structure used for saving a collection of elements. However, a LinkedList stores each element as a node, as opposed to an ArrayList which stores elements in consecutive memory blocks. Each node composes of a value and two pointers (pointers require memory) to the previous and next nodes in the LinkedList.\n",
    "* A general rule of thumb is that when you want to add or remove elements toward the end of a List, you should use an ArrayList, but if you want to add or remove elements just about anywhere else in the List, you should use a LinkedList. This is due to the fact that adding new elements anywhere but the end of the List will cause an ArrayList to shift the positions of all the elements after the index at which the new element is added, while a LinkedList does not.\n",
    "* An ArrayList essentially organizes and manages an internal array, in which is creates a continuous memory location chain (requiring an internal array as its container) for all of its elements. Because of this, it is easy for an ArrayList to access and traverse through elements by index (can access any element in ArrayList by index in constant time because program can calculate location with index and consecutive memory locations within internal array, but for LinkedList, accessing an element by index causes the LinkedList to start at the head node, then use the next pointers of the subsequent nodes to reach the desired index), as well as add items toward the end of the List, since doing so does not really affect the indices of the other elements in the List. To add on, whenever the size of an ArrayList exceeds the capacity, the current capacity of the ArrayList will double, and the ArrayList will create a new copy of the internal array with the new element changes implemented.\n",
    "* Since a LinkedList does not store elements in consecutive memory blocks (each node could be anywhere in memory, but each node's pointers refer to the memory locations), its dynamic memory allocation helps be more efficient in cases such as adding or removing elements within the beginning and middle of the List. A standard LinkedList starts off at the head/first node, and each node within it points to the previous element and next element in the List (basically the pointers of a node refer to the memory locations of the previous and next nodes), where the head node's previous pointer refers to a null value and the last node's next pointer also refers to a null value.\n",
    "* Since a node in a LinkedList can be placed anywhere in memory, resizing operations are efficient; adding or removing an element to or from a LinkedList does not shift the positions (memory locations) of the elements around it. Adding an element to a LinkedList causes it to create a new node and insert it to the desired position in the List, then adjust the pointers of the nodes around it, and cause the new node to point to the nodes before and after it. Removing an element from a LinkedList causes it to remove the node at the desired position, then adjusting the pointers of the nodes around with the absence of teh removed element. Note that it will take some time for the LinkedList to traverse to the the desired index, but it is still efficient in that it does not need to change the positions of the other elements to accommodate for the changes."
   ]
  },
  {
   "cell_type": "markdown",
   "metadata": {},
   "source": [
    "## Examples: ##"
   ]
  },
  {
   "cell_type": "code",
   "execution_count": 14,
   "metadata": {
    "vscode": {
     "languageId": "java"
    }
   },
   "outputs": [
    {
     "name": "stdout",
     "output_type": "stream",
     "text": [
      "Comparing times between ArrayList and LinkedList:\n",
      "Time taken: 1351 ms for ArrayList\n",
      "Time taken: 3 ms for LinkedList\n",
      "LinkedList before changes:\n",
      "[1, 2, 3]\n",
      "0\n",
      "7\n",
      "1\n",
      "3\n",
      "1\n",
      "LinkedList after changes:\n",
      "[1, 2, 3]\n"
     ]
    }
   ],
   "source": [
    "import java.util.ArrayList;\n",
    "import java.util.LinkedList;\n",
    "// Import List interface from java.util package\n",
    "import java.util.List;\n",
    "\n",
    "public class Application {\n",
    "    public static void main(String[] args) {\n",
    "        // Since most of the attributes and methods of the classes that implement the List interface appear in the List interface itself, making the variable type List does not really affect anything\n",
    "        // Here, it is practical to make the arrayList variable of variable type List, because we are planning to pass it a method that takes parameters of variable type List (although you could still pass it with a variable type class that implements the List interface)\n",
    "        List<Integer> arrayList = new ArrayList<Integer>();\n",
    "        // Instantiate LinkedList that contains parameterized type integer\n",
    "        LinkedList<Integer> linkedList = new LinkedList<Integer>();\n",
    "\n",
    "        System.out.println(\"Comparing times between ArrayList and LinkedList:\");\n",
    "        doTimings(\"ArrayList\", arrayList);\n",
    "        doTimings(\"LinkedList\", linkedList);\n",
    "\n",
    "        // ArrayList and LinkedList have a lot of common methods, but LinkedList does not have the set() and trimToSize() methods\n",
    "        // To update values in a LinkedList, you need to create a custom class whose objects represent each node in a LinkedList, and make that class have attributes such as its actual data, previous pointer, and next pointer\n",
    "        // You can manually implement a set() method for a LinkedList by updating the data attribute of the targeted node\n",
    "        LinkedList<Integer> numbers = new LinkedList<Integer>();\n",
    "        numbers.add(1);\n",
    "        numbers.add(2);\n",
    "        numbers.add(3);\n",
    "        System.out.println(\"LinkedList before changes:\");\n",
    "        // Use toString() method to print LinkedList in presentable way\n",
    "        System.out.println(numbers.toString());\n",
    "        // LinkedList specific methods\n",
    "        // Method names are self-explanatory\n",
    "        numbers.addFirst(0);\n",
    "        numbers.addLast(7);\n",
    "        System.out.println(numbers.removeFirst());\n",
    "        System.out.println(numbers.removeLast());\n",
    "        System.out.println(numbers.getFirst());\n",
    "        System.out.println(numbers.getLast());\n",
    "        System.out.println(numbers.indexOf(2));\n",
    "        System.out.println(\"LinkedList after changes:\");\n",
    "        System.out.println(numbers.toString());\n",
    "    }\n",
    "\n",
    "    // Make one of the method's parameters of variable type List, which accounts for both ArrayLists and LinkedLists, since List is the parent interface for both of these classes\n",
    "    private static void doTimings(String type, List<Integer> list) {\n",
    "        // Populate List with 100,000 items\n",
    "        for (int i = 0; i < 1E5; i++) {\n",
    "            list.add(i);\n",
    "        }\n",
    "        // The currentTimeMillis() method returns the current time in milliseconds from the universal UNIX reference point (start of 1970)\n",
    "        long start = System.currentTimeMillis();\n",
    "        /*\n",
    "        // Adding items to end of list\n",
    "        // It should take the ArrayList less time to add elements to the end of the List than the LinkedList\n",
    "        for (int i = 0; i < 1E5; i++) {\n",
    "            list.add(i);\n",
    "        }\n",
    "        */\n",
    "\n",
    "        // Adding items to the beginning of the List\n",
    "        // It should take the ArrayList more time to add elements to the beginning of the List than the LinkedList, because doing so causes the ArrayList to shift the positions of all the other elements in the List (increment indices by 1), whereas the LinkedList does not (adjust the pointers of the nodes around the new element)\n",
    "        for (int i = 0; i < 1E5; i++) {\n",
    "            // Use add method that takes 2 parameters, the first parameter being the index of the List in which the new element is inserted, and the second parameter being the element being inserted\n",
    "            list.add(0, i);\n",
    "        }\n",
    "        long end = System.currentTimeMillis();\n",
    "        // Put end and start numerical values inside parentheses, so that their subtracted answer is computed before it is computed as a String to the rest of the String\n",
    "        // By performing the observed operations between the instantiation of the start and end values, we can subtract start from end to determine the time it took for the operations to perform in milliseconds\n",
    "        System.out.println(\"Time taken: \" + (end - start) + \" ms for \" + type);\n",
    "    }  \n",
    "}\n",
    "\n",
    "Application.main(null);"
   ]
  }
 ],
 "metadata": {
  "kernelspec": {
   "display_name": "Java",
   "language": "java",
   "name": "java"
  },
  "language_info": {
   "codemirror_mode": "java",
   "file_extension": ".jshell",
   "mimetype": "text/x-java-source",
   "name": "Java",
   "pygments_lexer": "java",
   "version": "11.0.16+8-post-Ubuntu-0ubuntu120.04"
  },
  "orig_nbformat": 4
 },
 "nbformat": 4,
 "nbformat_minor": 2
}
