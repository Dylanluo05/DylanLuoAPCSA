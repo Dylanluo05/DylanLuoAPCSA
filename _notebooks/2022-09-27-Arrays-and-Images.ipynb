{
 "cells": [
  {
   "cell_type": "markdown",
   "metadata": {},
   "source": [
    "# Arrays and Images Post\n",
    "> Arrays and Images Post\n",
    "\n",
    "- toc: true\n",
    "- description: Arrays and images post for AP CSA\n",
    "- categories: [jupyter]\n",
    "- title: Arrays and Images Post\n",
    "- author: Dylan Luo\n",
    "- show_tags: true\n",
    "- comments: true"
   ]
  },
  {
   "cell_type": "code",
   "execution_count": 2,
   "metadata": {},
   "outputs": [
    {
     "name": "stdout",
     "output_type": "stream",
     "text": [
      "Success\n"
     ]
    }
   ],
   "source": [
    "import javax.imageio.ImageIO;\n",
    "import java.io.File;\n",
    "import java.io.IOException;\n",
    "import java.awt.image.BufferedImage;\n",
    "\n",
    "public class ImageIOTest {    \n",
    "\n",
    "    public static void main( String[] args ){\n",
    "       BufferedImage img = null;  // buffer type \n",
    "        try {\n",
    "            // Either use URL or File for reading image using ImageIO\n",
    "            File imageFile = new File(\"ghtop_images/images.jpg\");\n",
    "            img = ImageIO.read(imageFile);  // set buffer of image data\n",
    "\n",
    "            // ImageIO Image write to gif in Java\n",
    "            // Documentation https://docs.oracle.com/javase/tutorial/2d/images/index.html\n",
    "            ImageIO.write(img, \"gif\", new File(\"ghtop_images/tmp/images.gif\") );  // write buffer to gif\n",
    "\n",
    "        } catch (IOException e) {\n",
    "              e.printStackTrace();\n",
    "        }\n",
    "        System.out.println(\"Success\");\n",
    "    }\n",
    "}\n",
    "ImageIOTest.main(null);"
   ]
  }
 ],
 "metadata": {
  "kernelspec": {
   "display_name": "Java",
   "language": "java",
   "name": "java"
  },
  "language_info": {
   "codemirror_mode": "java",
   "file_extension": ".jshell",
   "mimetype": "text/x-java-source",
   "name": "java",
   "pygments_lexer": "java",
   "version": "11.0.16+8-post-Ubuntu-0ubuntu120.04"
  },
  "orig_nbformat": 4,
  "vscode": {
   "interpreter": {
    "hash": "916dbcbb3f70747c44a77c7bcd40155683ae19c65e1c03b4aa3499c5328201f1"
   }
  }
 },
 "nbformat": 4,
 "nbformat_minor": 2
}
