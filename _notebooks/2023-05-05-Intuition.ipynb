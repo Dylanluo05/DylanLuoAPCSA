{
 "cells": [
  {
   "attachments": {},
   "cell_type": "markdown",
   "metadata": {},
   "source": [
    "# Intuition AI Post\n",
    "> Intuition AI Post\n",
    "\n",
    "- toc: true\n",
    "- description: Intuition AI blog post for AP CSA\n",
    "- categories: [jupyter]\n",
    "- title: Intuition AI Post\n",
    "- author: Dylan Luo\n",
    "- show_tags: true\n",
    "- comments: true"
   ]
  },
  {
   "cell_type": "code",
   "execution_count": 8,
   "metadata": {},
   "outputs": [
    {
     "name": "stdout",
     "output_type": "stream",
     "text": [
      "[(, (, ), )]\n",
      "true\n"
     ]
    }
   ],
   "source": [
    "public class Main {\n",
    "    ArrayList<String> parentheses = new ArrayList<String>();\n",
    "    public Main() {\n",
    "        parentheses.add(\"(\");\n",
    "        parentheses.add(\"(\");\n",
    "        parentheses.add(\")\");\n",
    "        parentheses.add(\")\");\n",
    "    }\n",
    "\n",
    "    public boolean isParenthesesValid() {\n",
    "        System.out.println(parentheses.toString());\n",
    "        // If there is an odd number of parentheses, the expression is not valid\n",
    "        if (parentheses.size() % 2 != 0) {\n",
    "            return false;\n",
    "        }\n",
    "\n",
    "        // Create stack to store open parentheses and remove when needed\n",
    "        Stack<String> openParStack = new Stack<String>();\n",
    "\n",
    "        // Iterate through parenthesis in the parentheses ArrayList\n",
    "        for (int i = 0; i < parentheses.size(); i++) {\n",
    "            if (parentheses.get(i).equals(\"(\")) {\n",
    "                // If open parenthesis appears, push it to the stack\n",
    "                openParStack.push(parentheses.get(i));\n",
    "            } else if (openParStack.size() == 0) {\n",
    "                // If close parenthesis appears instead, but no open parentheses are in the stack, return false\n",
    "                // Basically, return false if there are more close parentheses than open parentheses, or if a close parenthesis appears before its open parenthesis counterpart\n",
    "                return false;\n",
    "            } else if (parentheses.get(i).equals(\")\")) {\n",
    "                // If close parenthesis appears and open parentheses are in the stack, pop an open parenthesis out of the stack\n",
    "                openParStack.pop();\n",
    "            }\n",
    "        }\n",
    "\n",
    "        // Return false if there are more open parentheses than close parentheses\n",
    "        if (openParStack.size() > 0) {\n",
    "            return false;\n",
    "        }\n",
    "\n",
    "        // By default, return true\n",
    "        return true;\n",
    "    }\n",
    "\n",
    "    public static void main(String[] args) {\n",
    "        Main tester = new Main();\n",
    "        System.out.println(tester.isParenthesesValid());\n",
    "    }\n",
    "}\n",
    "\n",
    "Main.main(null);"
   ]
  }
 ],
 "metadata": {
  "kernelspec": {
   "display_name": "Java",
   "language": "java",
   "name": "java"
  },
  "language_info": {
   "codemirror_mode": "java",
   "file_extension": ".jshell",
   "mimetype": "text/x-java-source",
   "name": "java",
   "pygments_lexer": "java",
   "version": "11.0.16+8-post-Ubuntu-0ubuntu120.04"
  },
  "orig_nbformat": 4
 },
 "nbformat": 4,
 "nbformat_minor": 2
}
