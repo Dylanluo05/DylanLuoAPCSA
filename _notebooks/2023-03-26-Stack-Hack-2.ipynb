{
 "cells": [
  {
   "attachments": {},
   "cell_type": "markdown",
   "metadata": {},
   "source": [
    "# Stack Hack 2 Post\n",
    "> Stack Hack 2 Post\n",
    "\n",
    "- toc: true\n",
    "- description: Stack hack 2 blog post for AP CSA\n",
    "- categories: [jupyter]\n",
    "- title: Stack Hack 2 Post\n",
    "- author: Dylan Luo\n",
    "- show_tags: true\n",
    "- comments: true"
   ]
  },
  {
   "cell_type": "code",
   "execution_count": 3,
   "metadata": {
    "vscode": {
     "languageId": "java"
    }
   },
   "outputs": [
    {
     "name": "stdout",
     "output_type": "stream",
     "text": [
      "Stack before sort: [3, 7, 5, 1, 2, 10, 7]\n",
      "Stack after sort: [1, 2, 3, 5, 7, 7, 10]\n"
     ]
    }
   ],
   "source": [
    "import java.util.Stack;\n",
    "\n",
    "public class StackSorter {\n",
    "    public void sort() {\n",
    "        Stack<Integer> stack = new Stack<Integer>();\n",
    "        ArrayList<Integer> usedNumbers = new ArrayList<Integer>();\n",
    "        stack.push(3);\n",
    "        stack.push(7);\n",
    "        stack.push(5);\n",
    "        stack.push(1);\n",
    "        stack.push(2);\n",
    "        stack.push(10);\n",
    "        stack.push(7);\n",
    "        System.out.println(\"Stack before sort: \" + stack.toString());\n",
    "        int[] tempValues = new int[stack.size()];\n",
    "        int index = 0;\n",
    "        while (!stack.isEmpty()) {\n",
    "            tempValues[index] = stack.pop();\n",
    "            index++;\n",
    "        }\n",
    "        int swapCount = 0;\n",
    "        for (int i = 0; i < tempValues.length - 1; i++) {\n",
    "            if (tempValues[i] > tempValues[i + 1]) {\n",
    "                int temp = tempValues[i + 1];\n",
    "                tempValues[i + 1] = tempValues[i];\n",
    "                tempValues[i] = temp;\n",
    "                swapCount++;\n",
    "            }\n",
    "            if (i == tempValues.length - 2 && swapCount != 0) {\n",
    "                swapCount = 0;\n",
    "                i = -1;\n",
    "            }\n",
    "        }\n",
    "        for (int item : tempValues) {\n",
    "            stack.push(item);\n",
    "        }\n",
    "        System.out.println(\"Stack after sort: \" + stack.toString());\n",
    "    }\n",
    "\n",
    "    public static void main(String[] args) {\n",
    "        StackSorter myObj = new StackSorter();\n",
    "        myObj.sort();\n",
    "    }\n",
    "}\n",
    "\n",
    "StackSorter.main(null);"
   ]
  }
 ],
 "metadata": {
  "kernelspec": {
   "display_name": "Java",
   "language": "java",
   "name": "java"
  },
  "language_info": {
   "codemirror_mode": "java",
   "file_extension": ".jshell",
   "mimetype": "text/x-java-source",
   "name": "Java",
   "pygments_lexer": "java",
   "version": "11.0.16+8-post-Ubuntu-0ubuntu120.04"
  },
  "orig_nbformat": 4
 },
 "nbformat": 4,
 "nbformat_minor": 2
}
