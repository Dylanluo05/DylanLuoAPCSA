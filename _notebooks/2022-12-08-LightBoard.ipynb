{
 "cells": [
  {
   "attachments": {},
   "cell_type": "markdown",
   "metadata": {},
   "source": [
    "# 2019 FEQ 4 Post\n",
    "> 2019 FRQ 4\n",
    "\n",
    "- toc: true\n",
    "- description: 2019 FRQ 4 post for AP CSA\n",
    "- categories: [jupyter]\n",
    "- title: 2019 FRQ 4 Post\n",
    "- author: Dylan Luo\n",
    "- show_tags: true\n",
    "- comments: true"
   ]
  },
  {
   "cell_type": "code",
   "execution_count": 28,
   "metadata": {
    "vscode": {
     "languageId": "java"
    }
   },
   "outputs": [
    {
     "name": "stdout",
     "output_type": "stream",
     "text": [
      "false false false false \n",
      "true true false false \n",
      "false false true true \n",
      "false false true false \n",
      "\n",
      "evaluateLight method output: true\n"
     ]
    }
   ],
   "source": [
    "public class LightBoard {\n",
    "    // 2D array storing all of the boolean light values (true indicates a light is on, while false indicates a light is off)\n",
    "    private boolean[][] lights;\n",
    "    \n",
    "    // Constructor that initializes all of the random boolean values in the 2D array. Each light has a 40% chance of being on\n",
    "    public LightBoard(int numRows, int numCols) {\n",
    "        lights = new boolean[numRows][numCols];\n",
    "        for (int i = 0; i < numRows; i++) {\n",
    "            for (int j = 0; j < numCols; j++) {\n",
    "                int randNumber = (int) Math.floor(Math.random() * 10) + 1;\n",
    "                // Use of ternary operator to concise code\n",
    "                boolean boolValue = (randNumber <= 4) ? true : false;\n",
    "                lights[i][j] = boolValue;\n",
    "            }\n",
    "        }\n",
    "    }\n",
    "\n",
    "    // boolean method that returns false if the selected light is on and if the number of lights that are on in its column is even\n",
    "    // returns true if the selected light is off and if the number of lights that are on in its column is divisible by 3 (Note that 0 is divisible by any number except itself)\n",
    "    // returns lightStatus if the previous 2 conditions are not met\n",
    "    public boolean evaluateLight(int row, int col) {\n",
    "        boolean lightStatus = lights[row][col];\n",
    "        int lightOnCount = 0;\n",
    "        for (int i = 0; i < lights[col].length; i++) {\n",
    "            if (lights[i][col] == true) {\n",
    "                lightOnCount++;\n",
    "            }\n",
    "        }\n",
    "        if (lightStatus == true && lightOnCount % 2 == 0) {\n",
    "            return false;\n",
    "        } else if (lightStatus == false && lightOnCount % 3 == 0) {\n",
    "            return true;\n",
    "        }\n",
    "        return lightStatus;\n",
    "    }\n",
    "\n",
    "    // main tester method for running the code in the LightBoard class\n",
    "    public static void main(String[] args) {\n",
    "        LightBoard myObj = new LightBoard(4, 4);\n",
    "        for (int x = 0; x < myObj.lights.length; x++) {\n",
    "            for (int y = 0; y < myObj.lights[x].length; y++) {\n",
    "                System.out.print(myObj.lights[x][y] + \" \");\n",
    "            }\n",
    "            System.out.println(\"\");\n",
    "        }\n",
    "\n",
    "        System.out.println(\"\");\n",
    "        System.out.println(\"evaluateLight method output: \" + myObj.evaluateLight(1, 1));\n",
    "    }\n",
    "}\n",
    "\n",
    "LightBoard.main(null);"
   ]
  }
 ],
 "metadata": {
  "kernelspec": {
   "display_name": "Java",
   "language": "java",
   "name": "java"
  },
  "language_info": {
   "codemirror_mode": "java",
   "file_extension": ".jshell",
   "mimetype": "text/x-java-source",
   "name": "Java",
   "pygments_lexer": "java",
   "version": "11.0.16+8-post-Ubuntu-0ubuntu120.04"
  },
  "orig_nbformat": 4,
  "vscode": {
   "interpreter": {
    "hash": "916dbcbb3f70747c44a77c7bcd40155683ae19c65e1c03b4aa3499c5328201f1"
   }
  }
 },
 "nbformat": 4,
 "nbformat_minor": 2
}
