{
 "cells": [
  {
   "cell_type": "code",
   "execution_count": null,
   "metadata": {},
   "outputs": [],
   "source": [
    "public class Test {\n",
    "    public double BMI(double weight, double height) {\n",
    "        double BMIValue = 703 * (weight/Math.pow(height, 2));\n",
    "        return BMIValue;\n",
    "    }\n",
    "\n",
    "    public double bodyFatPercentage(double weight, double height, int age) {\n",
    "        double bodyFatPercentageValue = (1.2 * BMI(weight, height)) + (0.23 * (double) age) - 5.4;\n",
    "        return bodyFatPercentageValue;\n",
    "    }\n",
    "    public static void main(String[] args) {\n",
    "\n",
    "    }\n",
    "}\n",
    "\n",
    "Test.main(null);"
   ]
  }
 ],
 "metadata": {
  "kernelspec": {
   "display_name": "Java",
   "language": "java",
   "name": "java"
  },
  "language_info": {
   "name": "java"
  },
  "orig_nbformat": 4
 },
 "nbformat": 4,
 "nbformat_minor": 2
}
