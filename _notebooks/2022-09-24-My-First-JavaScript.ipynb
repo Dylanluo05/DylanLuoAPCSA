{
 "cells": [
  {
   "cell_type": "markdown",
   "metadata": {},
   "source": [
    "# JavaScript Post\n",
    "> JavaScript Post\n",
    "\n",
    "- toc: true\n",
    "- description: First JavaScript post for AP CSA\n",
    "- categories: [jupyter]\n",
    "- title: JavaScript Post\n",
    "- author: Dylan Luo\n",
    "- show_tags: true\n",
    "- comments: true"
   ]
  },
  {
   "cell_type": "code",
   "execution_count": 8,
   "metadata": {},
   "outputs": [
    {
     "name": "stdout",
     "output_type": "stream",
     "text": [
      "Dylan\n",
      "17\n",
      "Soccer\n"
     ]
    }
   ],
   "source": [
    "var user = {\n",
    "    name: \"Dylan\",\n",
    "    age: 17,\n",
    "    interest: \"Soccer\"         \n",
    "};\n",
    "console.log(user.name);\n",
    "console.log(user.age);\n",
    "console.log(user.interest);"
   ]
  }
 ],
 "metadata": {
  "kernelspec": {
   "display_name": "JavaScript (Node.js)",
   "language": "javascript",
   "name": "javascript"
  },
  "language_info": {
   "file_extension": ".js",
   "mimetype": "application/javascript",
   "name": "javascript",
   "version": "6.11.2"
  },
  "orig_nbformat": 4,
  "vscode": {
   "interpreter": {
    "hash": "916dbcbb3f70747c44a77c7bcd40155683ae19c65e1c03b4aa3499c5328201f1"
   }
  }
 },
 "nbformat": 4,
 "nbformat_minor": 2
}
