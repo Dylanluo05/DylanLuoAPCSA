{
 "cells": [
  {
   "attachments": {},
   "cell_type": "markdown",
   "metadata": {},
   "source": [
    "# Recursion HW Post\n",
    "> Recursion HW\n",
    "\n",
    "- toc: true\n",
    "- description: Recursion HW post for AP CSA\n",
    "- categories: [jupyter]\n",
    "- title: Recursion HW Post\n",
    "- author: Dylan Luo\n",
    "- show_tags: true\n",
    "- comments: true"
   ]
  },
  {
   "attachments": {},
   "cell_type": "markdown",
   "metadata": {},
   "source": [
    "#### Notes: ####\n",
    "* A recursive method is basically a method that calls itself. It usually contains a case that halts recursion and another that continues recursion.\n",
    "* Each recursive call has its own local variables, and parameter values check the progress of a recursion process.\n",
    "* A recursion is essentially another form of iteration.\n",
    "* Recursion is typically used to traverse through Strings, arrays, and ArrayLists.\n",
    "* A merge sort utilizes a divide and conquer algorithm to sort ArrayLists. It first divides the ArrayList into halves, then calls itself in both halves to sort them, and finally combines them when they are sorted.\n",
    "* Recursion trees are used to visualize each recursive case for recursion code.\n",
    "* There are 2 main cases in recursion. The base case serves as the lowest level condition for which recursion will halt. The recursive case continuously calls the method itself at lower levels until the base case is reached."
   ]
  },
  {
   "cell_type": "code",
   "execution_count": 1,
   "metadata": {
    "vscode": {
     "languageId": "java"
    }
   },
   "outputs": [
    {
     "name": "stdout",
     "output_type": "stream",
     "text": [
      "1! = 1\n",
      "2! = 2\n",
      "3! = 6\n",
      "4! = 24\n"
     ]
    }
   ],
   "source": [
    "public class Recursion {\n",
    "    public int fac(int num) {\n",
    "        if (num == 1) {\n",
    "            return 1;\n",
    "        } else {\n",
    "            return num * fac(num - 1);\n",
    "        }\n",
    "    }\n",
    "\n",
    "    public static void main(String[] args) {\n",
    "        Recursion myObj = new Recursion();\n",
    "        System.out.println(\"1! = \" + myObj.fac(1));\n",
    "        System.out.println(\"2! = \" + myObj.fac(2));\n",
    "        System.out.println(\"3! = \" + myObj.fac(3));\n",
    "        System.out.println(\"4! = \" + myObj.fac(4));\n",
    "    }\n",
    "}\n",
    "\n",
    "Recursion.main(null);"
   ]
  }
 ],
 "metadata": {
  "kernelspec": {
   "display_name": "Java",
   "language": "java",
   "name": "java"
  },
  "language_info": {
   "codemirror_mode": "java",
   "file_extension": ".jshell",
   "mimetype": "text/x-java-source",
   "name": "Java",
   "pygments_lexer": "java",
   "version": "11.0.16+8-post-Ubuntu-0ubuntu120.04"
  },
  "orig_nbformat": 4,
  "vscode": {
   "interpreter": {
    "hash": "916dbcbb3f70747c44a77c7bcd40155683ae19c65e1c03b4aa3499c5328201f1"
   }
  }
 },
 "nbformat": 4,
 "nbformat_minor": 2
}
