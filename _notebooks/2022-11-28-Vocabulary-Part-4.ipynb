{
 "cells": [
  {
   "cell_type": "markdown",
   "metadata": {},
   "source": [
    "# Vocabulary Part 4 Post\n",
    "> Vocabulary Part 4\n",
    "\n",
    "- toc: true\n",
    "- description: Vocabulary part 4 post for AP CSA\n",
    "- categories: [jupyter]\n",
    "- title: Vocabulary Part 4 Post\n",
    "- author: Dylan Luo\n",
    "- show_tags: true\n",
    "- comments: true"
   ]
  },
  {
   "cell_type": "markdown",
   "metadata": {},
   "source": [
    "* **Subclass Constructor and super Keywords:** Since constructors are not members, they are not inherited by the subclasses. However, the constructor of the superclass can be invoked from the subclass. The super keyword makes this possible, as it refers to superclass objects. It can be used to call superclass methods, as well as access the superclass constructor.\n",
    "* **Method Overloading:** A feature that allows a class to have multiple method with the same name, but they each have to have different parameters.\n",
    "* **Method Overriding:** A feature that occurs when a subclass has a method with the same name as a method in the superclass. Essentially, the subclass implements a method declared by the superclass.\n",
    "* **Abstract Class and Abstract Method:** An abstract class is a type of restricted class that cannot be be used to create objects. To access it, it has to be inherited from another class. An abstract method can only be used in an abstract class, and it does not comprise of a body. The body of an abstract method is provided by the subclass that inherits it.\n",
    "* **toString(), equals(), and hashCode() standard methods:** toString() converts an object variable into a string. equals() is typically used to check for equality between two string variables. hashCode() returns the integer hash code value of an object.\n",
    "* **Object Late Binding:** Also known as dynamic linkage, late binding occurs when the name of the method being called upon an object is looked up at runtime.\n",
    "* **Polymorphism:** Referring to \"many forms\", polymorphism occurs when there are many classes that relate to each other by inheritance. Polymorphism generally involves using inherited attributes and methods to perform different kinds of tasks among different subclasses.\n",
    "* **Big O Notation:** A mathematical notation that deals with the limiting behavior of a function when the argument goes toward a particular value or infinity."
   ]
  },
  {
   "cell_type": "code",
   "execution_count": 19,
   "metadata": {
    "vscode": {
     "languageId": "java"
    }
   },
   "outputs": [
    {
     "name": "stdout",
     "output_type": "stream",
     "text": [
      "Method one works!\n",
      "Method one with integer 7 works!\n",
      "Superclass method two works!\n",
      "Subclass method two works!\n"
     ]
    }
   ],
   "source": [
    "public class VocabFour {\n",
    "    int a;\n",
    "    public VocabFour() {\n",
    "        a = 7;\n",
    "    }\n",
    "\n",
    "    public void methodOne() {\n",
    "        System.out.println(\"Method one works!\");\n",
    "    }\n",
    "\n",
    "    public void methodOne(int i) {\n",
    "        System.out.println(\"Method one with integer \" + i + \" works!\" );\n",
    "    }\n",
    "\n",
    "    public void methodTwo() {\n",
    "        System.out.println(\"Superclass method two works!\");\n",
    "    }\n",
    "}\n",
    "\n",
    "class SubVocabFour extends VocabFour {\n",
    "    // Method overriding\n",
    "    public void methodTwo() {\n",
    "        // super keyword\n",
    "        super.methodTwo();\n",
    "        System.out.println(\"Subclass method two works!\");\n",
    "    }\n",
    "\n",
    "    public static void main(String[] args) {\n",
    "        SubVocabFour myObj = new SubVocabFour();\n",
    "        // Method overloading\n",
    "        myObj.methodOne();\n",
    "        myObj.methodOne(7);\n",
    "        myObj.methodTwo();\n",
    "    }\n",
    "}\n",
    "\n",
    "SubVocabFour.main(null);"
   ]
  }
 ],
 "metadata": {
  "kernelspec": {
   "display_name": "Java",
   "language": "java",
   "name": "java"
  },
  "language_info": {
   "codemirror_mode": "java",
   "file_extension": ".jshell",
   "mimetype": "text/x-java-source",
   "name": "Java",
   "pygments_lexer": "java",
   "version": "11.0.16+8-post-Ubuntu-0ubuntu120.04"
  },
  "orig_nbformat": 4,
  "vscode": {
   "interpreter": {
    "hash": "916dbcbb3f70747c44a77c7bcd40155683ae19c65e1c03b4aa3499c5328201f1"
   }
  }
 },
 "nbformat": 4,
 "nbformat_minor": 2
}
