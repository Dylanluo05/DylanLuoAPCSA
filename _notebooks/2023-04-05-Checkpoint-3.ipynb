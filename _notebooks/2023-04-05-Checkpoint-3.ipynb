{
 "cells": [
  {
   "attachments": {},
   "cell_type": "markdown",
   "metadata": {},
   "source": [
    "# Checkpoint 3 Post\n",
    "> Checkpoint 3 Post\n",
    "\n",
    "- toc: true\n",
    "- description: Checkpoint 3 blog post for AP CSA\n",
    "- categories: [jupyter]\n",
    "- title: Checkpoint 3 Post\n",
    "- author: Dylan Luo\n",
    "- show_tags: true\n",
    "- comments: true"
   ]
  },
  {
   "cell_type": "code",
   "execution_count": 18,
   "metadata": {
    "vscode": {
     "languageId": "java"
    }
   },
   "outputs": [
    {
     "name": "stdout",
     "output_type": "stream",
     "text": [
      "LinkedList before bubble sort: [1, 7, 2, 5, 3, 6, 4, 8]\n",
      "LinkedList after bubble sort: [1, 2, 3, 4, 5, 6, 7, 8]\n",
      "LinkedList before bubble sort: [1, 7, 2, 5, 3, 6, 4, 8]\n",
      "LinkedList after bubble sort: [1, 2, 3, 4, 5, 6, 7, 8]\n"
     ]
    }
   ],
   "source": [
    "import java.util.LinkedList;\n",
    "\n",
    "public class Sorting {\n",
    "    public LinkedList<Integer> linkedListName = new LinkedList<Integer>();\n",
    "    public LinkedList<Integer> linkedListNameBubble = new LinkedList<Integer>();\n",
    "    public LinkedList<Integer> linkedListNameSelection = new LinkedList<Integer>();\n",
    "    public Sorting(int[] numbers) {\n",
    "        for (int i = 0; i < numbers.length; i++) {\n",
    "            linkedListName.add(numbers[i]);\n",
    "            linkedListNameBubble.add(numbers[i]);\n",
    "            linkedListNameSelection.add(numbers[i]);\n",
    "        }\n",
    "    }\n",
    "\n",
    "    public void bubbleSort() {\n",
    "        int swapCount = 0;\n",
    "        int capacity = linkedListNameBubble.size() - 1;\n",
    "        for (int i = 0; i < capacity; i++) {\n",
    "            if (linkedListNameBubble.get(i) > linkedListNameBubble.get(i + 1)) {\n",
    "                int temp = linkedListNameBubble.get(i + 1);\n",
    "                linkedListNameBubble.set(i + 1, linkedListNameBubble.get(i));\n",
    "                linkedListNameBubble.set(i, temp);\n",
    "                swapCount++;\n",
    "            }\n",
    "            if (i == capacity - 1 && swapCount != 0) {\n",
    "                capacity--;\n",
    "                swapCount = 0;\n",
    "                i = -1;\n",
    "            }\n",
    "        }\n",
    "    }\n",
    "\n",
    "    public void selectionSort() {\n",
    "        int tempIndex = 0;\n",
    "        for (int i = tempIndex; i < linkedListNameSelection.size(); i++) {\n",
    "            int min = linkedListNameSelection.get(tempIndex);\n",
    "            int minIndex = tempIndex;\n",
    "            if (i == tempIndex) {\n",
    "                min = linkedListNameSelection.get(i);\n",
    "            } else if (linkedListNameSelection.get(i) < min) {\n",
    "                minIndex = i;\n",
    "                min = linkedListNameSelection.get(i);\n",
    "            }\n",
    "            int temp = linkedListNameSelection.get(tempIndex);\n",
    "            linkedListNameSelection.set(tempIndex, min);\n",
    "            linkedListNameSelection.set(minIndex, temp);\n",
    "            if (i == linkedListNameSelection.size() - 1 && tempIndex < linkedListNameSelection.size() - 2) {\n",
    "                tempIndex++;\n",
    "                i = tempIndex - 1;\n",
    "            }\n",
    "        }\n",
    "    }\n",
    "\n",
    "    public static void main(String[] args) {\n",
    "        int[] numbers = {1, 7, 2, 5, 3, 6, 4, 8};\n",
    "        Sorting myObj = new Sorting(numbers);\n",
    "        System.out.println(\"LinkedList before bubble sort: \" + myObj.linkedListName.toString());\n",
    "        myObj.bubbleSort();\n",
    "        System.out.println(\"LinkedList after bubble sort: \" + myObj.linkedListNameBubble.toString());\n",
    "        System.out.println(\"LinkedList before bubble sort: \" + myObj.linkedListName.toString());\n",
    "        myObj.selectionSort();\n",
    "        System.out.println(\"LinkedList after bubble sort: \" + myObj.linkedListNameSelection.toString());\n",
    "    }\n",
    "}\n",
    "\n",
    "Sorting.main(null);"
   ]
  }
 ],
 "metadata": {
  "kernelspec": {
   "display_name": "Java",
   "language": "java",
   "name": "java"
  },
  "language_info": {
   "codemirror_mode": "java",
   "file_extension": ".jshell",
   "mimetype": "text/x-java-source",
   "name": "Java",
   "pygments_lexer": "java",
   "version": "11.0.16+8-post-Ubuntu-0ubuntu120.04"
  },
  "orig_nbformat": 4
 },
 "nbformat": 4,
 "nbformat_minor": 2
}
