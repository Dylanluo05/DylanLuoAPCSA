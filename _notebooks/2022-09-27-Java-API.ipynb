{
 "cells": [
  {
   "cell_type": "markdown",
   "metadata": {},
   "source": [
    "# Java API Post\n",
    "> Java API Post\n",
    "\n",
    "- toc: true\n",
    "- description: Java APi post for AP CSA\n",
    "- categories: [jupyter]\n",
    "- title: Java API Post\n",
    "- author: Dylan Luo\n",
    "- show_tags: true\n",
    "- comments: true"
   ]
  },
  {
   "cell_type": "code",
   "execution_count": 1,
   "metadata": {
    "vscode": {
     "languageId": "java"
    }
   },
   "outputs": [
    {
     "name": "stdout",
     "output_type": "stream",
     "text": [
      "{\"message\":\"You are not subscribed to this API.\"}\n"
     ]
    }
   ],
   "source": [
    "import java.net.URI;\n",
    "import java.net.http.HttpClient;\n",
    "import java.net.http.HttpRequest;\n",
    "import java.net.http.HttpResponse;\n",
    "\n",
    "//RapidAPI header  https://rapidapi.com/spamakashrajtech/api/corona-virus-world-and-india-data\n",
    "HttpRequest request = HttpRequest.newBuilder()\n",
    "    .uri(URI.create(\"https://api-nba-v1.p.rapidapi.com/seasons\"))\n",
    "    .header(\"x-rapidapi-key\", \"9205057203msh04a5e5cadaa01c8p11274ejsnf67dea2bb043\")\n",
    "    .header(\"x-rapidapi-host\", \"api-nba-v1.p.rapidapi.com\")\n",
    "    .method(\"GET\", HttpRequest.BodyPublishers.noBody())\n",
    "    .build();\n",
    "\n",
    "//RapidAPI request and response\n",
    "HttpResponse<String> response = HttpClient.newHttpClient().send(request, HttpResponse.BodyHandlers.ofString());\n",
    "\n",
    "//RapidAPI Body\n",
    "System.out.println(response.body());"
   ]
  },
  {
   "cell_type": "code",
   "execution_count": 4,
   "metadata": {
    "vscode": {
     "languageId": "java"
    }
   },
   "outputs": [
    {
     "name": "stdout",
     "output_type": "stream",
     "text": [
      "[\n",
      "    {\n",
      "      \"homeTeam\": {\n",
      "        \"name\": \"Würzburger Kickers\",\n",
      "        \"shortName\": \"FCWK\",\n",
      "        \"mediumName\": \"W. Kickers\",\n",
      "        \"id\": 15702\n",
      "      },\n",
      "      \"awayTeam\": {\n",
      "        \"name\": \"Fortuna Dusseldorf\",\n",
      "        \"shortName\": \"FD\",\n",
      "        \"mediumName\": \"Dusseldorf\",\n",
      "        \"id\": 781\n",
      "      },\n",
      "      \"status\": {\n",
      "        \"name\": \"Scheduled\",\n",
      "        \"shortName\": \"SCH\",\n",
      "        \"id\": 1\n",
      "      },\n",
      "      \"date\": \"29/01/2021 17:30:00\",\n",
      "      \"id\": 1452172,\n",
      "      \"tournament\": {\n",
      "        \"name\": \"German Bundesliga 2\",\n",
      "        \"shortName\": \"GB2\",\n",
      "        \"id\": 14\n",
      "      },\n",
      "      \"stage\": {\n",
      "        \"name\": \"Season 2020/2021\",\n",
      "        \"shortName\": \"20/21\",\n",
      "        \"id\": 42425\n",
      "      },\n",
      "      \"round\": {\n",
      "        \"name\": \"Round 19\",\n",
      "        \"shortName\": \"R19\",\n",
      "        \"id\": 19\n",
      "      }\n",
      "    },\n",
      "    {\n",
      "      \"homeTeam\": {\n",
      "        \"name\": \"Greuther Furth\",\n",
      "        \"shortName\": \"GF\",\n",
      "        \"mediumName\": \"G. Fuerth\",\n",
      "        \"id\": 799\n",
      "      },\n",
      "      \"awayTeam\": {\n",
      "        \"name\": \"Erzgebirge Aue\",\n",
      "        \"shortName\": \"AUE\",\n",
      "        \"mediumName\": \"Aue\",\n",
      "        \"id\": 758\n",
      "      },\n",
      "      \"status\": {\n",
      "        \"name\": \"Scheduled\",\n",
      "        \"shortName\": \"SCH\",\n",
      "        \"id\": 1\n",
      "      },\n",
      "      \"date\": \"29/01/2021 17:30:00\",\n",
      "      \"id\": 1452175,\n",
      "      \"tournament\": {\n",
      "        \"name\": \"German Bundesliga 2\",\n",
      "        \"shortName\": \"GB2\",\n",
      "        \"id\": 14\n",
      "      },\n",
      "      \"stage\": {\n",
      "        \"name\": \"Season 2020/2021\",\n",
      "        \"shortName\": \"20/21\",\n",
      "        \"id\": 42425\n",
      "      },\n",
      "      \"round\": {\n",
      "        \"name\": \"Round 19\",\n",
      "        \"shortName\": \"R19\",\n",
      "        \"id\": 19\n",
      "      }\n",
      "    }\n",
      "  ]\n"
     ]
    }
   ],
   "source": [
    "HttpRequest request = HttpRequest.newBuilder()\n",
    "\t\t.uri(URI.create(\"https://soccer-data.p.rapidapi.com/match/list/scheduled?date=29%2F01%2F2021\"))\n",
    "\t\t.header(\"X-RapidAPI-Key\", \"9205057203msh04a5e5cadaa01c8p11274ejsnf67dea2bb043\")\n",
    "\t\t.header(\"X-RapidAPI-Host\", \"soccer-data.p.rapidapi.com\")\n",
    "\t\t.method(\"GET\", HttpRequest.BodyPublishers.noBody())\n",
    "\t\t.build();\n",
    "HttpResponse<String> response = HttpClient.newHttpClient().send(request, HttpResponse.BodyHandlers.ofString());\n",
    "System.out.println(response.body());"
   ]
  }
 ],
 "metadata": {
  "kernelspec": {
   "display_name": "Java",
   "language": "java",
   "name": "java"
  },
  "language_info": {
   "codemirror_mode": "java",
   "file_extension": ".jshell",
   "mimetype": "text/x-java-source",
   "name": "Java",
   "pygments_lexer": "java",
   "version": "11.0.16+8-post-Ubuntu-0ubuntu120.04"
  },
  "orig_nbformat": 4,
  "vscode": {
   "interpreter": {
    "hash": "916dbcbb3f70747c44a77c7bcd40155683ae19c65e1c03b4aa3499c5328201f1"
   }
  }
 },
 "nbformat": 4,
 "nbformat_minor": 2
}
