{
 "cells": [
  {
   "attachments": {},
   "cell_type": "markdown",
   "metadata": {},
   "source": [
    "# Extra Seed Post\n",
    "> Extra Seed Post\n",
    "\n",
    "- toc: true\n",
    "- description: Extra seed blog post for AP CSA\n",
    "- categories: [jupyter]\n",
    "- title: Extra Seed Post\n",
    "- author: Dylan Luo\n",
    "- show_tags: true\n",
    "- comments: true"
   ]
  },
  {
   "cell_type": "code",
   "execution_count": 6,
   "metadata": {
    "vscode": {
     "languageId": "java"
    }
   },
   "outputs": [
    {
     "name": "stdout",
     "output_type": "stream",
     "text": [
      "0\n"
     ]
    }
   ],
   "source": [
    "import java.util.Scanner;\n",
    "import java.util.ArrayList;\n",
    "\n",
    "public class seedExtra {\n",
    "    public static void main(String[] args) {\n",
    "        Scanner userInput = new Scanner(System.in);\n",
    "        int a = userInput.nextInt();\n",
    "        int b = userInput.nextInt();\n",
    "        int c = a + b;\n",
    "        ArrayList<Integer> binary = new ArrayList<Integer>();\n",
    "        int sum = 0;\n",
    "        for (int i = 7; i >= 0; i--) {\n",
    "            sum += Math.pow(2, i);\n",
    "            if (sum == c) {\n",
    "                binary.add(1);\n",
    "                for (int j = i - 1; j >= 0; j--) {\n",
    "                    binary.add(0);\n",
    "                }\n",
    "                break;\n",
    "            } else if (sum > c) {\n",
    "                sum -= Math.pow(2, i);\n",
    "                binary.add(0);\n",
    "            } else if (sum < c) {\n",
    "                binary.add(1);\n",
    "            }\n",
    "        }\n",
    "\n",
    "        String finalAnswer = \"\";\n",
    "        int zeroCount = 0;\n",
    "        for (int x = 0; x < binary.size(); x++) {\n",
    "            finalAnswer += binary.get(x);\n",
    "        }\n",
    "\n",
    "        for (int y = 0; y < finalAnswer.length(); y++) {\n",
    "            if (finalAnswer.charAt(y) == '1') {\n",
    "                finalAnswer = finalAnswer.substring(y, finalAnswer.length());\n",
    "                break;\n",
    "            } else if (y == finalAnswer.length() - 1) {\n",
    "                finalAnswer = \"0\";\n",
    "                break;\n",
    "            }\n",
    "        }\n",
    "\n",
    "        System.out.println(finalAnswer);\n",
    "    }\n",
    "}\n",
    "\n",
    "seedExtra.main(null);"
   ]
  }
 ],
 "metadata": {
  "kernelspec": {
   "display_name": "Java",
   "language": "java",
   "name": "java"
  },
  "language_info": {
   "codemirror_mode": "java",
   "file_extension": ".jshell",
   "mimetype": "text/x-java-source",
   "name": "Java",
   "pygments_lexer": "java",
   "version": "11.0.16+8-post-Ubuntu-0ubuntu120.04"
  },
  "orig_nbformat": 4
 },
 "nbformat": 4,
 "nbformat_minor": 2
}
