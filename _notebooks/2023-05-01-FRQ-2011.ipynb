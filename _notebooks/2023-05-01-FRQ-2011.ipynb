{
 "cells": [
  {
   "attachments": {},
   "cell_type": "markdown",
   "metadata": {},
   "source": [
    "# FRQ 2011 Post\n",
    "> FRQ 2011 Post\n",
    "\n",
    "- toc: true\n",
    "- description: FRQ 2011 blog post for AP CSA\n",
    "- categories: [jupyter]\n",
    "- title: FRQ 2011 Post\n",
    "- author: Dylan Luo\n",
    "- show_tags: true\n",
    "- comments: true"
   ]
  },
  {
   "attachments": {},
   "cell_type": "markdown",
   "metadata": {},
   "source": [
    "## 2011 FRQ Question 1: ##"
   ]
  },
  {
   "cell_type": "code",
   "execution_count": null,
   "metadata": {
    "vscode": {
     "languageId": "java"
    }
   },
   "outputs": [],
   "source": [
    "public class Level {\n",
    "    public boolean goalReached() {\n",
    "\n",
    "    }\n",
    "\n",
    "    public int getPoints() {\n",
    "\n",
    "    }\n",
    "}\n",
    "\n",
    "public class Game {\n",
    "    private Level levelOne;\n",
    "    private Level levelTwo;\n",
    "    private Level levelThree;\n",
    "\n",
    "    public Game() {\n",
    "\n",
    "    }\n",
    "\n",
    "    public boolean isBonus() {\n",
    "\n",
    "    }\n",
    "\n",
    "    public void play() {\n",
    "\n",
    "    }\n",
    "\n",
    "    public int getScore() {\n",
    "        int score = 0;\n",
    "        if (levelOne.goalReached() == true) {\n",
    "            score += levelOne.getPoints();\n",
    "            if (levelTwo.goalReached() == true) {\n",
    "                score += levelTwo.getPoints();\n",
    "                if (levelThree.goalReached() == true) {\n",
    "                    score += levelThree.getPoints();\n",
    "                }\n",
    "            }\n",
    "        }\n",
    "        if (isBonus() == true) {\n",
    "            score *= 3;\n",
    "        }\n",
    "        return score;\n",
    "    }\n",
    "\n",
    "    public int playManyTimes(int num) {\n",
    "        int[] scores = new int[num];\n",
    "        int index = 0;\n",
    "        for (int i = 0; i < num; i++) {\n",
    "            play();\n",
    "            scores[index] = getScore();\n",
    "            index++;\n",
    "        }\n",
    "\n",
    "        int high = scores[0];\n",
    "         \n",
    "        for (int j = 0; j < scores.length; j++) {\n",
    "            if (scores[j] > high) {\n",
    "                high = scores[j];\n",
    "            }\n",
    "        }\n",
    "        return high;\n",
    "    }\n",
    "}"
   ]
  },
  {
   "cell_type": "code",
   "execution_count": null,
   "metadata": {
    "vscode": {
     "languageId": "java"
    }
   },
   "outputs": [],
   "source": [
    "public class Book {\n",
    "    private String title;\n",
    "\n",
    "    private double price;\n",
    "\n",
    "    public Book() {\n",
    "\n",
    "    }\n",
    "}\n",
    "\n",
    "public class Textbook extends Book {\n",
    "    private int edition;\n",
    "\n",
    "    public Textbook(String bookTitle, double bookPrice, int editionNumber) {\n",
    "        super(bookTitle, bookPrice);\n",
    "        edition = editionNumber;\n",
    "    }\n",
    "\n",
    "    public String getBookInfo() {\n",
    "        return title + \"-\" + price + \"-\" + edition;\n",
    "    }\n",
    "\n",
    "    public int getEdition() {\n",
    "        return edition;\n",
    "    }\n",
    "\n",
    "    public boolean canSubstituteFor(Textbook previousTextbook) {\n",
    "        if (title.equals(previousTextbook.getTitle()) && edition >= previousTextbook.getEdition()) {\n",
    "            return true;\n",
    "        }\n",
    "        return false;\n",
    "    }\n",
    "}"
   ]
  },
  {
   "cell_type": "code",
   "execution_count": 1,
   "metadata": {
    "vscode": {
     "languageId": "java"
    }
   },
   "outputs": [
    {
     "ename": "CompilationException",
     "evalue": "",
     "output_type": "error",
     "traceback": [
      "\u001b[1m\u001b[30m|   \u001b[1m\u001b[30m        \u001b[0m\u001b[1m\u001b[30m\u001b[41m\u001b[0m\u001b[1m\u001b[30m}\u001b[0m",
      "\u001b[1m\u001b[31millegal start of statement\u001b[0m",
      "",
      "\u001b[1m\u001b[30m|   \u001b[1m\u001b[30m                comments.add()\u001b[0m\u001b[1m\u001b[30m\u001b[41m\u001b[0m\u001b[1m\u001b[30m\u001b[0m",
      "\u001b[1m\u001b[31m';' expected\u001b[0m",
      ""
     ]
    }
   ],
   "source": [
    "public class ReviewAnalysis {\n",
    "    private Review[] allReviews;\n",
    "\n",
    "    public ReviewAnalysis() {\n",
    "\n",
    "    }\n",
    "\n",
    "    public double getAverageRating() {\n",
    "        double average = 0;\n",
    "        for (Review review : allReviews) {\n",
    "            average += review.getRating();\n",
    "        }\n",
    "        average /= (double) review.length;\n",
    "        return average;\n",
    "    }\n",
    "\n",
    "    public ArrayList<String> collectComments() {\n",
    "        ArrayList<String> comments = new ArrayList<String>();\n",
    "        for (int i = 0; i < allReviews.length; i++) {\n",
    "            String finalString = \"\";\n",
    "            String comment = allReviews[i].getComment();\n",
    "            if (comment.contains(\"!\") == true) {\n",
    "                finalString += i + \"-\" + comment;\n",
    "                if (comment.substring(comment.length() - 1).equals(\"!\") || comment.substring(comment.length() - 1).equals(\".\")) {\n",
    "                    \n",
    "                }\n",
    "            }\n",
    "        }\n",
    "    }\n",
    "}"
   ]
  }
 ],
 "metadata": {
  "kernelspec": {
   "display_name": "Java",
   "language": "java",
   "name": "java"
  },
  "language_info": {
   "codemirror_mode": "java",
   "file_extension": ".jshell",
   "mimetype": "text/x-java-source",
   "name": "Java",
   "pygments_lexer": "java",
   "version": "11.0.16+8-post-Ubuntu-0ubuntu120.04"
  },
  "orig_nbformat": 4
 },
 "nbformat": 4,
 "nbformat_minor": 2
}
