{
 "cells": [
  {
   "cell_type": "code",
   "execution_count": 33,
   "metadata": {
    "vscode": {
     "languageId": "java"
    }
   },
   "outputs": [
    {
     "name": "stdout",
     "output_type": "stream",
     "text": [
      "Trimester GPA Calculator\n",
      "Enter the number of classes this trimester or the most recent trimester with final grades:\n",
      "8 classes\n",
      "Enter Class Grades:\n",
      "\n",
      "A\n",
      "A\n",
      "B\n",
      "A\n",
      "A\n",
      "B\n",
      "A\n",
      "A\n",
      "Your Overall GPA: 3.75\n"
     ]
    }
   ],
   "source": [
    "import java.util.Scanner;\n",
    "\n",
    "public class GPACalculator {\n",
    "    public static void main(String[] args) {\n",
    "        System.out.println(\"Trimester GPA Calculator\");\n",
    "        Scanner userInput = new Scanner(System.in);\n",
    "        int sum = 0;\n",
    "        System.out.println(\"Enter the number of classes this trimester or the most recent trimester with final grades:\");\n",
    "        int classes = userInput.nextInt();\n",
    "        System.out.println(classes + \" classes\");\n",
    "        System.out.println(\"Enter Class Grades:\");\n",
    "        for (int i = 0; i <= classes; i++) {\n",
    "            int gpa = 0;\n",
    "            String grade = userInput.nextLine();\n",
    "            System.out.println(grade);\n",
    "            if (grade.equals(\"A\")) {\n",
    "                gpa = 4;\n",
    "            } else if (grade.equals(\"B\")) {\n",
    "                gpa = 3;\n",
    "            } else if (grade.equals(\"C\")) {\n",
    "                gpa = 2;\n",
    "            } else if (grade.equals(\"D\")) {\n",
    "                gpa = 1;\n",
    "            } else if (grade.equals(\"F\")) {\n",
    "                gpa = 0;\n",
    "            }\n",
    "            sum = sum + gpa;\n",
    "        }\n",
    "\n",
    "        float gpaWhole = (float) sum/(float) classes;\n",
    "\n",
    "        System.out.println(\"Your Overall GPA: \" + gpaWhole);\n",
    "    }\n",
    "}\n",
    "\n",
    "GPACalculator.main(null);"
   ]
  },
  {
   "cell_type": "code",
   "execution_count": null,
   "metadata": {
    "vscode": {
     "languageId": "java"
    }
   },
   "outputs": [],
   "source": []
  }
 ],
 "metadata": {
  "kernelspec": {
   "display_name": "Java",
   "language": "java",
   "name": "java"
  },
  "language_info": {
   "codemirror_mode": "java",
   "file_extension": ".jshell",
   "mimetype": "text/x-java-source",
   "name": "Java",
   "pygments_lexer": "java",
   "version": "11.0.16+8-post-Ubuntu-0ubuntu120.04"
  },
  "orig_nbformat": 4,
  "vscode": {
   "interpreter": {
    "hash": "916dbcbb3f70747c44a77c7bcd40155683ae19c65e1c03b4aa3499c5328201f1"
   }
  }
 },
 "nbformat": 4,
 "nbformat_minor": 2
}
