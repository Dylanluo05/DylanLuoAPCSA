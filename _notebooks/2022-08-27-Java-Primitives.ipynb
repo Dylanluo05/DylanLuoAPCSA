{
 "cells": [
  {
   "cell_type": "code",
   "execution_count": 10,
   "metadata": {
    "vscode": {
     "languageId": "java"
    }
   },
   "outputs": [
    {
     "ename": "CompilationException",
     "evalue": "",
     "output_type": "error",
     "traceback": [
      "\u001b[1m\u001b[30m|   \u001b[1m\u001b[30m        int test = \u001b[0m\u001b[1m\u001b[30m\u001b[41muserInput.nextline\u001b[0m\u001b[1m\u001b[30m(); \u001b[0m",
      "\u001b[1m\u001b[31mcannot find symbol\u001b[0m",
      "\u001b[1m\u001b[31m  symbol:   method nextline()\u001b[0m",
      ""
     ]
    }
   ],
   "source": [
    "import java.util.Scanner;\n",
    "\n",
    "public class GPACalculator {\n",
    "    public static void main(String[] args) {\n",
    "        System.out.println(\"Trimester GPA Calculator\");\n",
    "        Scanner userInput = new Scanner(System.in);\n",
    "        System.out.println(\"Enter: \");\n",
    "        int test = userInput.nextint(); \n",
    "        System.out.println(test);\n",
    "    }\n",
    "}\n",
    "\n",
    "GPACalculator.main(null);"
   ]
  }
 ],
 "metadata": {
  "kernelspec": {
   "display_name": "Java",
   "language": "java",
   "name": "java"
  },
  "language_info": {
   "codemirror_mode": "java",
   "file_extension": ".jshell",
   "mimetype": "text/x-java-source",
   "name": "Java",
   "pygments_lexer": "java",
   "version": "11.0.16+8-post-Ubuntu-0ubuntu120.04"
  },
  "orig_nbformat": 4,
  "vscode": {
   "interpreter": {
    "hash": "916dbcbb3f70747c44a77c7bcd40155683ae19c65e1c03b4aa3499c5328201f1"
   }
  }
 },
 "nbformat": 4,
 "nbformat_minor": 2
}
