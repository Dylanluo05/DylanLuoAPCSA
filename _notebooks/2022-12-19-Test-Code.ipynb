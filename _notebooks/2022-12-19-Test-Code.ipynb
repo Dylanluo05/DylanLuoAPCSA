{
 "cells": [
  {
   "cell_type": "code",
   "execution_count": 1,
   "metadata": {},
   "outputs": [
    {
     "name": "stdout",
     "output_type": "stream",
     "text": [
      "aaca\n",
      "ca\n",
      "ca\n",
      "ca\n"
     ]
    }
   ],
   "source": [
    "class Solution {\n",
    "    public String removeDuplicates(String s) {\n",
    "        String finalString = s;\n",
    "        int stringLength = finalString.length();\n",
    "        while (stringLength > 1) {\n",
    "            for (int i = 0; i < finalString.length() - 1; i++) {\n",
    "                if (finalString.charAt(i) == finalString.charAt(i + 1)) {\n",
    "                    finalString = finalString.substring(0 , i) + finalString.substring(i + 2, finalString.length());\n",
    "                    stringLength -= 2;\n",
    "                }\n",
    "            }\n",
    "        }\n",
    "        return finalString;\n",
    "    }\n",
    "\n",
    "    public static void main(String[] args) {\n",
    "        Solution myObj = new Solution();\n",
    "        System.out.println(myObj.removeDuplicates(\"abbaca\"));\n",
    "    }\n",
    "}\n",
    "\n",
    "Solution.main(null);"
   ]
  },
  {
   "cell_type": "code",
   "execution_count": 1,
   "metadata": {},
   "outputs": [
    {
     "name": "stdout",
     "output_type": "stream",
     "text": [
      "2\n",
      "5\n",
      "8\n",
      "12\n",
      "16\n",
      "23\n",
      "38\n",
      "56\n",
      "72\n",
      "91\n"
     ]
    }
   ],
   "source": [
    "public class Main {\n",
    "    public static void main(String[] args) {\n",
    "        int[] numbers = {5, 12, 8, 2, 91, 23, 16, 56, 38, 72};\n",
    "        int swapCount = 0;\n",
    "        for (int i = 0; i < numbers.length - 1; i++) {\n",
    "            if (numbers[i] > numbers[i + 1]) {\n",
    "                int temp = numbers[i + 1];\n",
    "                numbers[i + 1] = numbers[i];\n",
    "                numbers[i] = temp;\n",
    "                swapCount++;\n",
    "            }\n",
    "            if (i == numbers.length - 2 && swapCount != 0) {\n",
    "                swapCount = 0;\n",
    "                i = -1;\n",
    "            }\n",
    "        }\n",
    "        for (int number : numbers) {\n",
    "            System.out.println(number);\n",
    "        }\n",
    "\n",
    "    }\n",
    "}\n",
    "\n",
    "Main.main(null);"
   ]
  },
  {
   "cell_type": "code",
   "execution_count": 5,
   "metadata": {},
   "outputs": [
    {
     "name": "stdout",
     "output_type": "stream",
     "text": [
      "0 1 2 3 4 5 6 7 8 9 10 "
     ]
    }
   ],
   "source": [
    "public class Country {\n",
    "    // properties\n",
    "}\n",
    "\n",
    "public class Main {\n",
    "    // properties, methods, and ArrayList\n",
    "    public static void main(String[] args) {\n",
    "\n",
    "    }\n",
    "}\n",
    "\n",
    "\n",
    "public void Pyramid(int n) {\n",
    "    for (int i = 1; i <= n; i++) {\n",
    "        System.out.println(\"*\");\n",
    "        System.out.println();\n",
    "        Pyramid(n - 1);\n",
    "    }\n",
    "}\n",
    "Pyramid(10);\n",
    "\n",
    "public void drawLine(int n)\n",
    "{\n",
    " for (int i = 1; i <= n; i++) {\n",
    "      System.out.print(\"*\");\n",
    "      System.out.println();\n",
    "      drawLine(n - 1);\n",
    " }\n",
    "}\n",
    "drawLine(10);\n",
    "\n",
    "Main.main(null);"
   ]
  }
 ],
 "metadata": {
  "kernelspec": {
   "display_name": "Java",
   "language": "java",
   "name": "java"
  },
  "language_info": {
   "codemirror_mode": "java",
   "file_extension": ".jshell",
   "mimetype": "text/x-java-source",
   "name": "java",
   "pygments_lexer": "java",
   "version": "11.0.16+8-post-Ubuntu-0ubuntu120.04"
  },
  "orig_nbformat": 4
 },
 "nbformat": 4,
 "nbformat_minor": 2
}
