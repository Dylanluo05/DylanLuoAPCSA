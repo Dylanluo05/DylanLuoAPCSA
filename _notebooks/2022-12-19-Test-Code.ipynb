{
 "cells": [
  {
   "cell_type": "code",
   "execution_count": 1,
   "metadata": {},
   "outputs": [
    {
     "name": "stdout",
     "output_type": "stream",
     "text": [
      "aaca\n",
      "ca\n",
      "ca\n",
      "ca\n"
     ]
    }
   ],
   "source": [
    "class Solution {\n",
    "    public String removeDuplicates(String s) {\n",
    "        String finalString = s;\n",
    "        int stringLength = finalString.length();\n",
    "        while (stringLength > 1) {\n",
    "            for (int i = 0; i < finalString.length() - 1; i++) {\n",
    "                if (finalString.charAt(i) == finalString.charAt(i + 1)) {\n",
    "                    finalString = finalString.substring(0 , i) + finalString.substring(i + 2, finalString.length());\n",
    "                    stringLength -= 2;\n",
    "                }\n",
    "            }\n",
    "        }\n",
    "        return finalString;\n",
    "    }\n",
    "\n",
    "    public static void main(String[] args) {\n",
    "        Solution myObj = new Solution();\n",
    "        System.out.println(myObj.removeDuplicates(\"abbaca\"));\n",
    "    }\n",
    "}\n",
    "\n",
    "Solution.main(null);"
   ]
  },
  {
   "cell_type": "code",
   "execution_count": 1,
   "metadata": {},
   "outputs": [
    {
     "name": "stdout",
     "output_type": "stream",
     "text": [
      "1\n",
      "-\n",
      "1\n",
      "+\n",
      "1\n"
     ]
    }
   ],
   "source": [
    "public class Test {\n",
    "    public static void main(String[] args) {\n",
    "        ArrayList<String> tokens = new ArrayList<String>();\n",
    "        tokens.add(\"1\");\n",
    "        tokens.add(\"+\");\n",
    "        tokens.add(\"1\");\n",
    "        tokens.add(\"+\");\n",
    "        tokens.add(\"1\");\n",
    "        tokens.set(1, \"-\");\n",
    "        tokens.remove(1-1);\n",
    "        tokens.remove(1+1);\n",
    "        for (String token : tokens) {\n",
    "            System.out.println(token);\n",
    "        }\n",
    "    }\n",
    "}\n",
    "\n",
    "Test.main(null);"
   ]
  }
 ],
 "metadata": {
  "kernelspec": {
   "display_name": "Java",
   "language": "java",
   "name": "java"
  },
  "language_info": {
   "codemirror_mode": "java",
   "file_extension": ".jshell",
   "mimetype": "text/x-java-source",
   "name": "java",
   "pygments_lexer": "java",
   "version": "11.0.16+8-post-Ubuntu-0ubuntu120.04"
  },
  "orig_nbformat": 4
 },
 "nbformat": 4,
 "nbformat_minor": 2
}
