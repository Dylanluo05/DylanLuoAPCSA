{
 "cells": [
  {
   "cell_type": "code",
   "execution_count": 1,
   "metadata": {
    "vscode": {
     "languageId": "java"
    }
   },
   "outputs": [
    {
     "name": "stdout",
     "output_type": "stream",
     "text": [
      "aaca\n",
      "ca\n",
      "ca\n",
      "ca\n"
     ]
    }
   ],
   "source": [
    "class Solution {\n",
    "    public String removeDuplicates(String s) {\n",
    "        String finalString = s;\n",
    "        int stringLength = finalString.length();\n",
    "        while (stringLength > 1) {\n",
    "            for (int i = 0; i < finalString.length() - 1; i++) {\n",
    "                if (finalString.charAt(i) == finalString.charAt(i + 1)) {\n",
    "                    finalString = finalString.substring(0 , i) + finalString.substring(i + 2, finalString.length());\n",
    "                    stringLength -= 2;\n",
    "                }\n",
    "            }\n",
    "        }\n",
    "        return finalString;\n",
    "    }\n",
    "\n",
    "    public static void main(String[] args) {\n",
    "        Solution myObj = new Solution();\n",
    "        System.out.println(myObj.removeDuplicates(\"abbaca\"));\n",
    "    }\n",
    "}\n",
    "\n",
    "Solution.main(null);"
   ]
  },
  {
   "cell_type": "code",
   "execution_count": 1,
   "metadata": {
    "vscode": {
     "languageId": "java"
    }
   },
   "outputs": [
    {
     "name": "stdout",
     "output_type": "stream",
     "text": [
      "B\n"
     ]
    }
   ],
   "source": [
    "public class A {\n",
    "    public void show() {\n",
    "        System.out.println(\"A\");\n",
    "    }\n",
    "}\n",
    "\n",
    "public class B extends A {\n",
    "    public void show() {\n",
    "        System.out.println(\"B\");\n",
    "    }\n",
    "}\n",
    "\n",
    "public class Main {\n",
    "    public static void main(String[] args) {\n",
    "        A obj = new B();\n",
    "        obj.show();\n",
    "    }\n",
    "}\n",
    "\n",
    "Main.main(null);"
   ]
  }
 ],
 "metadata": {
  "kernelspec": {
   "display_name": "Java",
   "language": "java",
   "name": "java"
  },
  "language_info": {
   "codemirror_mode": "java",
   "file_extension": ".jshell",
   "mimetype": "text/x-java-source",
   "name": "Java",
   "pygments_lexer": "java",
   "version": "11.0.16+8-post-Ubuntu-0ubuntu120.04"
  },
  "orig_nbformat": 4
 },
 "nbformat": 4,
 "nbformat_minor": 2
}
