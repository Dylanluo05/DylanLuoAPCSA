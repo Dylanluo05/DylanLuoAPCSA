{
 "cells": [
  {
   "cell_type": "code",
   "execution_count": 3,
   "metadata": {},
   "outputs": [
    {
     "name": "stdout",
     "output_type": "stream",
     "text": [
      "7\n",
      "3.14159265358979\n",
      "true\n",
      "Hello World\n"
     ]
    }
   ],
   "source": [
    "public class primitives {\n",
    "    public static void main(String[] args) {\n",
    "        int x = 7;\n",
    "        double y = 3.14159265358979;\n",
    "        boolean z = true;\n",
    "        String a = \"Hello World\";\n",
    "\n",
    "        System.out.println(x);\n",
    "        System.out.println(y);\n",
    "        System.out.println(z);\n",
    "        System.out.println(a);\n",
    "    }\n",
    "}\n",
    "\n",
    "primitives.main(null);"
   ]
  },
  {
   "cell_type": "code",
   "execution_count": null,
   "metadata": {},
   "outputs": [],
   "source": []
  }
 ],
 "metadata": {
  "kernelspec": {
   "display_name": "Java",
   "language": "java",
   "name": "java"
  },
  "language_info": {
   "codemirror_mode": "java",
   "file_extension": ".jshell",
   "mimetype": "text/x-java-source",
   "name": "java",
   "pygments_lexer": "java",
   "version": "11.0.16+8-post-Ubuntu-0ubuntu120.04"
  },
  "orig_nbformat": 4
 },
 "nbformat": 4,
 "nbformat_minor": 2
}
