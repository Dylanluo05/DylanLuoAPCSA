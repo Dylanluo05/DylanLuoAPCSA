{
 "cells": [
  {
   "cell_type": "code",
   "execution_count": 3,
   "metadata": {
    "vscode": {
     "languageId": "java"
    }
   },
   "outputs": [
    {
     "name": "stdout",
     "output_type": "stream",
     "text": [
      "7\n",
      "3.14159265358979\n",
      "true\n",
      "Hello World\n"
     ]
    }
   ],
   "source": [
    "public class primitives {\n",
    "    public static void main(String[] args) {\n",
    "        int x = 7;\n",
    "        double y = 3.14159265358979;\n",
    "        boolean z = true;\n",
    "        String a = \"Hello World\";\n",
    "\n",
    "        System.out.println(x);\n",
    "        System.out.println(y);\n",
    "        System.out.println(z);\n",
    "        System.out.println(a);\n",
    "    }\n",
    "}\n",
    "\n",
    "primitives.main(null);"
   ]
  },
  {
   "cell_type": "code",
   "execution_count": 7,
   "metadata": {
    "vscode": {
     "languageId": "java"
    }
   },
   "outputs": [
    {
     "name": "stdout",
     "output_type": "stream",
     "text": [
      "All prime numbers between 1 and 100, inclusive\n",
      "2\n",
      "4\n",
      "6\n",
      "8\n",
      "10\n",
      "12\n",
      "14\n",
      "16\n",
      "18\n",
      "20\n",
      "22\n",
      "24\n",
      "26\n",
      "28\n",
      "30\n",
      "32\n",
      "34\n",
      "36\n",
      "38\n",
      "40\n",
      "42\n",
      "44\n",
      "46\n",
      "48\n",
      "50\n",
      "52\n",
      "54\n",
      "56\n",
      "58\n",
      "60\n",
      "62\n",
      "64\n",
      "66\n",
      "68\n",
      "70\n",
      "72\n",
      "74\n",
      "76\n",
      "78\n",
      "80\n",
      "82\n",
      "84\n",
      "86\n",
      "88\n",
      "90\n",
      "92\n",
      "94\n",
      "96\n",
      "98\n",
      "100\n"
     ]
    }
   ],
   "source": [
    "public class primitives {\n",
    "    public static void main(String[] args) {\n",
    "        System.out.println(\"All prime numbers between 1 and 100, inclusive\");\n",
    "        for (int i = 1; i < 101; i++) {\n",
    "            if (i > 2) {\n",
    "                for (int a = 2; a < i; a++) {\n",
    "                    switch (i) {\n",
    "                        case i <\n",
    "                    }\n",
    "                }\n",
    "            }\n",
    "        }\n",
    "    }\n",
    "}\n",
    "primitives.main(null);"
   ]
  }
 ],
 "metadata": {
  "kernelspec": {
   "display_name": "Java",
   "language": "java",
   "name": "java"
  },
  "language_info": {
   "codemirror_mode": "java",
   "file_extension": ".jshell",
   "mimetype": "text/x-java-source",
   "name": "Java",
   "pygments_lexer": "java",
   "version": "11.0.16+8-post-Ubuntu-0ubuntu120.04"
  },
  "orig_nbformat": 4
 },
 "nbformat": 4,
 "nbformat_minor": 2
}
