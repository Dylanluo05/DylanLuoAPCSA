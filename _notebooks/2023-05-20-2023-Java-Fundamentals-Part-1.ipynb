{
 "cells": [
  {
   "attachments": {},
   "cell_type": "markdown",
   "metadata": {},
   "source": [
    "# Java Fundamentals - Notes Part 1\n",
    "> Java Fundamentals - Notes Part 1\n",
    "\n",
    "- toc: true\n",
    "- description: Java Fundamentals Post for first part of notes\n",
    "- categories: [jupyter]\n",
    "- title: Java Fundamentals - Notes Part 1\n",
    "- author: Dylan Luo\n",
    "- show_tags: true\n",
    "- comments: true"
   ]
  },
  {
   "attachments": {},
   "cell_type": "markdown",
   "metadata": {},
   "source": [
    "# 1. A Hello World Program #"
   ]
  },
  {
   "attachments": {},
   "cell_type": "markdown",
   "metadata": {},
   "source": [
    "## Notes: ##\n",
    "* The System.out.println() method is a default Java method that prints whatever is specified in its parameter on a new line.\n",
    "* If you want to print a String, wrap it within double quotes inside the println parameter. Note single quotes are for characters, not Strings."
   ]
  },
  {
   "attachments": {},
   "cell_type": "markdown",
   "metadata": {},
   "source": [
    "## Examples: ##\n"
   ]
  },
  {
   "cell_type": "code",
   "execution_count": 1,
   "metadata": {
    "vscode": {
     "languageId": "java"
    }
   },
   "outputs": [
    {
     "name": "stdout",
     "output_type": "stream",
     "text": [
      "Hello, World!\n"
     ]
    }
   ],
   "source": [
    "public class Application {\n",
    "    public static void main(String[] args) {\n",
    "        System.out.println(\"Hello, World!\");\n",
    "    }\n",
    "}\n",
    "\n",
    "Application.main(null);"
   ]
  },
  {
   "attachments": {},
   "cell_type": "markdown",
   "metadata": {},
   "source": [
    "# 2. Using Variables #"
   ]
  },
  {
   "attachments": {},
   "cell_type": "markdown",
   "metadata": {},
   "source": [
    "## Notes: ##\n",
    "* Variables are essentially containers that can store values.\n",
    "* Different variable types are like containers that store different types of values.\n",
    "* You can declare and initialize variables on the same line of code (e.g. int myNumber = 7;).\n",
    "* There are 8 primitive data types in Java: byte (8-bit integer), short (16-bit integer), int (32-bit integer), long (64-bit integer), float (32-bit single-precision floating point, can contain decimals), double (64-bit double-precision floating point, can contain decimals), boolean (can only contain two possible values: true or false), and char (16-bit Unicode character)."
   ]
  },
  {
   "attachments": {},
   "cell_type": "markdown",
   "metadata": {},
   "source": [
    "## Examples: ##"
   ]
  },
  {
   "cell_type": "code",
   "execution_count": 6,
   "metadata": {
    "vscode": {
     "languageId": "java"
    }
   },
   "outputs": [
    {
     "name": "stdout",
     "output_type": "stream",
     "text": [
      "7\n",
      "8\n",
      "777\n",
      "9797\n",
      "3.1415\n",
      "324.3\n",
      "A\n",
      "true\n",
      "127\n"
     ]
    }
   ],
   "source": [
    "public class Application {\n",
    "    public static void main(String[] args) {\n",
    "        // Declare variable\n",
    "        int myNumber;\n",
    "\n",
    "        // Initialize variable value\n",
    "        myNumber = 7;\n",
    "\n",
    "        // Output variable value\n",
    "        System.out.println(myNumber);\n",
    "\n",
    "        // Different variable types\n",
    "        int myNumber2 = 8;\n",
    "        short myShort = 777;\n",
    "        long myLong = 9797;\n",
    "        double myDouble = 3.1415;\n",
    "        // Include the f at the end of the value\n",
    "        float myFloat = 324.3f;\n",
    "        char myChar = 'A';\n",
    "        boolean myBoolean = true;\n",
    "        byte myByte = 127;\n",
    "        \n",
    "        System.out.println(myNumber2);\n",
    "        System.out.println(myShort);\n",
    "        System.out.println(myLong);\n",
    "        System.out.println(myDouble);\n",
    "        System.out.println(myFloat);\n",
    "        System.out.println(myChar);\n",
    "        System.out.println(myBoolean);\n",
    "        System.out.println(myByte);\n",
    "    }\n",
    "}\n",
    "\n",
    "Application.main(null);"
   ]
  },
  {
   "attachments": {},
   "cell_type": "markdown",
   "metadata": {},
   "source": [
    "# Strings: Working with Text #"
   ]
  },
  {
   "attachments": {},
   "cell_type": "markdown",
   "metadata": {},
   "source": [
    "## Notes: ##\n",
    "* String is a class, or a type of object. More specifically, it is a non-primitive data type in Java.\n",
    "* Concatenation is the action of combining multiple Strings together to form a new String, which is done by appending the next String to the end of the previous String.\n",
    "* The System.out.println() function can be used to print out other variable types (e.g. int)."
   ]
  },
  {
   "attachments": {},
   "cell_type": "markdown",
   "metadata": {},
   "source": [
    "## Examples: ##"
   ]
  },
  {
   "cell_type": "code",
   "execution_count": 4,
   "metadata": {
    "vscode": {
     "languageId": "java"
    }
   },
   "outputs": [
    {
     "name": "stdout",
     "output_type": "stream",
     "text": [
      "Hello Bob\n",
      "Hello Bob\n",
      "My integer is: 7\n",
      "My number is: 7.1\n"
     ]
    }
   ],
   "source": [
    "public class Application {\n",
    "    public static void main(String[] args) {\n",
    "        int myInt = 7;\n",
    "        // String is the class, and \"Hello\" is an instance of the String object.\n",
    "        String text = \"Hello\";\n",
    "\n",
    "        String blank = \" \";\n",
    "\n",
    "        String name = \"Bob\";\n",
    "\n",
    "        //Concatenation of Strings\n",
    "        String greeting = text + blank + name;\n",
    "\n",
    "        double myDouble = 7.1;\n",
    "\n",
    "        System.out.println(greeting);\n",
    "        System.out.println(\"Hello\" + \" \" + \"Bob\");\n",
    "        // Printing out different variable types. Notice that the values of myInt and myDouble are printed as is.\n",
    "        System.out.println(\"My integer is: \" + myInt);\n",
    "        System.out.println(\"My number is: \" + myDouble);\n",
    "    }\n",
    "}\n",
    "\n",
    "Application.main(null);"
   ]
  },
  {
   "attachments": {},
   "cell_type": "markdown",
   "metadata": {},
   "source": [
    "# While Loops #"
   ]
  },
  {
   "attachments": {},
   "cell_type": "markdown",
   "metadata": {},
   "source": [
    "## Notes: ##\n",
    "* Note that there is a difference between parameters and arguments. The key distinction is that parameters are the variables written inside the functions definition, while arguments are the actual variable values passed to functions to run them.\n",
    "* The argument written in a while loop is the condition it needs to satisfy in order to keep looping. \n",
    "* However, certain variables, primarily the ones contained within the condition, need to be changed during iterations for the sake of preventing an infinite loop (at some point, the condition needs to be false, so the loop stops)."
   ]
  },
  {
   "attachments": {},
   "cell_type": "markdown",
   "metadata": {},
   "source": [
    "## Examples: ##"
   ]
  },
  {
   "cell_type": "code",
   "execution_count": 9,
   "metadata": {
    "vscode": {
     "languageId": "java"
    }
   },
   "outputs": [
    {
     "name": "stdout",
     "output_type": "stream",
     "text": [
      "true\n",
      "Number 0\n",
      "Number 1\n",
      "Number 2\n",
      "Number 3\n",
      "Number 4\n",
      "Number 5\n",
      "Number 6\n",
      "Number 7\n",
      "Number 8\n",
      "Number 9\n"
     ]
    }
   ],
   "source": [
    "public class Application {\n",
    "    public static void main(String[] args) {\n",
    "        int value = 0;\n",
    "\n",
    "        // The boolean data type determine whether its value is true or false\n",
    "        boolean loop = value < 20;\n",
    "        System.out.println(loop);\n",
    "        \n",
    "        // The while loop is followed with curly brackets instead of a semi-colon. This is for the sake of creating a block of code.\n",
    "        while (value < 10) {\n",
    "            System.out.println(\"Number \" + value);\n",
    "            // Increment by 1\n",
    "            value = value + 1;\n",
    "        }\n",
    "\n",
    "        \n",
    "    }\n",
    "}\n",
    "\n",
    "Application.main(null);"
   ]
  },
  {
   "attachments": {},
   "cell_type": "markdown",
   "metadata": {},
   "source": [
    "# For Loops #"
   ]
  },
  {
   "attachments": {},
   "cell_type": "markdown",
   "metadata": {},
   "source": [
    "## Notes: ##\n",
    "* Like the while loop, the for loop is followed by curly brackets. Within the brackets defines the code block that will be executed in each iteration of the loop.\n",
    "* The for loop contains 3 sections (inside the parenthesis following the for keyword). The 1st section defines what code is executed/initialized at the very beginning of the for loop. The 2nd section defines the condition, as long as the condition is true, the loop will keep iterating. The condition is checked at the start of each iteration. The 3rd section defines the code that is executed once after every iteration. The sections are separated by semi-colons, and not all sections need to have code within them.\n",
    "* The System.out.printf is a format specifier that takes multiple arguments. In our example, the first argument is a String, and the second argument is a value to fill in as the format specifier. Unlike println, it does not print values on a new line."
   ]
  },
  {
   "attachments": {},
   "cell_type": "markdown",
   "metadata": {},
   "source": [
    "## Examples: ##"
   ]
  },
  {
   "cell_type": "code",
   "execution_count": 1,
   "metadata": {
    "vscode": {
     "languageId": "java"
    }
   },
   "outputs": [
    {
     "name": "stdout",
     "output_type": "stream",
     "text": [
      "0\n",
      "1\n",
      "2\n",
      "3\n",
      "4\n"
     ]
    }
   ],
   "source": [
    "public class Application {\n",
    "    public static void main(String[] args) {\n",
    "        // i++ means increment i by 1. It is the same as i = i + 1.\n",
    "        // After 5 iterations, the for loop will stop.\n",
    "        // Iteration visualization: i = 0, i = 1, i = 2, i = 3, i = 4 (loop stops here, since in the next iteration, i equals 5, which is not less than 5).\n",
    "        for (int i = 0; i < 5; i++) {\n",
    "            // Print out the string, but replace %d (int format specifier) with the value of i.\n",
    "            // \\n indicates new line of the specified value is printed.\n",
    "            System.out.printf(\"The value of i is: %d\\n\", i);\n",
    "        }\n",
    "    }\n",
    "}\n",
    "\n",
    "Application.main(null);"
   ]
  },
  {
   "attachments": {},
   "cell_type": "markdown",
   "metadata": {},
   "source": [
    "# If Statements #"
   ]
  },
  {
   "attachments": {},
   "cell_type": "markdown",
   "metadata": {},
   "source": [
    "## Notes: ##\n",
    "* When comparing primitive type values, use == and != to compare values. = is for assignment of values to variables.\n",
    "* To create an if statement, write the keyword if, then follow it up with circle brackets. Within the brackets lies the condition that must be true in order for the block of code following the if statement (typically within curly brackets) to run.\n",
    "* The else statement directly follows a complete if statement (after the code block of the if statement) or complete else if statement; it is the last conditional statement in a line of conditionals (when there is an if statement followed by one or more else if statements, all connected with each other in terms of the conditional process) and defines the code that will run if the condition in all the previous conditional statements are false.\n",
    "* An else if statement directly follows a complete if statement or another else if statement, and contains a new condition. If this new condition is met, the code within the else if code block will run. An else if statement will only run if the previous statements (if and else if) are false.\n",
    "* A general rule of thumb is that if you have a conditional line with if, else if, and else statements, only one of those conditional statements should run. But if you have multiple if statements following one another, there is a possibility that more than one of them will run, since there can be more than one condition that is met.\n",
    "* The break keyword \"breaks\" a loop, or stops a loop from continue executing. In other words, the program jumps out of the loop and continues from it."
   ]
  },
  {
   "attachments": {},
   "cell_type": "markdown",
   "metadata": {},
   "source": [
    "## Examples: ##"
   ]
  },
  {
   "cell_type": "code",
   "execution_count": 11,
   "metadata": {
    "vscode": {
     "languageId": "java"
    }
   },
   "outputs": [
    {
     "name": "stdout",
     "output_type": "stream",
     "text": [
      "true\n",
      "Yes, it's true!\n",
      "None of the above\n",
      "Looping: 0\n",
      "Running\n",
      "Looping: 1\n",
      "Running\n",
      "Looping: 2\n",
      "Running\n",
      "Looping: 3\n",
      "Running\n",
      "Looping: 4\n",
      "Running\n",
      "Looping: 5\n"
     ]
    }
   ],
   "source": [
    "public class Application {\n",
    "    public static void main(String[] args) {\n",
    "        // == indicates that the 2 values are equal to each other, while != indicates that the 2 values are not equal to each other.\n",
    "        boolean cond = 5 != 2;\n",
    "        System.out.println(cond);\n",
    "\n",
    "        int myInt = 5;\n",
    "        // The statement \"Yes, it's true!\"\" will print because the value of myInt, 5, is in fact less than 30.\n",
    "        if (myInt < 30) {\n",
    "            System.out.println(\"Yes, it's true!\");\n",
    "        }\n",
    "\n",
    "        int num = 15;\n",
    "        if (num < 10) {\n",
    "            System.out.println(\"True\");\n",
    "        } else if (num > 20) {\n",
    "            System.out.println(\"False\");\n",
    "        } else {\n",
    "            System.out.println(\"None of the above\");\n",
    "        }\n",
    "\n",
    "        int loop = 0;\n",
    "        // This while loop will become an infinite loop without the break statement, since the value true is always true.\n",
    "        while (true) {\n",
    "            System.out.println(\"Looping: \" + loop);\n",
    "\n",
    "            if (loop == 5) {\n",
    "                // Stop loop execution once loop has a value of 5\n",
    "                break;\n",
    "            }\n",
    "            // Increment loop by 1 in each iteration\n",
    "            loop++;\n",
    "\n",
    "            System.out.println(\"Running\");\n",
    "        }\n",
    "    }\n",
    "}\n",
    "\n",
    "Application.main(null);"
   ]
  },
  {
   "attachments": {},
   "cell_type": "markdown",
   "metadata": {},
   "source": [
    "# Getting User Input #"
   ]
  },
  {
   "attachments": {},
   "cell_type": "markdown",
   "metadata": {},
   "source": [
    "## Notes: ##\n",
    "* To get user input in Java, the Scanner library in Java can be used. To import java libraries, use the import keyword followed by the reference to the library.\n",
    "* To import the Scanner class, type import java.util.Scanner, since the Scanner library is a part of the java.util package.\n",
    "* The Scanner library creates a prompt on which users can type on. The new keyword creates a new object of a referenced class. System.in is an argument passed to the Scanner constructor, and is an input stream object.\n",
    "* nextLine(), nextInt(), and nextDouble() are all example methods of the Scanner class that store user inputs into variables of specific data types."
   ]
  },
  {
   "attachments": {},
   "cell_type": "markdown",
   "metadata": {},
   "source": [
    "## Examples: ##"
   ]
  },
  {
   "cell_type": "code",
   "execution_count": 17,
   "metadata": {
    "vscode": {
     "languageId": "java"
    }
   },
   "outputs": [
    {
     "name": "stdout",
     "output_type": "stream",
     "text": [
      "Enter a line of text: \n",
      "Enter an integer: \n",
      "Enter a double: \n",
      "You wrote: Hey-7-7.7\n"
     ]
    }
   ],
   "source": [
    "import java.util.Scanner;\n",
    "\n",
    "public class Application {\n",
    "    public static void main(String[] args) {\n",
    "        // Create Scanner object variable called \"input\" of class type Scanner\n",
    "        Scanner input = new Scanner(System.in);\n",
    "\n",
    "        // Prompt user for input\n",
    "        System.out.println(\"Enter a line of text: \");\n",
    "        // nextLine() is a method of the Scanner class, that stores whatever the user types into a variable of type String\n",
    "        String line = input.nextLine();\n",
    "\n",
    "        System.out.println(\"Enter an integer: \");\n",
    "        // nextInt() is another method of the Scanner class that stores user input into variable of type integer.\n",
    "        // The program will crash, however, in the case that the user does not input a valid integer. An exception will be thrown.\n",
    "        // The program, therefore, currently isn't very robust. The Scanner does a method that solves this problem.\n",
    "        int myInt = input.nextInt();\n",
    "\n",
    "        // Usage of nextDouble() to store double type values that users input\n",
    "        System.out.println(\"Enter a double: \");\n",
    "        double value = input.nextDouble();\n",
    "\n",
    "        // Concatenation of user input values\n",
    "        System.out.println(\"You wrote: \" + line + \"-\" + myInt + \"-\" + value);\n",
    "\n",
    "    }\n",
    "}\n",
    "\n",
    "Application.main(null);"
   ]
  }
 ],
 "metadata": {
  "kernelspec": {
   "display_name": "Java",
   "language": "java",
   "name": "java"
  },
  "language_info": {
   "codemirror_mode": "java",
   "file_extension": ".jshell",
   "mimetype": "text/x-java-source",
   "name": "Java",
   "pygments_lexer": "java",
   "version": "11.0.16+8-post-Ubuntu-0ubuntu120.04"
  },
  "orig_nbformat": 4
 },
 "nbformat": 4,
 "nbformat_minor": 2
}
