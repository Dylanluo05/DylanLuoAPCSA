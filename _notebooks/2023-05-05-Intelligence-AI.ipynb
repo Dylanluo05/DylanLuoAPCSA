{
 "cells": [
  {
   "attachments": {},
   "cell_type": "markdown",
   "metadata": {},
   "source": [
    "# Intelligence AI Post\n",
    "> Intelligence AI Post\n",
    "\n",
    "- toc: true\n",
    "- description: Intelligence AI blog post for AP CSA\n",
    "- categories: [jupyter]\n",
    "- title: Intelligence AI Post\n",
    "- author: Dylan Luo\n",
    "- show_tags: true\n",
    "- comments: true"
   ]
  },
  {
   "cell_type": "code",
   "execution_count": 23,
   "metadata": {
    "vscode": {
     "languageId": "java"
    }
   },
   "outputs": [
    {
     "name": "stdout",
     "output_type": "stream",
     "text": [
      "Hello Dylan\n",
      "How has your day been\n",
      "good\n"
     ]
    }
   ],
   "source": [
    "import java.util.Scanner;\n",
    "\n",
    "public class Data {\n",
    "    private HashMap<String, String> replies;\n",
    "    private String[] greetings = {\"Hello\", \"Hey\", \"Hi\", \"What's up\", \"Howdy\"};\n",
    "    private String[] convoStarters = {\n",
    "        \"How has your day been\"\n",
    "    };\n",
    "\n",
    "    public String[] getGreetings() {\n",
    "        return greetings;\n",
    "    }\n",
    "\n",
    "    public String[] getConvoStarters() {\n",
    "        return convoStarters;\n",
    "    }\n",
    "}\n",
    "\n",
    "public class Physics {\n",
    "    public double kinematics() {\n",
    "\n",
    "    }\n",
    "}\n",
    "\n",
    "public class Intelligence {\n",
    "    private String mode;\n",
    "    private Data data;\n",
    "    private Physics phys;\n",
    "    public Scanner userInput = new Scanner(System.in);\n",
    "\n",
    "    public Intelligence(String m) {\n",
    "        mode = m;\n",
    "        data = new Data();\n",
    "    }\n",
    "\n",
    "    public void initialize() {\n",
    "        switch (mode) {\n",
    "            case \"conversation\":\n",
    "                conversation();\n",
    "                break;\n",
    "            case \"physics\":\n",
    "                physics();\n",
    "                break;\n",
    "        }\n",
    "    }\n",
    "\n",
    "    public void conversation() {\n",
    "        int greetingIndex = (int) (Math.random() * (data.getGreetings().length));\n",
    "        System.out.println(data.getGreetings()[greetingIndex] + \" Dylan\");\n",
    "        int starterIndex = (int) (Math.random() * (data.getConvoStarters().length));\n",
    "        System.out.println(data.getConvoStarters()[starterIndex]);\n",
    "        String talk = userInput.nextLine();\n",
    "        while (!(talk.equals(\"goodbye\"))) {\n",
    "            System.out.println(talk);\n",
    "            talk = userInput.nextLine().toLowerCase();\n",
    "        }\n",
    "    }\n",
    "\n",
    "    public void physics() {\n",
    "        System.out.println(\"What kind of physics problem would you like me to solve, sir?\");\n",
    "        String physTopic = userInput.nextLine();\n",
    "    }\n",
    "\n",
    "    public static void main(String[] args) {\n",
    "        Intelligence ai = new Intelligence(\"physics\");\n",
    "        ai.initialize();\n",
    "    }\n",
    "}\n",
    "\n",
    "Intelligence.main(null);"
   ]
  }
 ],
 "metadata": {
  "kernelspec": {
   "display_name": "Java",
   "language": "java",
   "name": "java"
  },
  "language_info": {
   "codemirror_mode": "java",
   "file_extension": ".jshell",
   "mimetype": "text/x-java-source",
   "name": "Java",
   "pygments_lexer": "java",
   "version": "11.0.16+8-post-Ubuntu-0ubuntu120.04"
  },
  "orig_nbformat": 4
 },
 "nbformat": 4,
 "nbformat_minor": 2
}
