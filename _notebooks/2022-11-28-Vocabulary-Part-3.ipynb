{
 "cells": [
  {
   "cell_type": "markdown",
   "metadata": {},
   "source": [
    "# Vocabulary Part 3 Post\n",
    "> Vocabulary Part 3\n",
    "\n",
    "- toc: true\n",
    "- description: Vocabulary part 3 post for AP CSA\n",
    "- categories: [jupyter]\n",
    "- title: Vocabulary Part 3 Post\n",
    "- author: Dylan Luo\n",
    "- show_tags: true\n",
    "- comments: true"
   ]
  },
  {
   "cell_type": "markdown",
   "metadata": {},
   "source": [
    "* **Accessor Methods:** A method that fetches private data that is stored in an object. This method is related to \"getting\" data.\n",
    "* **Mutator Methods:** A method that controls changes to a variable. This method is related to \"setting\" data. Usually, a setter method is accompanied by a getter method.\n",
    "* **Static Variables and Class Variables:** A static variable is a variable that has been statically allocated, which means that its lifetime is the entire run of the program. A class variable is a variable that is defined in a class in which only a single copy exists, regardless of how many instances of objects of that class exist.\n",
    "* **Public, Private, and Protected Access Modifiers:** The public access modifier makes it so that the code is accessible for all classes. The private access modifier makes it so that the code is only accessible within the declared class. The protected access modifier makes it so that the code is only accessible in the same package and subclasses.\n",
    "* **Static Methods and Class Methods:** A static method is a method that can be called directly, without the need of creating an object of the class the static method is in. A class method is a method that is bound to a class instead of its object. It can be called by both a class and an object.\n",
    "* **this Keyword:** The this keyword is a reference variable that refers to the current object in a method or constructor. \n",
    "* **main method and tester methods:** The main method serves as an entry point for executing a Java program. It can contain code and call methods to execute. Tester methods are basically instances of main methods being used.\n",
    "* **Inheritance:** An OOP concept that allows subclasses to acquire the properties of a superclass. With inheritance, children classes can inherit the features of a parent class."
   ]
  },
  {
   "cell_type": "code",
   "execution_count": 22,
   "metadata": {
    "vscode": {
     "languageId": "java"
    }
   },
   "outputs": [
    {
     "name": "stdout",
     "output_type": "stream",
     "text": [
      "Printing Static Variable: 7\n",
      "Printing Class Variable: 7\n",
      "Static method is working!\n",
      "Class method is working!\n"
     ]
    }
   ],
   "source": [
    "public class VocabThree {\n",
    "    // Initialized private int variable\n",
    "    private int num;\n",
    "        \n",
    "    // Accessor method\n",
    "    public int getNum() {\n",
    "        return num;\n",
    "    }\n",
    "\n",
    "    // Mutator method\n",
    "    public void setNum(int numInput) {\n",
    "        // this keyword\n",
    "        this.num = numInput;\n",
    "    }\n",
    "\n",
    "    // Static variable\n",
    "    static int staticVar = 7;\n",
    "\n",
    "    // Class variable\n",
    "    public int classVar = 7;\n",
    "\n",
    "    // Protected variable\n",
    "    protected int protectedVar = 7;\n",
    "\n",
    "    //Static method\n",
    "    static void runStatic() {\n",
    "        System.out.println(\"Static method is working!\");\n",
    "    }\n",
    "    //Class method\n",
    "    public void runClass() {\n",
    "        System.out.println(\"Class method is working!\");\n",
    "    }\n",
    "\n",
    "    // main/tester method\n",
    "    public static void main(String[] args) {\n",
    "        // Create an object to access class variables\n",
    "        VocabThree myObj = new VocabThree();\n",
    "        System.out.println(\"Printing Static Variable: \" + staticVar);\n",
    "        System.out.println(\"Printing Class Variable: \" + myObj.classVar);\n",
    "\n",
    "        runStatic();\n",
    "        myObj.runClass();\n",
    "    }\n",
    "}\n",
    "VocabThree.main(null);"
   ]
  },
  {
   "cell_type": "code",
   "execution_count": 23,
   "metadata": {
    "vscode": {
     "languageId": "java"
    }
   },
   "outputs": [
    {
     "name": "stdout",
     "output_type": "stream",
     "text": [
      "Class method is working!\n"
     ]
    }
   ],
   "source": [
    "// Inheritance\n",
    "class SubVocabThree extends VocabThree {\n",
    "    // main/tester method\n",
    "    public static void main(String[] args) {\n",
    "        // Running inherited class method\n",
    "        SubVocabThree myObj = new SubVocabThree();\n",
    "        myObj.runClass();\n",
    "    }\n",
    "}\n",
    "\n",
    "SubVocabThree.main(null);"
   ]
  }
 ],
 "metadata": {
  "kernelspec": {
   "display_name": "Java",
   "language": "java",
   "name": "java"
  },
  "language_info": {
   "codemirror_mode": "java",
   "file_extension": ".jshell",
   "mimetype": "text/x-java-source",
   "name": "Java",
   "pygments_lexer": "java",
   "version": "11.0.16+8-post-Ubuntu-0ubuntu120.04"
  },
  "orig_nbformat": 4,
  "vscode": {
   "interpreter": {
    "hash": "916dbcbb3f70747c44a77c7bcd40155683ae19c65e1c03b4aa3499c5328201f1"
   }
  }
 },
 "nbformat": 4,
 "nbformat_minor": 2
}
