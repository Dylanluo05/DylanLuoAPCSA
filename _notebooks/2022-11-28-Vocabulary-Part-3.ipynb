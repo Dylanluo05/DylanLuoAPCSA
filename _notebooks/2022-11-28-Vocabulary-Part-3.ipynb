{
 "cells": [
  {
   "cell_type": "markdown",
   "metadata": {},
   "source": [
    "# Vocabulary Part 3 Post\n",
    "> Vocabulary Part 3\n",
    "\n",
    "- toc: true\n",
    "- description: Vocabulary part 3 post for AP CSA\n",
    "- categories: [jupyter]\n",
    "- title: Vocabulary Part 3 Post\n",
    "- author: Dylan Luo\n",
    "- show_tags: true\n",
    "- comments: true"
   ]
  },
  {
   "cell_type": "markdown",
   "metadata": {},
   "source": [
    "* **Accessor Methods:** A method that fetches private data that is stored in an object. This method is related to \"getting\" data.\n",
    "* **Mutator Methods:** A method that controls changes to a variable. This method is related to \"setting\" data. Usually, a setter method is accompanied by a getter method.\n",
    "* **Static Variables and Class Variables:** A static variable is a variable that has been statically allocated, which means that its lifetime is the entire run of the program. A class variable is a variable that is defined in a class in which only a single copy exists, regardless of how many instances of objects of that class exist.\n",
    "* **Public, Private, and Protected Access Modifiers:** The public access modifier makes it so that the code is accessible for all classes. The private access modifier makes it so that the code is only accessible within the declared class. The protected access modifier makes it so that the code is only accessible in the same package and subclasses.\n",
    "* **Static Methods and Class Methods:** A static method is a method that can be called directly, without the need of creating an object of the class the static method is in. A class method is a method that is bound to a class instead of its object. It can be called by both a class and an object.\n",
    "* **this Keyword:** The this keyword is a reference variable that refers to the current object in a method or constructor. \n",
    "* **main method and tester methods:** The main method serves as an entry point for executing a Java program. It can contain code and call methods to execute. Tester methods are basically instances of main methods being used.\n",
    "* **Inheritance:** An OOP concept that allows subclasses to acquire the properties of a superclass. With inheritance, children classes can inherit the features of a parent class."
   ]
  }
 ],
 "metadata": {
  "kernelspec": {
   "display_name": "Java",
   "language": "java",
   "name": "java"
  },
  "language_info": {
   "name": "java",
   "version": "3.8.10"
  },
  "orig_nbformat": 4,
  "vscode": {
   "interpreter": {
    "hash": "916dbcbb3f70747c44a77c7bcd40155683ae19c65e1c03b4aa3499c5328201f1"
   }
  }
 },
 "nbformat": 4,
 "nbformat_minor": 2
}
