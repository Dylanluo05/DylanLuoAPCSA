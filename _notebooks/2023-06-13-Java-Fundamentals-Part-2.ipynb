{
 "cells": [
  {
   "attachments": {},
   "cell_type": "markdown",
   "metadata": {},
   "source": [
    "# Java Fundamentals - Notes Part 2\n",
    "> Java Fundamentals - Notes Part 2\n",
    "\n",
    "- toc: true\n",
    "- description: Java Fundamentals Post for second part of notes\n",
    "- categories: [jupyter]\n",
    "- title: Java Fundamentals - Notes Part 2\n",
    "- author: Dylan Luo\n",
    "- show_tags: true\n",
    "- comments: true"
   ]
  },
  {
   "attachments": {},
   "cell_type": "markdown",
   "metadata": {},
   "source": [
    "# 23. Packages #"
   ]
  },
  {
   "attachments": {},
   "cell_type": "markdown",
   "metadata": {},
   "source": [
    "## Notes: ##\n",
    "* Packages in Java allow you to organize your code in a way that helps you find necessary files/classes quickly. They also assist in preventing conflicts in class names (e.g. 2 classes with the same name will not conflict if they are in separate packages).\n",
    "* The naming convention of package names is typically lowercase, with no spaces nor underscores (package names are usually concise).\n",
    "* Use the package keyword the specify the package a file is a part of, and use the import keyword to be able to implement that file from a separate file/class. The * keyword in an import statement indicates that all of the files/classes of the package will be imported.\n",
    "* Packages in Java follow a hierarchy, which means that you can have packages within packages. Slashes (/) are used to indicate/separate sub-folders, while dots (.) are used to indicate/separate sub-packages.\n",
    "* Package names should be unique in the whole world, so that code can be redistributed effectively without any conflicts. The naming convention of unique package names is first putting either your name (full name) or reversing the name (order of words) of your organization's website, then putting the sub-package name that indicates the purpose of your package."
   ]
  },
  {
   "attachments": {},
   "cell_type": "markdown",
   "metadata": {},
   "source": [
    "## Examples: ##"
   ]
  },
  {
   "cell_type": "code",
   "execution_count": 1,
   "metadata": {
    "vscode": {
     "languageId": "java"
    }
   },
   "outputs": [
    {
     "ename": "CompilationException",
     "evalue": "",
     "output_type": "error",
     "traceback": [
      "\u001b[1m\u001b[30m|   \u001b[1m\u001b[30m\u001b[0m\u001b[1m\u001b[30m\u001b[41m\u001b[0m\u001b[1m\u001b[30mpackage ocean;\u001b[0m",
      "\u001b[1m\u001b[31millegal start of expression\u001b[0m",
      ""
     ]
    }
   ],
   "source": [
    "// The package statement should be the first statement in the file, and defines the package that the file is a part of\n",
    "package ocean;\n",
    "\n",
    "public class Fish {\n",
    "    \n",
    "}"
   ]
  },
  {
   "cell_type": "code",
   "execution_count": 2,
   "metadata": {
    "vscode": {
     "languageId": "java"
    }
   },
   "outputs": [
    {
     "ename": "CompilationException",
     "evalue": "",
     "output_type": "error",
     "traceback": [
      "\u001b[1m\u001b[30m|   \u001b[1m\u001b[30m\u001b[0m\u001b[1m\u001b[30m\u001b[41m\u001b[0m\u001b[1m\u001b[30mpackage ocean;\u001b[0m",
      "\u001b[1m\u001b[31millegal start of expression\u001b[0m",
      ""
     ]
    }
   ],
   "source": [
    "// Another class (Shark) that is a part of the ocean package, aside from the Fish class.\n",
    "package ocean;\n",
    "\n",
    "public class Shark {\n",
    "\n",
    "}"
   ]
  },
  {
   "cell_type": "code",
   "execution_count": 4,
   "metadata": {
    "vscode": {
     "languageId": "java"
    }
   },
   "outputs": [
    {
     "ename": "CompilationException",
     "evalue": "",
     "output_type": "error",
     "traceback": [
      "\u001b[1m\u001b[30m|   \u001b[1m\u001b[30m\u001b[0m\u001b[1m\u001b[30m\u001b[41m\u001b[0m\u001b[1m\u001b[30mpackage ocean.plants;\u001b[0m",
      "\u001b[1m\u001b[31millegal start of expression\u001b[0m",
      ""
     ]
    }
   ],
   "source": [
    "// The plants package is a part of the ocean package.\n",
    "package ocean.plants;\n",
    "\n",
    "// The Algae class is a part of the plants sub-package of the ocean package.\n",
    "public class Algae {\n",
    "\n",
    "}"
   ]
  },
  {
   "cell_type": "code",
   "execution_count": 5,
   "metadata": {
    "vscode": {
     "languageId": "java"
    }
   },
   "outputs": [
    {
     "ename": "CompilationException",
     "evalue": "",
     "output_type": "error",
     "traceback": [
      "\u001b[1m\u001b[30m|   \u001b[1m\u001b[30m\u001b[0m\u001b[1m\u001b[30m\u001b[41m\u001b[0m\u001b[1m\u001b[30mpackage com.thebusinessnexus.todolist;\u001b[0m",
      "\u001b[1m\u001b[31millegal start of expression\u001b[0m",
      ""
     ]
    }
   ],
   "source": [
    "// Unique package name, where the ToDoList class is a part of the personalization sub-package, whose parent package is thebusinessnexus, whole parent package is com.\n",
    "// This order of package names is unique and is unlikely to conflict with other package names.\n",
    "// The personalization package by itself may not be unique, but will be unique if combined with the reversed name of thebusinessnexus.com.\n",
    "package com.thebusinessnexus.personalization;\n",
    "\n",
    "public class ToDoList {\n",
    "\n",
    "}"
   ]
  },
  {
   "cell_type": "code",
   "execution_count": 7,
   "metadata": {
    "vscode": {
     "languageId": "java"
    }
   },
   "outputs": [
    {
     "ename": "CompilationException",
     "evalue": "",
     "output_type": "error",
     "traceback": [
      "\u001b[1m\u001b[30m|   \u001b[1m\u001b[30mimport \u001b[0m\u001b[1m\u001b[30m\u001b[41mocean.Fish\u001b[0m\u001b[1m\u001b[30m;\u001b[0m",
      "\u001b[1m\u001b[31mpackage ocean does not exist\u001b[0m",
      ""
     ]
    }
   ],
   "source": [
    "// Import the Fish class from the ocean package, so that the Application class can implement the Fish class.\n",
    "import ocean.Fish;\n",
    "// Import the Shark class from the ocean package.\n",
    "import ocean.Shark;\n",
    "// Import the Algae class from the plants sub-package of the ocean package.\n",
    "import ocean.plants.Algae;\n",
    "// * indicates that every class from the ocean package is imported.\n",
    "import ocean.*;\n",
    "// Import the ToDoList class from the personalization sub-package of the thebusinessnexus sub-package of the com package (thebusinessnexus and com make up the actual website name).\n",
    "import com.thebusinessnexus.personalization.ToDoList;\n",
    "\n",
    "public class Application {\n",
    "    public static void main(String[] args) {\n",
    "        Fish fish = new Fish();\n",
    "        Shark shark = new Shark();\n",
    "        Algae algae = new Algae();\n",
    "        ToDoList toDoList = new ToDoList();\n",
    "    }\n",
    "}\n",
    "\n",
    "Application.main(null);"
   ]
  },
  {
   "attachments": {},
   "cell_type": "markdown",
   "metadata": {},
   "source": [
    "# 24. Interfaces #"
   ]
  },
  {
   "attachments": {},
   "cell_type": "markdown",
   "metadata": {},
   "source": [
    "## Notes: ##\n",
    "* In Java, interfaces are implicitly abstract (you do not need to declare them with the abstract keyword), and the methods within them are in turn implicitly public and abstract. Interfaces do not contain code that perform actions, but rather the headers of defined methods and sometimes variables (usually public, static, and final).\n",
    "* Interfaces are ultimately used to achieve abstraction, where they group related methods that all have empty bodies. Interfaces are accessed with the \"implement\" keyword from another class, and that class defines the bodies of the interface methods, thus overriding (redefining the method to have a body but with the same exact name) the interface method. Distinct classes can define a particular interface's methods differently.\n",
    "* Similar to abstract classes, interfaces cannot be used to initialize objects (where the interface name follows the new keyword), and do not have \"bodies\" of code. An interface is implemented by separate classes, in which all of the methods defined in the interface must be overridden with method bodies of code defined in the class. It is important to note that a class can implement multiple interfaces (in contrast, a class can only extend one parent class), and an interface can be implemented by multiple classes (a parent class can be inherited by multiple child classes).\n"
   ]
  },
  {
   "attachments": {},
   "cell_type": "markdown",
   "metadata": {},
   "source": [
    "## Examples: ##"
   ]
  },
  {
   "cell_type": "code",
   "execution_count": 11,
   "metadata": {
    "vscode": {
     "languageId": "java"
    }
   },
   "outputs": [
    {
     "name": "stdout",
     "output_type": "stream",
     "text": [
      "Machine started...\n",
      "Machine ID is: 7\n",
      "Hello there!\n",
      "Person name is: Bob\n",
      "Machine ID is: 7\n",
      "Person name is: Bob\n",
      "Machine ID is: 7\n",
      "Person name is: Bob\n"
     ]
    }
   ],
   "source": [
    "// Creating a Java interface with the name Info\n",
    "interface Info {\n",
    "    // Header of the showInfo() method.\n",
    "    public void showInfo();\n",
    "}\n",
    "\n",
    "// The Machine class implements the Info interface\n",
    "class Machine implements Info {\n",
    "    private int id = 7;\n",
    "\n",
    "    public void start() {\n",
    "        System.out.println(\"Machine started...\");\n",
    "    }\n",
    "\n",
    "    // Need to override the showInfo() method of the Info interface\n",
    "    @Override\n",
    "    public void showInfo() {\n",
    "        System.out.println(\"Machine ID is: \" + id);\n",
    "    }\n",
    "}\n",
    "\n",
    "// The Person class implements the Info interface\n",
    "class Person implements Info {\n",
    "    private String name;\n",
    "\n",
    "    public Person(String name) {\n",
    "        this.name = name;\n",
    "    }\n",
    "\n",
    "    public void greet() {\n",
    "        System.out.println(\"Hello there!\");\n",
    "    }\n",
    "\n",
    "    @Override\n",
    "    public void showInfo() {\n",
    "        System.out.println(\"Person name is: \" + name);\n",
    "    }\n",
    "}\n",
    "\n",
    "public class Application {\n",
    "    public static void main(String[] args) {\n",
    "        Machine mach1 = new Machine();\n",
    "        mach1.start();\n",
    "        // Call the showInfo() interface method defined in the Machine class\n",
    "        mach1.showInfo();\n",
    "\n",
    "        Person person1 = new Person(\"Bob\");\n",
    "        person1.greet();\n",
    "        // Call the showInfo() interface method defined in the Person class\n",
    "        person1.showInfo();\n",
    "\n",
    "        // We can initialize info1 like this because the Machine class implements the Info interface.\n",
    "        // info1 is a variable of type Info that points to an object reference of type Machine.\n",
    "        // Since info1 is a variable of type Info, it can only be used to run the methods of the Info interface, which are redefined in the Machine class, which is referenced as an object here.\n",
    "        Info info1 = new Machine();\n",
    "        info1.showInfo();\n",
    "\n",
    "        // info2 is a variable of type Info that points to an already defined object reference of class type Person\n",
    "        Info info2 = person1;\n",
    "        info2.showInfo();\n",
    "\n",
    "        // mach1 and person1 are both objects that implement the Info interface, which means that are technically of type Info.\n",
    "        // Pass the mach1 and person1 objects to the outputInfo() method, which in itself calls the showInfo() interface method, which is redefined in the Machine and Person classes.\n",
    "        outputInfo(mach1);\n",
    "        outputInfo(person1);\n",
    "    }\n",
    "\n",
    "    // Make this method static so that the Application class can directly access the method within itself (even though the method is private)\n",
    "    // The outputInfo() method calls the showInfo interface method, which should be defined in the separate classes that are called in the parameter of outputInfo()\n",
    "    private static void outputInfo(Info info) {\n",
    "        info.showInfo();\n",
    "    }\n",
    "}\n",
    "\n",
    "Application.main(null);"
   ]
  },
  {
   "attachments": {},
   "cell_type": "markdown",
   "metadata": {},
   "source": [
    "# 25. Public, Private, and Protected #"
   ]
  },
  {
   "attachments": {},
   "cell_type": "markdown",
   "metadata": {},
   "source": [
    "## Notes: ##\n",
    "* When referencing an attribute or method of a particular class within that class itself, you do not need to prefix the variable name. In other words, notation like objectName.variableName is unnecessary, since variableName works by itself. This means that the access modifier does not matter; as long as you are referencing the variable within the same class, you can directly access it by name or optionally prefix dot notation.\n",
    "* Just for review, you typically should have one (and only one) public class in a file, and that public class's name should match the name of the file. However, you can have as many non-public classes with different names in the file as you want.\n",
    "* Access modifiers define the access level of attributes, methods, classes, and constructors, while non-access modifiers do not define the access level, but rather other forms of functionality.\n",
    "* Encapsulation is typically used to keep certain attributes or methods of a class hidden/private from the rest of the world, for the purpose of controlling the way people access these variables, and preventing unnecessary changes from happening to them. \n",
    "* Usually when we declare a particular variable public, that variable is defined as static and/or final, which means it belongs and remains constant (or has a constant change if final is not declared) to the class itself, so that it is relatively unchangeable by others.\n",
    "* The order in which modifiers appear does not necessarily matter all of the time, but there is a recommended order.\n",
    "* The public access modifier defines a class, attribute, method, or constructor as directly accessible to all other classes.\n",
    "* The private access modifier defines an attribute, method, or constructor as only directly accessible within the class it is declared in (can be accessed with getter methods from other classes though). Private variables are not inherited by child classes.\n",
    "* The protected access modifier defines an attribute, method, or constructor as only accessible within the same package (implies same file too) and any subsequent subclasses (even subclasses in separate packages, unlike the default access modifier) of the class it is declared in. This means that protected variables are inherited by child classes.\n",
    "* The default access modifier (happens when no access modifier is declared at all) defines a class, attribute, method, or constructor as only accessible by other classes in the same package (implies same file too). A child class can inherit default access modified variables from the parent class only if it is in the same package. It is possible for a child class to extend a parent class in another package using the import feature, but in that case, default variables are not inherited."
   ]
  },
  {
   "attachments": {},
   "cell_type": "markdown",
   "metadata": {},
   "source": [
    "## Examples: ##"
   ]
  },
  {
   "cell_type": "code",
   "execution_count": 9,
   "metadata": {
    "vscode": {
     "languageId": "java"
    }
   },
   "outputs": [
    {
     "name": "stdout",
     "output_type": "stream",
     "text": [
      "Joe\n",
      "8\n",
      "large\n",
      "10\n",
      "medium\n"
     ]
    }
   ],
   "source": [
    "class Plant {\n",
    "    // Bad practice\n",
    "    public String name;\n",
    "\n",
    "    // Acceptable practice\n",
    "    // The ID variable belongs to the Plant class itself and remains constant\n",
    "    public final static int ID = 8;\n",
    "\n",
    "    // The type variable is private, so it is not inherited by subclasses\n",
    "    private String type;\n",
    "\n",
    "    // The size variable is protected, so it is inherited by subclasses\n",
    "    protected String size;\n",
    "\n",
    "    // The height variable has the default access modifier\n",
    "    int height;\n",
    "\n",
    "    public Plant() {\n",
    "        // this.name works, since the this keyword refers to the object that name is a part of.\n",
    "        this.name = \"Joe\";\n",
    "\n",
    "        // Even though it is private, the type instance variable is in the Plant class itself, so it can just be referenced by type.\n",
    "        type = \"plant\";\n",
    "\n",
    "        // size is defined as medium in the parent class\n",
    "        size = \"medium\";\n",
    "\n",
    "        height = 8;\n",
    "    }\n",
    "}\n",
    "\n",
    "// Oak is a child class of the parent class Plant\n",
    "class Oak extends Plant {\n",
    "    \n",
    "    public Oak() {\n",
    "        // size was defined as medium in the parent class and that value is inherited by the child class\n",
    "        // Here, we are overriding the value of size inherited from the parent class, and setting it to large\n",
    "        this.size = \"large\";\n",
    "\n",
    "        // height variable is inherited, since Oak is in the same package as Plant\n",
    "        height = 10;\n",
    "    }\n",
    "}\n",
    "\n",
    "class Field {\n",
    "    // Create an instance variable that is an object of the Plant class.\n",
    "    // The Plant class is accessible from the Field class because it has the default access modifier and is in the same file and package as the Field class.\n",
    "    private Plant plant = new Plant();\n",
    "\n",
    "    public Field() {\n",
    "        // size is protected, but Field is in the same file and package as Plant\n",
    "        System.out.println(plant.size);\n",
    "    }\n",
    "}\n",
    "\n",
    "public class Application {\n",
    "    public static void main(String[] args) {\n",
    "        Plant plant = new Plant();\n",
    "        // The name instance variable of the Plant class can be directly accessed outside of the class because it is public, using the prefix dot notation.\n",
    "        System.out.println(plant.name);\n",
    "        System.out.println(plant.ID);\n",
    "\n",
    "        Oak oak = new Oak();\n",
    "        System.out.println(oak.size);\n",
    "        // Application is in the same package as Oak and Plant, so it can directly access height\n",
    "        System.out.println(oak.height);\n",
    "\n",
    "        // The constructor of Field will print the initialized value of size when an object of the Plant class is created\n",
    "        Field field = new Field();\n",
    "    }\n",
    "}\n",
    "\n",
    "Application.main(null);"
   ]
  },
  {
   "cell_type": "code",
   "execution_count": 10,
   "metadata": {
    "vscode": {
     "languageId": "java"
    }
   },
   "outputs": [
    {
     "ename": "CompilationException",
     "evalue": "",
     "output_type": "error",
     "traceback": [
      "\u001b[1m\u001b[30m|   \u001b[1m\u001b[30mimport \u001b[0m\u001b[1m\u001b[30m\u001b[41mworld.Plant\u001b[0m\u001b[1m\u001b[30m;\u001b[0m",
      "\u001b[1m\u001b[31mpackage world does not exist\u001b[0m",
      ""
     ]
    }
   ],
   "source": [
    "// Pretend that Plant is a part of the world package, and that Grass in another package\n",
    "import world.Plant;\n",
    "\n",
    "class Grass extends Plant {\n",
    "    public Grass() {\n",
    "        // This won't work because even though Grass is a child class of Plant, it is not in the same package as Plant, and height is a default access-modified variable.\n",
    "        System.out.println(this.height);\n",
    "    }\n",
    "}"
   ]
  }
 ],
 "metadata": {
  "kernelspec": {
   "display_name": "Java",
   "language": "java",
   "name": "java"
  },
  "language_info": {
   "codemirror_mode": "java",
   "file_extension": ".jshell",
   "mimetype": "text/x-java-source",
   "name": "Java",
   "pygments_lexer": "java",
   "version": "11.0.16+8-post-Ubuntu-0ubuntu120.04"
  },
  "orig_nbformat": 4
 },
 "nbformat": 4,
 "nbformat_minor": 2
}
