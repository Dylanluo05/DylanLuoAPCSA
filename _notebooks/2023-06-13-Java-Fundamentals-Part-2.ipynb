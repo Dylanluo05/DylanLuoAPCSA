{
 "cells": [
  {
   "attachments": {},
   "cell_type": "markdown",
   "metadata": {},
   "source": [
    "# Java Fundamentals - Notes Part 2\n",
    "> Java Fundamentals - Notes Part 2\n",
    "\n",
    "- toc: true\n",
    "- description: Java Fundamentals Post for second part of notes\n",
    "- categories: [jupyter]\n",
    "- title: Java Fundamentals - Notes Part 2\n",
    "- author: Dylan Luo\n",
    "- show_tags: true\n",
    "- comments: true"
   ]
  },
  {
   "attachments": {},
   "cell_type": "markdown",
   "metadata": {},
   "source": [
    "# 23. Packages #"
   ]
  },
  {
   "attachments": {},
   "cell_type": "markdown",
   "metadata": {},
   "source": [
    "## Notes: ##\n",
    "* Packages in Java allow you to organize your code in a way that helps you find necessary files/classes quickly. They also assist in preventing conflicts in class names (e.g. 2 classes with the same name will not conflict if they are in separate packages).\n",
    "* The naming convention of package names is typically lowercase, with no spaces nor underscores (package names are usually concise).\n",
    "* Use the package keyword the specify the package a file is a part of, and use the import keyword to be able to implement that file from a separate file/class. The * keyword in an import statement indicates that all of the files/classes of the package will be imported.\n",
    "* Packages in Java follow a hierarchy, which means that you can have packages within packages. Slashes (/) are used to indicate/separate sub-folders, while dots (.) are used to indicate/separate sub-packages.\n",
    "* Package names should be unique in the whole world, so that code can be redistributed effectively without any conflicts. The naming convention of unique package names is first putting either your name (full name) or reversing the name (order of words) of your organization's website, then putting the sub-package name that indicates the purpose of your package."
   ]
  },
  {
   "attachments": {},
   "cell_type": "markdown",
   "metadata": {},
   "source": [
    "## Examples: ##"
   ]
  },
  {
   "cell_type": "code",
   "execution_count": 1,
   "metadata": {},
   "outputs": [
    {
     "ename": "CompilationException",
     "evalue": "",
     "output_type": "error",
     "traceback": [
      "\u001b[1m\u001b[30m|   \u001b[1m\u001b[30m\u001b[0m\u001b[1m\u001b[30m\u001b[41m\u001b[0m\u001b[1m\u001b[30mpackage ocean;\u001b[0m",
      "\u001b[1m\u001b[31millegal start of expression\u001b[0m",
      ""
     ]
    }
   ],
   "source": [
    "// The package statement should be the first statement in the file, and defines the package that the file is a part of\n",
    "package ocean;\n",
    "\n",
    "public class Fish {\n",
    "    \n",
    "}"
   ]
  },
  {
   "cell_type": "code",
   "execution_count": 2,
   "metadata": {},
   "outputs": [
    {
     "ename": "CompilationException",
     "evalue": "",
     "output_type": "error",
     "traceback": [
      "\u001b[1m\u001b[30m|   \u001b[1m\u001b[30m\u001b[0m\u001b[1m\u001b[30m\u001b[41m\u001b[0m\u001b[1m\u001b[30mpackage ocean;\u001b[0m",
      "\u001b[1m\u001b[31millegal start of expression\u001b[0m",
      ""
     ]
    }
   ],
   "source": [
    "// Another class (Shark) that is a part of the ocean package, aside from the Fish class.\n",
    "package ocean;\n",
    "\n",
    "public class Shark {\n",
    "\n",
    "}"
   ]
  },
  {
   "cell_type": "code",
   "execution_count": 4,
   "metadata": {},
   "outputs": [
    {
     "ename": "CompilationException",
     "evalue": "",
     "output_type": "error",
     "traceback": [
      "\u001b[1m\u001b[30m|   \u001b[1m\u001b[30m\u001b[0m\u001b[1m\u001b[30m\u001b[41m\u001b[0m\u001b[1m\u001b[30mpackage ocean.plants;\u001b[0m",
      "\u001b[1m\u001b[31millegal start of expression\u001b[0m",
      ""
     ]
    }
   ],
   "source": [
    "// The plants package is a part of the ocean package.\n",
    "package ocean.plants;\n",
    "\n",
    "// The Algae class is a part of the plants sub-package of the ocean package.\n",
    "public class Algae {\n",
    "\n",
    "}"
   ]
  },
  {
   "cell_type": "code",
   "execution_count": 5,
   "metadata": {},
   "outputs": [
    {
     "ename": "CompilationException",
     "evalue": "",
     "output_type": "error",
     "traceback": [
      "\u001b[1m\u001b[30m|   \u001b[1m\u001b[30m\u001b[0m\u001b[1m\u001b[30m\u001b[41m\u001b[0m\u001b[1m\u001b[30mpackage com.thebusinessnexus.todolist;\u001b[0m",
      "\u001b[1m\u001b[31millegal start of expression\u001b[0m",
      ""
     ]
    }
   ],
   "source": [
    "// Unique package name, where the ToDoList class is a part of the personalization sub-package, whose parent package is thebusinessnexus, whole parent package is com.\n",
    "// This order of package names is unique and is unlikely to conflict with other package names.\n",
    "// The personalization package by itself may not be unique, but will be unique if combined with the reversed name of thebusinessnexus.com.\n",
    "package com.thebusinessnexus.personalization;\n",
    "\n",
    "public class ToDoList {\n",
    "\n",
    "}"
   ]
  },
  {
   "cell_type": "code",
   "execution_count": 7,
   "metadata": {},
   "outputs": [
    {
     "ename": "CompilationException",
     "evalue": "",
     "output_type": "error",
     "traceback": [
      "\u001b[1m\u001b[30m|   \u001b[1m\u001b[30mimport \u001b[0m\u001b[1m\u001b[30m\u001b[41mocean.Fish\u001b[0m\u001b[1m\u001b[30m;\u001b[0m",
      "\u001b[1m\u001b[31mpackage ocean does not exist\u001b[0m",
      ""
     ]
    }
   ],
   "source": [
    "// Import the Fish class from the ocean package, so that the Application class can implement the Fish class.\n",
    "import ocean.Fish;\n",
    "// Import the Shark class from the ocean package.\n",
    "import ocean.Shark;\n",
    "// Import the Algae class from the plants sub-package of the ocean package.\n",
    "import ocean.plants.Algae;\n",
    "// * indicates that every class from the ocean package is imported.\n",
    "import ocean.*;\n",
    "// Import the ToDoList class from the personalization sub-package of the thebusinessnexus sub-package of the com package (thebusinessnexus and com make up the actual website name).\n",
    "import com.thebusinessnexus.personalization.ToDoList;\n",
    "\n",
    "public class Application {\n",
    "    public static void main(String[] args) {\n",
    "        Fish fish = new Fish();\n",
    "        Shark shark = new Shark();\n",
    "        Algae algae = new Algae();\n",
    "        ToDoList toDoList = new ToDoList();\n",
    "    }\n",
    "}\n",
    "\n",
    "Application.main(null);"
   ]
  }
 ],
 "metadata": {
  "kernelspec": {
   "display_name": "Java",
   "language": "java",
   "name": "java"
  },
  "language_info": {
   "codemirror_mode": "java",
   "file_extension": ".jshell",
   "mimetype": "text/x-java-source",
   "name": "java",
   "pygments_lexer": "java",
   "version": "11.0.16+8-post-Ubuntu-0ubuntu120.04"
  },
  "orig_nbformat": 4
 },
 "nbformat": 4,
 "nbformat_minor": 2
}
