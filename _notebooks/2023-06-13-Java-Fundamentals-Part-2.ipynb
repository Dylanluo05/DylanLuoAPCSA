{
 "cells": [
  {
   "attachments": {},
   "cell_type": "markdown",
   "metadata": {},
   "source": [
    "# Java Fundamentals - Notes Part 2\n",
    "> Java Fundamentals - Notes Part 2\n",
    "\n",
    "- toc: true\n",
    "- description: Java Fundamentals Post for second part of notes\n",
    "- categories: [jupyter]\n",
    "- title: Java Fundamentals - Notes Part 2\n",
    "- author: Dylan Luo\n",
    "- show_tags: true\n",
    "- comments: true"
   ]
  },
  {
   "attachments": {},
   "cell_type": "markdown",
   "metadata": {},
   "source": [
    "# 23. Packages #"
   ]
  },
  {
   "attachments": {},
   "cell_type": "markdown",
   "metadata": {},
   "source": [
    "## Notes: ##\n",
    "* Packages in Java allow you to organize your code in a way that helps you find necessary files/classes quickly. They also assist in preventing conflicts in class names (e.g. 2 classes with the same name will not conflict if they are in separate packages).\n",
    "* The naming convention of package names is typically lowercase, with no spaces nor underscores (package names are usually concise).\n",
    "* Use the package keyword the specify the package a file is a part of, and use the import keyword to be able to implement that file from a separate file/class. The * keyword in an import statement indicates that all of the files/classes of the package will be imported.\n",
    "* Packages in Java follow a hierarchy, which means that you can have packages within packages. Slashes (/) are used to indicate/separate sub-folders, while dots (.) are used to indicate/separate sub-packages.\n",
    "* Package names should be unique in the whole world, so that code can be redistributed effectively without any conflicts. The naming convention of unique package names is first putting either your name (full name) or reversing the name (order of words) of your organization's website, then putting the sub-package name that indicates the purpose of your package."
   ]
  },
  {
   "attachments": {},
   "cell_type": "markdown",
   "metadata": {},
   "source": [
    "## Examples: ##"
   ]
  },
  {
   "cell_type": "code",
   "execution_count": 1,
   "metadata": {
    "vscode": {
     "languageId": "java"
    }
   },
   "outputs": [
    {
     "ename": "CompilationException",
     "evalue": "",
     "output_type": "error",
     "traceback": [
      "\u001b[1m\u001b[30m|   \u001b[1m\u001b[30m\u001b[0m\u001b[1m\u001b[30m\u001b[41m\u001b[0m\u001b[1m\u001b[30mpackage ocean;\u001b[0m",
      "\u001b[1m\u001b[31millegal start of expression\u001b[0m",
      ""
     ]
    }
   ],
   "source": [
    "// The package statement should be the first statement in the file, and defines the package that the file is a part of\n",
    "package ocean;\n",
    "\n",
    "public class Fish {\n",
    "    \n",
    "}"
   ]
  },
  {
   "cell_type": "code",
   "execution_count": 2,
   "metadata": {
    "vscode": {
     "languageId": "java"
    }
   },
   "outputs": [
    {
     "ename": "CompilationException",
     "evalue": "",
     "output_type": "error",
     "traceback": [
      "\u001b[1m\u001b[30m|   \u001b[1m\u001b[30m\u001b[0m\u001b[1m\u001b[30m\u001b[41m\u001b[0m\u001b[1m\u001b[30mpackage ocean;\u001b[0m",
      "\u001b[1m\u001b[31millegal start of expression\u001b[0m",
      ""
     ]
    }
   ],
   "source": [
    "// Another class (Shark) that is a part of the ocean package, aside from the Fish class.\n",
    "package ocean;\n",
    "\n",
    "public class Shark {\n",
    "\n",
    "}"
   ]
  },
  {
   "cell_type": "code",
   "execution_count": 4,
   "metadata": {
    "vscode": {
     "languageId": "java"
    }
   },
   "outputs": [
    {
     "ename": "CompilationException",
     "evalue": "",
     "output_type": "error",
     "traceback": [
      "\u001b[1m\u001b[30m|   \u001b[1m\u001b[30m\u001b[0m\u001b[1m\u001b[30m\u001b[41m\u001b[0m\u001b[1m\u001b[30mpackage ocean.plants;\u001b[0m",
      "\u001b[1m\u001b[31millegal start of expression\u001b[0m",
      ""
     ]
    }
   ],
   "source": [
    "// The plants package is a part of the ocean package.\n",
    "package ocean.plants;\n",
    "\n",
    "// The Algae class is a part of the plants sub-package of the ocean package.\n",
    "public class Algae {\n",
    "\n",
    "}"
   ]
  },
  {
   "cell_type": "code",
   "execution_count": 5,
   "metadata": {
    "vscode": {
     "languageId": "java"
    }
   },
   "outputs": [
    {
     "ename": "CompilationException",
     "evalue": "",
     "output_type": "error",
     "traceback": [
      "\u001b[1m\u001b[30m|   \u001b[1m\u001b[30m\u001b[0m\u001b[1m\u001b[30m\u001b[41m\u001b[0m\u001b[1m\u001b[30mpackage com.thebusinessnexus.todolist;\u001b[0m",
      "\u001b[1m\u001b[31millegal start of expression\u001b[0m",
      ""
     ]
    }
   ],
   "source": [
    "// Unique package name, where the ToDoList class is a part of the personalization sub-package, whose parent package is thebusinessnexus, whole parent package is com.\n",
    "// This order of package names is unique and is unlikely to conflict with other package names.\n",
    "// The personalization package by itself may not be unique, but will be unique if combined with the reversed name of thebusinessnexus.com.\n",
    "package com.thebusinessnexus.personalization;\n",
    "\n",
    "public class ToDoList {\n",
    "\n",
    "}"
   ]
  },
  {
   "cell_type": "code",
   "execution_count": 7,
   "metadata": {
    "vscode": {
     "languageId": "java"
    }
   },
   "outputs": [
    {
     "ename": "CompilationException",
     "evalue": "",
     "output_type": "error",
     "traceback": [
      "\u001b[1m\u001b[30m|   \u001b[1m\u001b[30mimport \u001b[0m\u001b[1m\u001b[30m\u001b[41mocean.Fish\u001b[0m\u001b[1m\u001b[30m;\u001b[0m",
      "\u001b[1m\u001b[31mpackage ocean does not exist\u001b[0m",
      ""
     ]
    }
   ],
   "source": [
    "// Import the Fish class from the ocean package, so that the Application class can implement the Fish class.\n",
    "import ocean.Fish;\n",
    "// Import the Shark class from the ocean package.\n",
    "import ocean.Shark;\n",
    "// Import the Algae class from the plants sub-package of the ocean package.\n",
    "import ocean.plants.Algae;\n",
    "// * indicates that every class from the ocean package is imported.\n",
    "import ocean.*;\n",
    "// Import the ToDoList class from the personalization sub-package of the thebusinessnexus sub-package of the com package (thebusinessnexus and com make up the actual website name).\n",
    "import com.thebusinessnexus.personalization.ToDoList;\n",
    "\n",
    "public class Application {\n",
    "    public static void main(String[] args) {\n",
    "        Fish fish = new Fish();\n",
    "        Shark shark = new Shark();\n",
    "        Algae algae = new Algae();\n",
    "        ToDoList toDoList = new ToDoList();\n",
    "    }\n",
    "}\n",
    "\n",
    "Application.main(null);"
   ]
  },
  {
   "attachments": {},
   "cell_type": "markdown",
   "metadata": {},
   "source": [
    "# 24. Interfaces #"
   ]
  },
  {
   "attachments": {},
   "cell_type": "markdown",
   "metadata": {},
   "source": [
    "## Notes: ##\n",
    "* In Java, interfaces are implicitly abstract (you do not need to declare them with the abstract keyword), and the methods within them are in turn implicitly public and abstract. Interfaces do not contain code that perform actions, but rather the headers of defined methods and sometimes variables (usually public, static, and final).\n",
    "* Interfaces are ultimately used to achieve abstraction, where they group related methods that all have empty bodies. Interfaces are accessed with the \"implement\" keyword from another class, and that class defines the bodies of the interface methods, thus overriding (redefining the method to have a body but with the same exact name) the interface method. Distinct classes can define a particular interface's methods differently.\n",
    "* Similar to abstract classes, interfaces cannot be used to initialize objects (where the interface name follows the new keyword), and do not have \"bodies\" of code. An interface is implemented by separate classes, in which all of the methods defined in the interface must be overridden with method bodies of code defined in the class. It is important to note that a class can implement multiple interfaces (in contrast, a class can only extend one parent class), and an interface can be implemented by multiple classes (a parent class can be inherited by multiple child classes).\n"
   ]
  },
  {
   "attachments": {},
   "cell_type": "markdown",
   "metadata": {},
   "source": [
    "## Examples: ##"
   ]
  },
  {
   "cell_type": "code",
   "execution_count": 11,
   "metadata": {
    "vscode": {
     "languageId": "java"
    }
   },
   "outputs": [
    {
     "name": "stdout",
     "output_type": "stream",
     "text": [
      "Machine started...\n",
      "Machine ID is: 7\n",
      "Hello there!\n",
      "Person name is: Bob\n",
      "Machine ID is: 7\n",
      "Person name is: Bob\n",
      "Machine ID is: 7\n",
      "Person name is: Bob\n"
     ]
    }
   ],
   "source": [
    "// Creating a Java interface with the name Info\n",
    "interface Info {\n",
    "    // Header of the showInfo() method.\n",
    "    public void showInfo();\n",
    "}\n",
    "\n",
    "// The Machine class implements the Info interface\n",
    "class Machine implements Info {\n",
    "    private int id = 7;\n",
    "\n",
    "    public void start() {\n",
    "        System.out.println(\"Machine started...\");\n",
    "    }\n",
    "\n",
    "    // Need to override the showInfo() method of the Info interface\n",
    "    @Override\n",
    "    public void showInfo() {\n",
    "        System.out.println(\"Machine ID is: \" + id);\n",
    "    }\n",
    "}\n",
    "\n",
    "// The Person class implements the Info interface\n",
    "class Person implements Info {\n",
    "    private String name;\n",
    "\n",
    "    public Person(String name) {\n",
    "        this.name = name;\n",
    "    }\n",
    "\n",
    "    public void greet() {\n",
    "        System.out.println(\"Hello there!\");\n",
    "    }\n",
    "\n",
    "    @Override\n",
    "    public void showInfo() {\n",
    "        System.out.println(\"Person name is: \" + name);\n",
    "    }\n",
    "}\n",
    "\n",
    "public class Application {\n",
    "    public static void main(String[] args) {\n",
    "        Machine mach1 = new Machine();\n",
    "        mach1.start();\n",
    "        // Call the showInfo() interface method defined in the Machine class\n",
    "        mach1.showInfo();\n",
    "\n",
    "        Person person1 = new Person(\"Bob\");\n",
    "        person1.greet();\n",
    "        // Call the showInfo() interface method defined in the Person class\n",
    "        person1.showInfo();\n",
    "\n",
    "        // We can initialize info1 like this because the Machine class implements the Info interface.\n",
    "        // info1 is a variable of type Info that points to an object reference of type Machine.\n",
    "        // Since info1 is a variable of type Info, it can only be used to run the methods of the Info interface, which are redefined in the Machine class, which is referenced as an object here.\n",
    "        Info info1 = new Machine();\n",
    "        info1.showInfo();\n",
    "\n",
    "        // info2 is a variable of type Info that points to an already defined object reference of class type Person\n",
    "        Info info2 = person1;\n",
    "        info2.showInfo();\n",
    "\n",
    "        // mach1 and person1 are both objects that implement the Info interface, which means that are technically of type Info.\n",
    "        // Pass the mach1 and person1 objects to the outputInfo() method, which in itself calls the showInfo() interface method, which is redefined in the Machine and Person classes.\n",
    "        outputInfo(mach1);\n",
    "        outputInfo(person1);\n",
    "    }\n",
    "\n",
    "    // Make this method static so that the Application class can directly access the method within itself (even though the method is private)\n",
    "    // The outputInfo() method calls the showInfo interface method, which should be defined in the separate classes that are called in the parameter of outputInfo()\n",
    "    private static void outputInfo(Info info) {\n",
    "        info.showInfo();\n",
    "    }\n",
    "}\n",
    "\n",
    "Application.main(null);"
   ]
  },
  {
   "attachments": {},
   "cell_type": "markdown",
   "metadata": {},
   "source": [
    "# 25. Public, Private, and Protected #"
   ]
  },
  {
   "attachments": {},
   "cell_type": "markdown",
   "metadata": {},
   "source": [
    "## Notes: ##\n",
    "* When referencing an attribute or method of a particular class within that class itself, you do not need to prefix the variable name. In other words, notation like objectName.variableName is unnecessary, since variableName works by itself. This means that the access modifier does not matter; as long as you are referencing the variable within the same class, you can directly access it by name or optionally prefix dot notation.\n",
    "* Just for review, you typically should have one (and only one) public class in a file, and that public class's name should match the name of the file. However, you can have as many non-public classes with different names in the file as you want.\n",
    "* Access modifiers define the access level of attributes, methods, classes, and constructors, while non-access modifiers do not define the access level, but rather other forms of functionality.\n",
    "* Encapsulation is typically used to keep certain attributes or methods of a class hidden/private from the rest of the world, for the purpose of controlling the way people access these variables, and preventing unnecessary changes from happening to them. \n",
    "* Usually when we declare a particular variable public, that variable is defined as static and/or final, which means it belongs and remains constant (or has a constant change if final is not declared) to the class itself, so that it is relatively unchangeable by others.\n",
    "* The order in which modifiers appear does not necessarily matter all of the time, but there is a recommended order.\n",
    "* The public access modifier defines a class, attribute, method, or constructor as directly accessible to all other classes.\n",
    "* The private access modifier defines an attribute, method, or constructor as only directly accessible within the class it is declared in (can be accessed with getter methods from other classes though). Private variables are not inherited by child classes.\n",
    "* The protected access modifier defines an attribute, method, or constructor as only accessible within the same package (implies same file too) and any subsequent subclasses (even subclasses in separate packages, unlike the default access modifier) of the class it is declared in. This means that protected variables are inherited by child classes.\n",
    "* The default access modifier (happens when no access modifier is declared at all) defines a class, attribute, method, or constructor as only accessible by other classes in the same package (implies same file too). A child class can inherit default access modified variables from the parent class only if it is in the same package. It is possible for a child class to extend a parent class in another package using the import feature, but in that case, default variables are not inherited."
   ]
  },
  {
   "attachments": {},
   "cell_type": "markdown",
   "metadata": {},
   "source": [
    "## Examples: ##"
   ]
  },
  {
   "cell_type": "code",
   "execution_count": 9,
   "metadata": {
    "vscode": {
     "languageId": "java"
    }
   },
   "outputs": [
    {
     "name": "stdout",
     "output_type": "stream",
     "text": [
      "Joe\n",
      "8\n",
      "large\n",
      "10\n",
      "medium\n"
     ]
    }
   ],
   "source": [
    "class Plant {\n",
    "    // Bad practice\n",
    "    public String name;\n",
    "\n",
    "    // Acceptable practice\n",
    "    // The ID variable belongs to the Plant class itself and remains constant\n",
    "    public final static int ID = 8;\n",
    "\n",
    "    // The type variable is private, so it is not inherited by subclasses\n",
    "    private String type;\n",
    "\n",
    "    // The size variable is protected, so it is inherited by subclasses\n",
    "    protected String size;\n",
    "\n",
    "    // The height variable has the default access modifier\n",
    "    int height;\n",
    "\n",
    "    public Plant() {\n",
    "        // this.name works, since the this keyword refers to the object that name is a part of.\n",
    "        this.name = \"Joe\";\n",
    "\n",
    "        // Even though it is private, the type instance variable is in the Plant class itself, so it can just be referenced by type.\n",
    "        type = \"plant\";\n",
    "\n",
    "        // size is defined as medium in the parent class\n",
    "        size = \"medium\";\n",
    "\n",
    "        height = 8;\n",
    "    }\n",
    "}\n",
    "\n",
    "// Oak is a child class of the parent class Plant\n",
    "class Oak extends Plant {\n",
    "    \n",
    "    public Oak() {\n",
    "        // size was defined as medium in the parent class and that value is inherited by the child class\n",
    "        // Here, we are overriding the value of size inherited from the parent class, and setting it to large\n",
    "        this.size = \"large\";\n",
    "\n",
    "        // height variable is inherited, since Oak is in the same package as Plant\n",
    "        height = 10;\n",
    "    }\n",
    "}\n",
    "\n",
    "class Field {\n",
    "    // Create an instance variable that is an object of the Plant class.\n",
    "    // The Plant class is accessible from the Field class because it has the default access modifier and is in the same file and package as the Field class.\n",
    "    private Plant plant = new Plant();\n",
    "\n",
    "    public Field() {\n",
    "        // size is protected, but Field is in the same file and package as Plant\n",
    "        System.out.println(plant.size);\n",
    "    }\n",
    "}\n",
    "\n",
    "public class Application {\n",
    "    public static void main(String[] args) {\n",
    "        Plant plant = new Plant();\n",
    "        // The name instance variable of the Plant class can be directly accessed outside of the class because it is public, using the prefix dot notation.\n",
    "        System.out.println(plant.name);\n",
    "        System.out.println(plant.ID);\n",
    "\n",
    "        Oak oak = new Oak();\n",
    "        System.out.println(oak.size);\n",
    "        // Application is in the same package as Oak and Plant, so it can directly access height\n",
    "        System.out.println(oak.height);\n",
    "\n",
    "        // The constructor of Field will print the initialized value of size when an object of the Plant class is created\n",
    "        Field field = new Field();\n",
    "    }\n",
    "}\n",
    "\n",
    "Application.main(null);"
   ]
  },
  {
   "cell_type": "code",
   "execution_count": 10,
   "metadata": {
    "vscode": {
     "languageId": "java"
    }
   },
   "outputs": [
    {
     "ename": "CompilationException",
     "evalue": "",
     "output_type": "error",
     "traceback": [
      "\u001b[1m\u001b[30m|   \u001b[1m\u001b[30mimport \u001b[0m\u001b[1m\u001b[30m\u001b[41mworld.Plant\u001b[0m\u001b[1m\u001b[30m;\u001b[0m",
      "\u001b[1m\u001b[31mpackage world does not exist\u001b[0m",
      ""
     ]
    }
   ],
   "source": [
    "// Pretend that Plant is a part of the world package, and that Grass in another package\n",
    "import world.Plant;\n",
    "\n",
    "class Grass extends Plant {\n",
    "    public Grass() {\n",
    "        // This won't work because even though Grass is a child class of Plant, it is not in the same package as Plant, and height is a default access-modified variable.\n",
    "        System.out.println(this.height);\n",
    "    }\n",
    "}"
   ]
  },
  {
   "attachments": {},
   "cell_type": "markdown",
   "metadata": {},
   "source": [
    "# 26. Polymorphism #"
   ]
  },
  {
   "attachments": {},
   "cell_type": "markdown",
   "metadata": {},
   "source": [
    "## Notes: ##\n",
    "* Polymorphism, which means \"many shapes/forms\", involves the process of creating multiple classes that related to each other in some way through the inheritance of a super class. It is efficient in allowing code reusability amongst different classes. Polymorphism also states that an object of a sub-class can also have the variable type of the super-class (i.e. SuperClass variableName = new SubClass()). \n",
    "* However, it is important to note that the initialized variable type of an object variable defines the attributes and methods the variable has access to (can only access those listed in the class of the variable type), while the initialized object type of the variable defines the values of its attributes and the actions of its methods (the values and code defined in the class of the object type).\n",
    "* As inheritance allows different sub-classes to inherit the attributes and methods of a super class, polymorphism gives us the ability to take those attributes and methods and perform different kinds of tasks amongst different sub-classes that are each somewhat related to each other. Polymorphism basically gives sub-classes the ability to override the attributes and methods defined in the super-class.\n",
    "* Example: The Animal super-class, which has a sound() method, is inherited by the Pig, Cat, and Dog sub-classes. Pig, Cat, and Dog, will each have their own unique implementation/override of the inherited sound() method."
   ]
  },
  {
   "attachments": {},
   "cell_type": "markdown",
   "metadata": {},
   "source": [
    "## Examples: ##"
   ]
  },
  {
   "cell_type": "code",
   "execution_count": 19,
   "metadata": {
    "vscode": {
     "languageId": "java"
    }
   },
   "outputs": [
    {
     "name": "stdout",
     "output_type": "stream",
     "text": [
      "Tree is growing\n",
      "Leaves shedding\n",
      "Tree is growing\n",
      "Testing...\n",
      "Testing again...\n"
     ]
    }
   ],
   "source": [
    "class Plant {\n",
    "    public void grow() {\n",
    "        System.out.println(\"Plant is growing\");\n",
    "    }\n",
    "}\n",
    "\n",
    "class Tree extends Plant {\n",
    "    @Override\n",
    "    public void grow() {\n",
    "        System.out.println(\"Tree is growing\");\n",
    "    }\n",
    "\n",
    "    public void shedLeaves() {\n",
    "        System.out.println(\"Leaves shedding\");\n",
    "    }\n",
    "}\n",
    "\n",
    "public class Application {\n",
    "    public static void main(String[] args) {\n",
    "        Plant plant1 = new Plant();\n",
    "        Tree tree = new Tree();\n",
    "\n",
    "        // plant2 of variable type Plant can refer to the same object of the Tree class that tree refers to.\n",
    "        Plant plant2 = tree;\n",
    "        // Although its variable type is Plant, plant2 refers to a Tree object, and so will run the Tree class's version of the grow() method\n",
    "        plant2.grow();\n",
    "        // Will not work, since plant2 has a variable type Plant, and Plant does not contain the shedLeaves() method.\n",
    "        // plant2.shedLeaves();\n",
    "\n",
    "        // Will work, since tree has a variable type Tree, and Tree does contain the shedLeaves() method.\n",
    "        tree.shedLeaves();\n",
    "\n",
    "        // tree is of variable type Plant, and so can be passed as a valid argument to the doGrow() method.\n",
    "        // Since the grow() method is defined in the Plant class, it will run effectively\n",
    "        // The Tree class's version of the grow() method will be used during the calling of doGrow(), since its object type is of the Tree class.\n",
    "        doGrow(tree);\n",
    "    }\n",
    "\n",
    "    // The doGrow() method is public and static, so we can directly call it within the main test method (both main and doGrow are static methods, so they can directly access each other) in the same Application class.\n",
    "    // The doGrow() method takes parameters of variable type Plant.\n",
    "    // Polymorphism states that where ever a parent class type is expected, a child class type can be used there as well.\n",
    "    public static void doGrow(Plant plant) {\n",
    "        plant.grow();\n",
    "        // An object of the Application class needs to be created in order to access the test() instance method within a static method\n",
    "        Application app = new Application();\n",
    "        app.test();\n",
    "    }\n",
    "\n",
    "    public void test() {\n",
    "        System.out.println(\"Testing...\");\n",
    "        // An instance method can directly access a static method\n",
    "        test2();\n",
    "    }\n",
    "\n",
    "    public static void test2() {\n",
    "        System.out.println(\"Testing again...\");\n",
    "    }\n",
    "}\n",
    "\n",
    "Application.main(null);"
   ]
  },
  {
   "attachments": {},
   "cell_type": "markdown",
   "metadata": {},
   "source": [
    "# 27. Encapsulation and the API Docs #"
   ]
  },
  {
   "attachments": {},
   "cell_type": "markdown",
   "metadata": {},
   "source": [
    "## Notes: ##\n",
    "* The purpose of encapsulation (Using access modifiers like private or protected) is primarily to purposely hide some of the inner-workings/elements of a particular class from the public. This prevents direct access to certain attributes or methods of the class, restricting users from directly accessing the state values of those variables. The state/inner values and actions of encapsulated attributes and methods are usually intended to only be directly used within the class (they are typically indirectly used outside the class). Encapsulation is also useful for preventing conflicts in variables amongst different classes. A state value of a variable refers to its instantaneous value during any point of the program's execution.\n",
    "* Encapsulated variables are typically accessed outside the class with getter and setter methods for those specific variables. The getter method allows users to read values of encapsulated variables, while the setter method allows users to change values of encapsulated variables, all-the-while the inner-workings of the class are modified but hidden away from the public for privacy and security. Getters and setters allow encapsulated attributes and methods to be applied toward external purposes outside of the class.\n",
    "* The accepted good practice is that whenever you can make a certain variable (attribute or method) private, make it private; if the variable needs to be inherited by child classes, make it protected; and if the user should be able to access the variable, make it public. Most data should be encapsulated, with the exception of constant variables.\n",
    "* An API stands for Application Programming Interface, which essentially allows the public to access certain features and functionalities of a program.\n",
    "* An API documentation is essentially a collection of references, descriptions, and examples (such as different kinds of attributes/methods and constructors, as well as the API's properties) that show users how to use and employ the functionality of a particular API."
   ]
  },
  {
   "attachments": {},
   "cell_type": "markdown",
   "metadata": {},
   "source": [
    "## Examples: ##"
   ]
  },
  {
   "cell_type": "code",
   "execution_count": 22,
   "metadata": {
    "vscode": {
     "languageId": "java"
    }
   },
   "outputs": [
    {
     "name": "stdout",
     "output_type": "stream",
     "text": [
      "Some stuff 9\n",
      "Daniel\n"
     ]
    }
   ],
   "source": [
    "class Plant {\n",
    "    private String name;\n",
    "    // Variables are typically declared as public when they are static and final, meaning their value remains constant and cannot be changed outside the class nor by the public.\n",
    "    public static final int ID = 7;\n",
    "\n",
    "    public String getData() {\n",
    "        String data = \"Some stuff \" + getGrowthForecast();\n",
    "        return data;\n",
    "    }\n",
    "\n",
    "    // Private methods cannot be directly access outside of the class, and are intended to only be used within the class.\n",
    "    private int getGrowthForecast() {\n",
    "        return 9;\n",
    "    }\n",
    "\n",
    "    // The public getter and setter methods of the name variable allow name to be accessed (though not directly) outside of the class\n",
    "    public String getName() {\n",
    "        return name;\n",
    "    }\n",
    "\n",
    "    public void setName(String name) {\n",
    "        this.name = name;\n",
    "    }\n",
    "}\n",
    "\n",
    "public class Application {\n",
    "    public static void main(String[] args) {\n",
    "        Plant plant = new Plant();\n",
    "        System.out.println(plant.getData());\n",
    "        plant.setName(\"Daniel\");\n",
    "        System.out.println(plant.getName());\n",
    "    }\n",
    "}\n",
    "\n",
    "Application.main(null);"
   ]
  },
  {
   "attachments": {},
   "cell_type": "markdown",
   "metadata": {},
   "source": [
    "# 28. Casting Numerical Values #"
   ]
  },
  {
   "attachments": {},
   "cell_type": "markdown",
   "metadata": {},
   "source": [
    "## Notes: ##\n",
    "* In Java, there are several different numerical variable types, such as int (stores integers) and double (can store numbers with or without decimals).\n",
    "* Type casting is a method used to convert data for a certain variable type to a different variable type. Type casting can be used for primitive variable types (note that special types of conversion methods different from type casting are used to convert from primitive to non-primitive types and vice versa. Basically, reference/non-primitive types use unique conversion methods rather than type casting), and during its process, data is not changed, but rather the data type, allowing us to see different kinds of conversions amongst different data types. \n",
    "* Widening casting involves converting a smaller data type to larger data type size, in which the type casting is done automatically by the program (changes are not necessarily major for the value being casted). Narrowing casting involves converting a larger data type to a smaller data type size, in which the type casting is done manually by the programmer (changes may be major for the value being casted).\n",
    "* Truncation is a form of approximation used when part of a number is chopped off or ignored (e.g. 3.7 --> 3), and typically occurs when an integer is divided from an integer in Java. Rounding is form of approximation used when the number is rounded to the nearest number that satisfies the appropriate place value. Rounding is usually used to round decimals to whole numbers (e.g. 7.8 --> 8)."
   ]
  },
  {
   "attachments": {},
   "cell_type": "markdown",
   "metadata": {},
   "source": [
    "## Examples: ##"
   ]
  },
  {
   "cell_type": "code",
   "execution_count": 28,
   "metadata": {
    "vscode": {
     "languageId": "java"
    }
   },
   "outputs": [
    {
     "name": "stdout",
     "output_type": "stream",
     "text": [
      "55\n",
      "888\n",
      "20\n",
      "23355\n",
      "8834.3\n",
      "99.3\n",
      "32.4\n",
      "1.7976931348623157E308\n",
      "127\n",
      "23355\n",
      "23355.0\n",
      "8834\n",
      "-126\n",
      "3.0\n",
      "3.3333333333333335\n",
      "3.3333333333333335\n",
      "3.3333333333333335\n"
     ]
    }
   ],
   "source": [
    "public class Application {\n",
    "    public static void main(String[] args) {\n",
    "        // Variable types for storing numerical values\n",
    "        // 16-bits\n",
    "        short shortValue = 55;\n",
    "        System.out.println(shortValue);\n",
    "\n",
    "        // 32-bits\n",
    "        int intValue = 888;\n",
    "        System.out.println(intValue);\n",
    "\n",
    "        // 8-bits\n",
    "        byte byteValue = 20;\n",
    "        System.out.println(byteValue);\n",
    "\n",
    "        // 64-bits\n",
    "        long longValue = 23355;\n",
    "        System.out.println(longValue);\n",
    "\n",
    "        // float values have to end with f\n",
    "        float floatValue = 8834.3f;\n",
    "        // Alternative notation to instantiating float\n",
    "        float floatValue2 = (float) 99.3;\n",
    "        System.out.println(floatValue);\n",
    "        System.out.println(floatValue2);\n",
    "\n",
    "        // double values can end with decimal points\n",
    "        double doubleValue = 32.4;\n",
    "        System.out.println(doubleValue);\n",
    "\n",
    "        // Use the non-primitive version of primitive variable types to access set methods to display useful information\n",
    "        // For example, the non-primitive version of the double numerical type can be used to displayed the max value it can store\n",
    "        // The non-primitive versions of primitive types are typically referenced similar to the primitive type name, but with the first letter capitalized and the full work being used (e.g. int becoming Integer).\n",
    "        System.out.println(Double.MAX_VALUE);\n",
    "        System.out.println(Byte.MAX_VALUE);\n",
    "\n",
    "        // Notation for type casting\n",
    "        // Narrowing casting\n",
    "        // Here, manual casting is needed, since the long value may be too large to be stored in int, which is why type casting might be needed to perform the necessarily changes to the long value\n",
    "        // Convert the value of longValue to an int, and set it equal to intValue\n",
    "        intValue = (int) longValue;\n",
    "        System.out.println(intValue);\n",
    "\n",
    "        // Widening casting\n",
    "        // Here, manual casting is not needed, because int is automatically converted to double, since its actual value itself does not necessarily change when it is converted to a floating point\n",
    "        doubleValue = intValue;\n",
    "        System.out.println(doubleValue);\n",
    "\n",
    "        // Convert float to int. The decimal portion is just chopped off, and there is no rounding; this is known as truncation\n",
    "        intValue = (int) floatValue;\n",
    "        System.out.println(intValue);\n",
    "\n",
    "        // Cast value of 130 to byte variable type\n",
    "        // 127 is the max positive value of byte, so 130 will loop around starting at the min value of byte, and move up accordingly to its remaining value\n",
    "        byteValue = (byte) 130;\n",
    "        System.out.println(byteValue);\n",
    "\n",
    "        // Example of type casting during operations\n",
    "        int a = 10;\n",
    "        int b = 3;\n",
    "        double c = a/b;\n",
    "        // Here, widening casting is used convert int to double\n",
    "        // However, since a and b are both integers, their division will result in a truncated answer, since integers cannot hold decimals\n",
    "        System.out.println(c);\n",
    "\n",
    "        // All of these produce the same results\n",
    "        // As long as at least one of the numbers in the operation is correctly casted to a double, the result will of the operation will also be a double, and that computation will be stored in a double variable\n",
    "        double d1 = (double) a / (double) b;\n",
    "        double d2 = a / (double) b;\n",
    "        double d3 = (double) a / b;\n",
    "        System.out.println(d1);\n",
    "        System.out.println(d2);\n",
    "        System.out.println(d3);\n",
    "    }\n",
    "}\n",
    "\n",
    "Application.main(null);"
   ]
  },
  {
   "attachments": {},
   "cell_type": "markdown",
   "metadata": {},
   "source": [
    "# 29. Upcasting and Downcasting #"
   ]
  },
  {
   "attachments": {},
   "cell_type": "markdown",
   "metadata": {},
   "source": [
    "## Notes: ##\n",
    "* Upcasting and downcasting are primarily used for conversions between child and parent objects. During upcasting and downcasting, the object type remains the same, but the variable type changes.\n",
    "* Upcasting involves the typecasting of a child object to a parent object, and can be done implicitly/automatically. After upcasting, the child object can only access the inherited and overridden attributes/methods of its parent class, but can no longer access the new attributes/methods defined in the child class.\n",
    "* Downcasting involves the typecasting of a parent object to a child object, and cannot be done implicitly, but rather manually. After downcasting, the parent object can now access all of the attributes and methods, both overridden and new, found in the child class.\n",
    "* The variable type determines which attributes and methods can be accessed, while the object type determines the actual implementation of the attributes and methods."
   ]
  },
  {
   "attachments": {},
   "cell_type": "markdown",
   "metadata": {},
   "source": [
    "## Examples: ##"
   ]
  },
  {
   "cell_type": "code",
   "execution_count": 30,
   "metadata": {
    "vscode": {
     "languageId": "java"
    }
   },
   "outputs": [
    {
     "name": "stdout",
     "output_type": "stream",
     "text": [
      "Machine started\n",
      "Camera started\n",
      "Photo taken\n",
      "Camera started\n",
      "Camera started\n",
      "Photo taken\n"
     ]
    }
   ],
   "source": [
    "class Machine {\n",
    "    public void start() {\n",
    "        System.out.println(\"Machine started\");\n",
    "    }\n",
    "}\n",
    "\n",
    "class Camera extends Machine {\n",
    "    public void start() {\n",
    "        System.out.println(\"Camera started\");\n",
    "    }\n",
    "\n",
    "    public void snap() {\n",
    "        System.out.println(\"Photo taken\");\n",
    "    }\n",
    "}\n",
    "\n",
    "public class Application {\n",
    "    public static void main(String[] args) {\n",
    "        // The Machine object type cannot be referred to by the Camera child variable type, but can be referred to by the Machine parent variable type\n",
    "        Machine mach1 = new Machine();\n",
    "        Camera cam1 = new Camera();\n",
    "\n",
    "        mach1.start();\n",
    "        cam1.start();\n",
    "        cam1.snap();\n",
    "\n",
    "        // Upcasting\n",
    "        // Set mach2 of variable type Machine to refer to the same Camera object that cam1 refers to\n",
    "        // Moving up the class hierarchy, from child variable type Camera to parent variable type Machine\n",
    "        Machine mach2 = cam1;\n",
    "        // The object type is Camera, so the start() method overridden in Camera will be ran. The variable type is simply a reference to the object, and defines the range of attributes and methods that can be accessed.\n",
    "        mach2.start();\n",
    "        // mach2.snap() won't work, because the variable type is Machine, and snap() is not a method in the Machine class\n",
    "\n",
    "        // Downcasting\n",
    "        Machine mach3 = new Camera();\n",
    "        // Set cam2 of variable type Camera to refer to the same Camera object that mach3 refers to\n",
    "        // This way, all of the attributes and methods of Camera can be accessed with our new object\n",
    "        // Notation for manual casting, which is needed for downcasting. This is because downcasting is more inherently unsafe than upcasting, as more changes are being made to the object variable itself (object type stay the same)\n",
    "        // The Camera object type can be referred to both by the Camera child variable type and the Machine parent variable type\n",
    "        Camera cam2 = (Camera) mach3;\n",
    "        cam2.start();\n",
    "        cam2.snap();\n",
    "\n",
    "        // This won't work, because the parent object type Machine cannot be referenced by the child variable type Camera\n",
    "        // Object types remain constant, which means the object type Machine cannot be converted to an object type Camera\n",
    "        // Review: Child objects can be referred to by Parent types, but Parent objects cannot be referred to by Child types\n",
    "        // Machine mach4 = new Machine();\n",
    "        // Camera cam3 = (Camera) mach4;\n",
    "    }\n",
    "}\n",
    "\n",
    "Application.main(null);"
   ]
  }
 ],
 "metadata": {
  "kernelspec": {
   "display_name": "Java",
   "language": "java",
   "name": "java"
  },
  "language_info": {
   "codemirror_mode": "java",
   "file_extension": ".jshell",
   "mimetype": "text/x-java-source",
   "name": "Java",
   "pygments_lexer": "java",
   "version": "11.0.16+8-post-Ubuntu-0ubuntu120.04"
  },
  "orig_nbformat": 4
 },
 "nbformat": 4,
 "nbformat_minor": 2
}
