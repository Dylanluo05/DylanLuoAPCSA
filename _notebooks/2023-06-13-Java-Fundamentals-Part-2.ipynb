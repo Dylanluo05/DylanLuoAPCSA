{
 "cells": [
  {
   "attachments": {},
   "cell_type": "markdown",
   "metadata": {},
   "source": [
    "# Java Fundamentals - Notes Part 2\n",
    "> Java Fundamentals - Notes Part 2\n",
    "\n",
    "- toc: true\n",
    "- description: Java Fundamentals Post for second part of notes\n",
    "- categories: [jupyter]\n",
    "- title: Java Fundamentals - Notes Part 2\n",
    "- author: Dylan Luo\n",
    "- show_tags: true\n",
    "- comments: true"
   ]
  },
  {
   "attachments": {},
   "cell_type": "markdown",
   "metadata": {},
   "source": [
    "# 23. Packages #"
   ]
  },
  {
   "attachments": {},
   "cell_type": "markdown",
   "metadata": {},
   "source": [
    "## Notes: ##\n",
    "* Packages in Java allow you to organize your code in a way that helps you find necessary files/classes quickly. They also assist in preventing conflicts in class names (e.g. 2 classes with the same name will not conflict if they are in separate packages).\n",
    "* The naming convention of package names is typically lowercase, with no spaces nor underscores (package names are usually concise).\n",
    "* Use the package keyword the specify the package a file is a part of, and use the import keyword to be able to implement that file from a separate file/class. The * keyword in an import statement indicates that all of the files/classes of the package will be imported.\n",
    "* Packages in Java follow a hierarchy, which means that you can have packages within packages. Slashes (/) are used to indicate/separate sub-folders, while dots (.) are used to indicate/separate sub-packages.\n",
    "* Package names should be unique in the whole world, so that code can be redistributed effectively without any conflicts. The naming convention of unique package names is first putting either your name (full name) or reversing the name (order of words) of your organization's website, then putting the sub-package name that indicates the purpose of your package."
   ]
  },
  {
   "attachments": {},
   "cell_type": "markdown",
   "metadata": {},
   "source": [
    "## Examples: ##"
   ]
  },
  {
   "cell_type": "code",
   "execution_count": 1,
   "metadata": {
    "vscode": {
     "languageId": "java"
    }
   },
   "outputs": [
    {
     "ename": "CompilationException",
     "evalue": "",
     "output_type": "error",
     "traceback": [
      "\u001b[1m\u001b[30m|   \u001b[1m\u001b[30m\u001b[0m\u001b[1m\u001b[30m\u001b[41m\u001b[0m\u001b[1m\u001b[30mpackage ocean;\u001b[0m",
      "\u001b[1m\u001b[31millegal start of expression\u001b[0m",
      ""
     ]
    }
   ],
   "source": [
    "// The package statement should be the first statement in the file, and defines the package that the file is a part of\n",
    "package ocean;\n",
    "\n",
    "public class Fish {\n",
    "    \n",
    "}"
   ]
  },
  {
   "cell_type": "code",
   "execution_count": 2,
   "metadata": {
    "vscode": {
     "languageId": "java"
    }
   },
   "outputs": [
    {
     "ename": "CompilationException",
     "evalue": "",
     "output_type": "error",
     "traceback": [
      "\u001b[1m\u001b[30m|   \u001b[1m\u001b[30m\u001b[0m\u001b[1m\u001b[30m\u001b[41m\u001b[0m\u001b[1m\u001b[30mpackage ocean;\u001b[0m",
      "\u001b[1m\u001b[31millegal start of expression\u001b[0m",
      ""
     ]
    }
   ],
   "source": [
    "// Another class (Shark) that is a part of the ocean package, aside from the Fish class.\n",
    "package ocean;\n",
    "\n",
    "public class Shark {\n",
    "\n",
    "}"
   ]
  },
  {
   "cell_type": "code",
   "execution_count": 4,
   "metadata": {
    "vscode": {
     "languageId": "java"
    }
   },
   "outputs": [
    {
     "ename": "CompilationException",
     "evalue": "",
     "output_type": "error",
     "traceback": [
      "\u001b[1m\u001b[30m|   \u001b[1m\u001b[30m\u001b[0m\u001b[1m\u001b[30m\u001b[41m\u001b[0m\u001b[1m\u001b[30mpackage ocean.plants;\u001b[0m",
      "\u001b[1m\u001b[31millegal start of expression\u001b[0m",
      ""
     ]
    }
   ],
   "source": [
    "// The plants package is a part of the ocean package.\n",
    "package ocean.plants;\n",
    "\n",
    "// The Algae class is a part of the plants sub-package of the ocean package.\n",
    "public class Algae {\n",
    "\n",
    "}"
   ]
  },
  {
   "cell_type": "code",
   "execution_count": 5,
   "metadata": {
    "vscode": {
     "languageId": "java"
    }
   },
   "outputs": [
    {
     "ename": "CompilationException",
     "evalue": "",
     "output_type": "error",
     "traceback": [
      "\u001b[1m\u001b[30m|   \u001b[1m\u001b[30m\u001b[0m\u001b[1m\u001b[30m\u001b[41m\u001b[0m\u001b[1m\u001b[30mpackage com.thebusinessnexus.todolist;\u001b[0m",
      "\u001b[1m\u001b[31millegal start of expression\u001b[0m",
      ""
     ]
    }
   ],
   "source": [
    "// Unique package name, where the ToDoList class is a part of the personalization sub-package, whose parent package is thebusinessnexus, whole parent package is com.\n",
    "// This order of package names is unique and is unlikely to conflict with other package names.\n",
    "// The personalization package by itself may not be unique, but will be unique if combined with the reversed name of thebusinessnexus.com.\n",
    "package com.thebusinessnexus.personalization;\n",
    "\n",
    "public class ToDoList {\n",
    "\n",
    "}"
   ]
  },
  {
   "cell_type": "code",
   "execution_count": 7,
   "metadata": {
    "vscode": {
     "languageId": "java"
    }
   },
   "outputs": [
    {
     "ename": "CompilationException",
     "evalue": "",
     "output_type": "error",
     "traceback": [
      "\u001b[1m\u001b[30m|   \u001b[1m\u001b[30mimport \u001b[0m\u001b[1m\u001b[30m\u001b[41mocean.Fish\u001b[0m\u001b[1m\u001b[30m;\u001b[0m",
      "\u001b[1m\u001b[31mpackage ocean does not exist\u001b[0m",
      ""
     ]
    }
   ],
   "source": [
    "// Import the Fish class from the ocean package, so that the Application class can implement the Fish class.\n",
    "import ocean.Fish;\n",
    "// Import the Shark class from the ocean package.\n",
    "import ocean.Shark;\n",
    "// Import the Algae class from the plants sub-package of the ocean package.\n",
    "import ocean.plants.Algae;\n",
    "// * indicates that every class from the ocean package is imported.\n",
    "import ocean.*;\n",
    "// Import the ToDoList class from the personalization sub-package of the thebusinessnexus sub-package of the com package (thebusinessnexus and com make up the actual website name).\n",
    "import com.thebusinessnexus.personalization.ToDoList;\n",
    "\n",
    "public class Application {\n",
    "    public static void main(String[] args) {\n",
    "        Fish fish = new Fish();\n",
    "        Shark shark = new Shark();\n",
    "        Algae algae = new Algae();\n",
    "        ToDoList toDoList = new ToDoList();\n",
    "    }\n",
    "}\n",
    "\n",
    "Application.main(null);"
   ]
  },
  {
   "attachments": {},
   "cell_type": "markdown",
   "metadata": {},
   "source": [
    "# 24. Interfaces #"
   ]
  },
  {
   "attachments": {},
   "cell_type": "markdown",
   "metadata": {},
   "source": [
    "## Notes: ##\n",
    "* In Java, interfaces are implicitly abstract (you do not need to declare them with the abstract keyword), and the methods within them are in turn implicitly public and abstract (but can still be custom defined). Interfaces do not contain code that perform actions, but rather the headers of defined methods and sometimes attributes (which are usually public, static, and final).\n",
    "* Interfaces are ultimately used to achieve abstraction, where they group related methods that all have empty bodies. Interfaces are accessed with the \"implement\" keyword from another class, and that class defines the bodies of the interface methods, thus overriding (redefining the method to have a body but with the same exact name and signature/headers) the interface method. Distinct classes can define a particular interface's methods differently. However, attributes can be declared and have their values defined in interfaces, and child classes will inherit the values defined in interfaces, or re-define the variables again (making sure to keep the same modifiers and variable name).\n",
    "* Similar to abstract classes, interfaces cannot be used to initialize objects (where the interface name follows the new keyword), and do not have \"bodies\" of code. An interface is implemented by separate classes, in which all of the methods defined in the interface must be overridden with method bodies of code defined in the class. It is important to note that a class can implement multiple interfaces (in contrast, a class can only extend one parent class), and an interface can be implemented by multiple classes (a parent class can be inherited by multiple child classes).\n"
   ]
  },
  {
   "attachments": {},
   "cell_type": "markdown",
   "metadata": {},
   "source": [
    "## Examples: ##"
   ]
  },
  {
   "cell_type": "code",
   "execution_count": 11,
   "metadata": {
    "vscode": {
     "languageId": "java"
    }
   },
   "outputs": [
    {
     "name": "stdout",
     "output_type": "stream",
     "text": [
      "Machine started...\n",
      "Machine ID is: 7\n",
      "Hello there!\n",
      "Person name is: Bob\n",
      "Machine ID is: 7\n",
      "Person name is: Bob\n",
      "Machine ID is: 7\n",
      "Person name is: Bob\n"
     ]
    }
   ],
   "source": [
    "// Creating a Java interface with the name Info\n",
    "interface Info {\n",
    "    // Header of the showInfo() method.\n",
    "    public void showInfo();\n",
    "}\n",
    "\n",
    "// The Machine class implements the Info interface\n",
    "class Machine implements Info {\n",
    "    private int id = 7;\n",
    "\n",
    "    public void start() {\n",
    "        System.out.println(\"Machine started...\");\n",
    "    }\n",
    "\n",
    "    // Need to override the showInfo() method of the Info interface\n",
    "    @Override\n",
    "    public void showInfo() {\n",
    "        System.out.println(\"Machine ID is: \" + id);\n",
    "    }\n",
    "}\n",
    "\n",
    "// The Person class implements the Info interface\n",
    "class Person implements Info {\n",
    "    private String name;\n",
    "\n",
    "    public Person(String name) {\n",
    "        this.name = name;\n",
    "    }\n",
    "\n",
    "    public void greet() {\n",
    "        System.out.println(\"Hello there!\");\n",
    "    }\n",
    "\n",
    "    @Override\n",
    "    public void showInfo() {\n",
    "        System.out.println(\"Person name is: \" + name);\n",
    "    }\n",
    "}\n",
    "\n",
    "public class Application {\n",
    "    public static void main(String[] args) {\n",
    "        Machine mach1 = new Machine();\n",
    "        mach1.start();\n",
    "        // Call the showInfo() interface method defined in the Machine class\n",
    "        mach1.showInfo();\n",
    "\n",
    "        Person person1 = new Person(\"Bob\");\n",
    "        person1.greet();\n",
    "        // Call the showInfo() interface method defined in the Person class\n",
    "        person1.showInfo();\n",
    "\n",
    "        // We can initialize info1 like this because the Machine class implements the Info interface.\n",
    "        // info1 is a variable of type Info that points to an object reference of type Machine.\n",
    "        // Since info1 is a variable of type Info, it can only be used to run the methods of the Info interface, which are redefined in the Machine class, which is referenced as an object here.\n",
    "        Info info1 = new Machine();\n",
    "        info1.showInfo();\n",
    "\n",
    "        // info2 is a variable of type Info that points to an already defined object reference of class type Person\n",
    "        Info info2 = person1;\n",
    "        info2.showInfo();\n",
    "\n",
    "        // mach1 and person1 are both objects that implement the Info interface, which means that are technically of type Info.\n",
    "        // Pass the mach1 and person1 objects to the outputInfo() method, which in itself calls the showInfo() interface method, which is redefined in the Machine and Person classes.\n",
    "        outputInfo(mach1);\n",
    "        outputInfo(person1);\n",
    "    }\n",
    "\n",
    "    // Make this method static so that the Application class can directly access the method within itself (even though the method is private)\n",
    "    // The outputInfo() method calls the showInfo interface method, which should be defined in the separate classes that are called in the parameter of outputInfo()\n",
    "    private static void outputInfo(Info info) {\n",
    "        info.showInfo();\n",
    "    }\n",
    "}\n",
    "\n",
    "Application.main(null);"
   ]
  },
  {
   "attachments": {},
   "cell_type": "markdown",
   "metadata": {},
   "source": [
    "# 25. Public, Private, and Protected #"
   ]
  },
  {
   "attachments": {},
   "cell_type": "markdown",
   "metadata": {},
   "source": [
    "## Notes: ##\n",
    "* When referencing an attribute or method of a particular class within that class itself, you do not need to prefix the variable name. In other words, notation like objectName.variableName is unnecessary, since variableName works by itself. This means that the access modifier does not matter; as long as you are referencing the variable within the same class, you can directly access it by name or optionally prefix dot notation.\n",
    "* Just for review, you typically should have one (and only one) public class in a file, and that public class's name should match the name of the file. However, you can have as many non-public classes with different names in the file as you want.\n",
    "* Access modifiers define the access level of attributes, methods, classes, and constructors, while non-access modifiers do not define the access level, but rather other forms of functionality.\n",
    "* Encapsulation is typically used to keep certain attributes or methods of a class hidden/private from the rest of the world, for the purpose of controlling the way people access these variables, and preventing unnecessary changes from happening to them. \n",
    "* Usually when we declare a particular variable public, that variable is defined as static and/or final, which means it belongs and remains constant (or has a constant change if final is not declared) to the class itself, so that it is relatively unchangeable by others.\n",
    "* The order in which modifiers appear does not necessarily matter all of the time, but there is a recommended order.\n",
    "* The public access modifier defines a class, attribute, method, or constructor as directly accessible to all other classes.\n",
    "* The private access modifier defines an attribute, method, or constructor as only directly accessible within the class it is declared in (can be accessed with getter methods from other classes though). Private variables are not inherited by child classes.\n",
    "* The protected access modifier defines an attribute, method, or constructor as only accessible within the same package (implies same file too) and any subsequent subclasses (even subclasses in separate packages, unlike the default access modifier) of the class it is declared in. This means that protected variables are inherited by child classes.\n",
    "* The default access modifier (happens when no access modifier is declared at all) defines a class, attribute, method, or constructor as only accessible by other classes in the same package (implies same file too). A child class can inherit default access modified variables from the parent class only if it is in the same package. It is possible for a child class to extend a parent class in another package using the import feature, but in that case, default variables are not inherited."
   ]
  },
  {
   "attachments": {},
   "cell_type": "markdown",
   "metadata": {},
   "source": [
    "## Examples: ##"
   ]
  },
  {
   "cell_type": "code",
   "execution_count": 9,
   "metadata": {
    "vscode": {
     "languageId": "java"
    }
   },
   "outputs": [
    {
     "name": "stdout",
     "output_type": "stream",
     "text": [
      "Joe\n",
      "8\n",
      "large\n",
      "10\n",
      "medium\n"
     ]
    }
   ],
   "source": [
    "class Plant {\n",
    "    // Bad practice\n",
    "    public String name;\n",
    "\n",
    "    // Acceptable practice\n",
    "    // The ID variable belongs to the Plant class itself and remains constant\n",
    "    public final static int ID = 8;\n",
    "\n",
    "    // The type variable is private, so it is not inherited by subclasses\n",
    "    private String type;\n",
    "\n",
    "    // The size variable is protected, so it is inherited by subclasses\n",
    "    protected String size;\n",
    "\n",
    "    // The height variable has the default access modifier\n",
    "    int height;\n",
    "\n",
    "    public Plant() {\n",
    "        // this.name works, since the this keyword refers to the object that name is a part of.\n",
    "        this.name = \"Joe\";\n",
    "\n",
    "        // Even though it is private, the type instance variable is in the Plant class itself, so it can just be referenced by type.\n",
    "        type = \"plant\";\n",
    "\n",
    "        // size is defined as medium in the parent class\n",
    "        size = \"medium\";\n",
    "\n",
    "        height = 8;\n",
    "    }\n",
    "}\n",
    "\n",
    "// Oak is a child class of the parent class Plant\n",
    "class Oak extends Plant {\n",
    "    \n",
    "    public Oak() {\n",
    "        // size was defined as medium in the parent class and that value is inherited by the child class\n",
    "        // Here, we are overriding the value of size inherited from the parent class, and setting it to large\n",
    "        this.size = \"large\";\n",
    "\n",
    "        // height variable is inherited, since Oak is in the same package as Plant\n",
    "        height = 10;\n",
    "    }\n",
    "}\n",
    "\n",
    "class Field {\n",
    "    // Create an instance variable that is an object of the Plant class.\n",
    "    // The Plant class is accessible from the Field class because it has the default access modifier and is in the same file and package as the Field class.\n",
    "    private Plant plant = new Plant();\n",
    "\n",
    "    public Field() {\n",
    "        // size is protected, but Field is in the same file and package as Plant\n",
    "        System.out.println(plant.size);\n",
    "    }\n",
    "}\n",
    "\n",
    "public class Application {\n",
    "    public static void main(String[] args) {\n",
    "        Plant plant = new Plant();\n",
    "        // The name instance variable of the Plant class can be directly accessed outside of the class because it is public, using the prefix dot notation.\n",
    "        System.out.println(plant.name);\n",
    "        System.out.println(plant.ID);\n",
    "\n",
    "        Oak oak = new Oak();\n",
    "        System.out.println(oak.size);\n",
    "        // Application is in the same package as Oak and Plant, so it can directly access height\n",
    "        System.out.println(oak.height);\n",
    "\n",
    "        // The constructor of Field will print the initialized value of size when an object of the Plant class is created\n",
    "        Field field = new Field();\n",
    "    }\n",
    "}\n",
    "\n",
    "Application.main(null);"
   ]
  },
  {
   "cell_type": "code",
   "execution_count": 10,
   "metadata": {
    "vscode": {
     "languageId": "java"
    }
   },
   "outputs": [
    {
     "ename": "CompilationException",
     "evalue": "",
     "output_type": "error",
     "traceback": [
      "\u001b[1m\u001b[30m|   \u001b[1m\u001b[30mimport \u001b[0m\u001b[1m\u001b[30m\u001b[41mworld.Plant\u001b[0m\u001b[1m\u001b[30m;\u001b[0m",
      "\u001b[1m\u001b[31mpackage world does not exist\u001b[0m",
      ""
     ]
    }
   ],
   "source": [
    "// Pretend that Plant is a part of the world package, and that Grass in another package\n",
    "import world.Plant;\n",
    "\n",
    "class Grass extends Plant {\n",
    "    public Grass() {\n",
    "        // This won't work because even though Grass is a child class of Plant, it is not in the same package as Plant, and height is a default access-modified variable.\n",
    "        System.out.println(this.height);\n",
    "    }\n",
    "}"
   ]
  },
  {
   "attachments": {},
   "cell_type": "markdown",
   "metadata": {},
   "source": [
    "# 26. Polymorphism #"
   ]
  },
  {
   "attachments": {},
   "cell_type": "markdown",
   "metadata": {},
   "source": [
    "## Notes: ##\n",
    "* Polymorphism, which means \"many shapes/forms\", involves the process of creating multiple classes that related to each other in some way through the inheritance of a super class. It is efficient in allowing code reusability amongst different classes. Polymorphism also states that an object of a sub-class can also have the variable type of the super-class (i.e. SuperClass variableName = new SubClass()). \n",
    "* However, it is important to note that the initialized variable type of an object variable defines the attributes and methods the variable has access to (can only access those listed in the class of the variable type), while the initialized object type of the variable defines the values of its attributes and the actions of its methods (the values and code defined in the class of the object type).\n",
    "* As inheritance allows different sub-classes to inherit the attributes and methods of a super class, polymorphism gives us the ability to take those attributes and methods and perform different kinds of tasks amongst different sub-classes that are each somewhat related to each other. Polymorphism basically gives sub-classes the ability to override the attributes and methods defined in the super-class.\n",
    "* Example: The Animal super-class, which has a sound() method, is inherited by the Pig, Cat, and Dog sub-classes. Pig, Cat, and Dog, will each have their own unique implementation/override of the inherited sound() method."
   ]
  },
  {
   "attachments": {},
   "cell_type": "markdown",
   "metadata": {},
   "source": [
    "## Examples: ##"
   ]
  },
  {
   "cell_type": "code",
   "execution_count": 19,
   "metadata": {
    "vscode": {
     "languageId": "java"
    }
   },
   "outputs": [
    {
     "name": "stdout",
     "output_type": "stream",
     "text": [
      "Tree is growing\n",
      "Leaves shedding\n",
      "Tree is growing\n",
      "Testing...\n",
      "Testing again...\n"
     ]
    }
   ],
   "source": [
    "class Plant {\n",
    "    public void grow() {\n",
    "        System.out.println(\"Plant is growing\");\n",
    "    }\n",
    "}\n",
    "\n",
    "class Tree extends Plant {\n",
    "    @Override\n",
    "    public void grow() {\n",
    "        System.out.println(\"Tree is growing\");\n",
    "    }\n",
    "\n",
    "    public void shedLeaves() {\n",
    "        System.out.println(\"Leaves shedding\");\n",
    "    }\n",
    "}\n",
    "\n",
    "public class Application {\n",
    "    public static void main(String[] args) {\n",
    "        Plant plant1 = new Plant();\n",
    "        Tree tree = new Tree();\n",
    "\n",
    "        // plant2 of variable type Plant can refer to the same object of the Tree class that tree refers to.\n",
    "        Plant plant2 = tree;\n",
    "        // Although its variable type is Plant, plant2 refers to a Tree object, and so will run the Tree class's version of the grow() method\n",
    "        plant2.grow();\n",
    "        // Will not work, since plant2 has a variable type Plant, and Plant does not contain the shedLeaves() method.\n",
    "        // plant2.shedLeaves();\n",
    "\n",
    "        // Will work, since tree has a variable type Tree, and Tree does contain the shedLeaves() method.\n",
    "        tree.shedLeaves();\n",
    "\n",
    "        // tree is of variable type Plant, and so can be passed as a valid argument to the doGrow() method.\n",
    "        // Since the grow() method is defined in the Plant class, it will run effectively\n",
    "        // The Tree class's version of the grow() method will be used during the calling of doGrow(), since its object type is of the Tree class.\n",
    "        doGrow(tree);\n",
    "    }\n",
    "\n",
    "    // The doGrow() method is public and static, so we can directly call it within the main test method (both main and doGrow are static methods, so they can directly access each other) in the same Application class.\n",
    "    // The doGrow() method takes parameters of variable type Plant.\n",
    "    // Polymorphism states that where ever a parent class type is expected, a child class type can be used there as well.\n",
    "    public static void doGrow(Plant plant) {\n",
    "        plant.grow();\n",
    "        // An object of the Application class needs to be created in order to access the test() instance method within a static method\n",
    "        Application app = new Application();\n",
    "        app.test();\n",
    "    }\n",
    "\n",
    "    public void test() {\n",
    "        System.out.println(\"Testing...\");\n",
    "        // An instance method can directly access a static method\n",
    "        test2();\n",
    "    }\n",
    "\n",
    "    public static void test2() {\n",
    "        System.out.println(\"Testing again...\");\n",
    "    }\n",
    "}\n",
    "\n",
    "Application.main(null);"
   ]
  },
  {
   "attachments": {},
   "cell_type": "markdown",
   "metadata": {},
   "source": [
    "# 27. Encapsulation and the API Docs #"
   ]
  },
  {
   "attachments": {},
   "cell_type": "markdown",
   "metadata": {},
   "source": [
    "## Notes: ##\n",
    "* The purpose of encapsulation (Using access modifiers like private or protected) is primarily to purposely hide some of the inner-workings/elements of a particular class from the public. This prevents direct access to certain attributes or methods of the class, restricting users from directly accessing the state values of those variables. The state/inner values and actions of encapsulated attributes and methods are usually intended to only be directly used within the class (they are typically indirectly used outside the class). Encapsulation is also useful for preventing conflicts in variables amongst different classes. A state value of a variable refers to its instantaneous value during any point of the program's execution.\n",
    "* Encapsulated variables are typically accessed outside the class with getter and setter methods for those specific variables. The getter method allows users to read values of encapsulated variables, while the setter method allows users to change values of encapsulated variables, all-the-while the inner-workings of the class are modified but hidden away from the public for privacy and security. Getters and setters allow encapsulated attributes and methods to be applied toward external purposes outside of the class.\n",
    "* The accepted good practice is that whenever you can make a certain variable (attribute or method) private, make it private; if the variable needs to be inherited by child classes, make it protected; and if the user should be able to access the variable, make it public. Most data should be encapsulated, with the exception of constant variables.\n",
    "* An API stands for Application Programming Interface, which essentially allows the public to access certain features and functionalities of a program.\n",
    "* An API documentation is essentially a collection of references, descriptions, and examples (such as different kinds of attributes/methods and constructors, as well as the API's properties) that show users how to use and employ the functionality of a particular API."
   ]
  },
  {
   "attachments": {},
   "cell_type": "markdown",
   "metadata": {},
   "source": [
    "## Examples: ##"
   ]
  },
  {
   "cell_type": "code",
   "execution_count": 22,
   "metadata": {
    "vscode": {
     "languageId": "java"
    }
   },
   "outputs": [
    {
     "name": "stdout",
     "output_type": "stream",
     "text": [
      "Some stuff 9\n",
      "Daniel\n"
     ]
    }
   ],
   "source": [
    "class Plant {\n",
    "    private String name;\n",
    "    // Variables are typically declared as public when they are static and final, meaning their value remains constant and cannot be changed outside the class nor by the public.\n",
    "    public static final int ID = 7;\n",
    "\n",
    "    public String getData() {\n",
    "        String data = \"Some stuff \" + getGrowthForecast();\n",
    "        return data;\n",
    "    }\n",
    "\n",
    "    // Private methods cannot be directly access outside of the class, and are intended to only be used within the class.\n",
    "    private int getGrowthForecast() {\n",
    "        return 9;\n",
    "    }\n",
    "\n",
    "    // The public getter and setter methods of the name variable allow name to be accessed (though not directly) outside of the class\n",
    "    public String getName() {\n",
    "        return name;\n",
    "    }\n",
    "\n",
    "    public void setName(String name) {\n",
    "        this.name = name;\n",
    "    }\n",
    "}\n",
    "\n",
    "public class Application {\n",
    "    public static void main(String[] args) {\n",
    "        Plant plant = new Plant();\n",
    "        System.out.println(plant.getData());\n",
    "        plant.setName(\"Daniel\");\n",
    "        System.out.println(plant.getName());\n",
    "    }\n",
    "}\n",
    "\n",
    "Application.main(null);"
   ]
  },
  {
   "attachments": {},
   "cell_type": "markdown",
   "metadata": {},
   "source": [
    "# 28. Casting Numerical Values #"
   ]
  },
  {
   "attachments": {},
   "cell_type": "markdown",
   "metadata": {},
   "source": [
    "## Notes: ##\n",
    "* In Java, there are several different numerical variable types, such as int (stores integers) and double (can store numbers with or without decimals).\n",
    "* Type casting is a method used to convert data for a certain variable type to a different variable type. Type casting can be used for primitive variable types (note that special types of conversion methods different from type casting are used to convert from primitive to non-primitive types and vice versa. Basically, reference/non-primitive types use unique conversion methods rather than type casting), and during its process, data is not changed, but rather the data type, allowing us to see different kinds of conversions amongst different data types. \n",
    "* Widening casting involves converting a smaller data type to larger data type size, in which the type casting is done automatically by the program (changes are not necessarily major for the value being casted). Narrowing casting involves converting a larger data type to a smaller data type size, in which the type casting is done manually by the programmer (changes may be major for the value being casted).\n",
    "* Truncation is a form of approximation used when part of a number is chopped off or ignored (e.g. 3.7 --> 3), and typically occurs when an integer is divided from an integer in Java. Rounding is form of approximation used when the number is rounded to the nearest number that satisfies the appropriate place value. Rounding is usually used to round decimals to whole numbers (e.g. 7.8 --> 8)."
   ]
  },
  {
   "attachments": {},
   "cell_type": "markdown",
   "metadata": {},
   "source": [
    "## Examples: ##"
   ]
  },
  {
   "cell_type": "code",
   "execution_count": 28,
   "metadata": {
    "vscode": {
     "languageId": "java"
    }
   },
   "outputs": [
    {
     "name": "stdout",
     "output_type": "stream",
     "text": [
      "55\n",
      "888\n",
      "20\n",
      "23355\n",
      "8834.3\n",
      "99.3\n",
      "32.4\n",
      "1.7976931348623157E308\n",
      "127\n",
      "23355\n",
      "23355.0\n",
      "8834\n",
      "-126\n",
      "3.0\n",
      "3.3333333333333335\n",
      "3.3333333333333335\n",
      "3.3333333333333335\n"
     ]
    }
   ],
   "source": [
    "public class Application {\n",
    "    public static void main(String[] args) {\n",
    "        // Variable types for storing numerical values\n",
    "        // 16-bits\n",
    "        short shortValue = 55;\n",
    "        System.out.println(shortValue);\n",
    "\n",
    "        // 32-bits\n",
    "        int intValue = 888;\n",
    "        System.out.println(intValue);\n",
    "\n",
    "        // 8-bits\n",
    "        byte byteValue = 20;\n",
    "        System.out.println(byteValue);\n",
    "\n",
    "        // 64-bits\n",
    "        long longValue = 23355;\n",
    "        System.out.println(longValue);\n",
    "\n",
    "        // float values have to end with f\n",
    "        float floatValue = 8834.3f;\n",
    "        // Alternative notation to instantiating float\n",
    "        float floatValue2 = (float) 99.3;\n",
    "        System.out.println(floatValue);\n",
    "        System.out.println(floatValue2);\n",
    "\n",
    "        // double values can end with decimal points\n",
    "        double doubleValue = 32.4;\n",
    "        System.out.println(doubleValue);\n",
    "\n",
    "        // Use the non-primitive version of primitive variable types to access set methods to display useful information\n",
    "        // For example, the non-primitive version of the double numerical type can be used to displayed the max value it can store\n",
    "        // The non-primitive versions of primitive types are typically referenced similar to the primitive type name, but with the first letter capitalized and the full work being used (e.g. int becoming Integer).\n",
    "        System.out.println(Double.MAX_VALUE);\n",
    "        System.out.println(Byte.MAX_VALUE);\n",
    "\n",
    "        // Notation for type casting\n",
    "        // Narrowing casting\n",
    "        // Here, manual casting is needed, since the long value may be too large to be stored in int, which is why type casting might be needed to perform the necessarily changes to the long value\n",
    "        // Convert the value of longValue to an int, and set it equal to intValue\n",
    "        intValue = (int) longValue;\n",
    "        System.out.println(intValue);\n",
    "\n",
    "        // Widening casting\n",
    "        // Here, manual casting is not needed, because int is automatically converted to double, since its actual value itself does not necessarily change when it is converted to a floating point\n",
    "        doubleValue = intValue;\n",
    "        System.out.println(doubleValue);\n",
    "\n",
    "        // Convert float to int. The decimal portion is just chopped off, and there is no rounding; this is known as truncation\n",
    "        intValue = (int) floatValue;\n",
    "        System.out.println(intValue);\n",
    "\n",
    "        // Cast value of 130 to byte variable type\n",
    "        // 127 is the max positive value of byte, so 130 will loop around starting at the min value of byte, and move up accordingly to its remaining value\n",
    "        byteValue = (byte) 130;\n",
    "        System.out.println(byteValue);\n",
    "\n",
    "        // Example of type casting during operations\n",
    "        int a = 10;\n",
    "        int b = 3;\n",
    "        double c = a/b;\n",
    "        // Here, widening casting is used convert int to double\n",
    "        // However, since a and b are both integers, their division will result in a truncated answer, since integers cannot hold decimals\n",
    "        System.out.println(c);\n",
    "\n",
    "        // All of these produce the same results\n",
    "        // As long as at least one of the numbers in the operation is correctly casted to a double, the result will of the operation will also be a double, and that computation will be stored in a double variable\n",
    "        double d1 = (double) a / (double) b;\n",
    "        double d2 = a / (double) b;\n",
    "        double d3 = (double) a / b;\n",
    "        System.out.println(d1);\n",
    "        System.out.println(d2);\n",
    "        System.out.println(d3);\n",
    "    }\n",
    "}\n",
    "\n",
    "Application.main(null);"
   ]
  },
  {
   "attachments": {},
   "cell_type": "markdown",
   "metadata": {},
   "source": [
    "# 29. Upcasting and Downcasting #"
   ]
  },
  {
   "attachments": {},
   "cell_type": "markdown",
   "metadata": {},
   "source": [
    "## Notes: ##\n",
    "* Upcasting and downcasting are primarily used for conversions between child and parent objects. During upcasting and downcasting, the object type remains the same, but the variable type changes.\n",
    "* Upcasting involves the typecasting of a child object to a parent object, and can be done implicitly/automatically. After upcasting, the child object can only access the inherited and overridden attributes/methods of its parent class, but can no longer access the new attributes/methods defined in the child class.\n",
    "* Downcasting involves the typecasting of a parent object to a child object, and cannot be done implicitly, but rather manually. After downcasting, the parent object can now access all of the attributes and methods, both overridden and new, found in the child class.\n",
    "* The variable type determines which attributes and methods can be accessed, while the object type determines the actual implementation of the attributes and methods."
   ]
  },
  {
   "attachments": {},
   "cell_type": "markdown",
   "metadata": {},
   "source": [
    "## Examples: ##"
   ]
  },
  {
   "cell_type": "code",
   "execution_count": 30,
   "metadata": {
    "vscode": {
     "languageId": "java"
    }
   },
   "outputs": [
    {
     "name": "stdout",
     "output_type": "stream",
     "text": [
      "Machine started\n",
      "Camera started\n",
      "Photo taken\n",
      "Camera started\n",
      "Camera started\n",
      "Photo taken\n"
     ]
    }
   ],
   "source": [
    "class Machine {\n",
    "    public void start() {\n",
    "        System.out.println(\"Machine started\");\n",
    "    }\n",
    "}\n",
    "\n",
    "class Camera extends Machine {\n",
    "    public void start() {\n",
    "        System.out.println(\"Camera started\");\n",
    "    }\n",
    "\n",
    "    public void snap() {\n",
    "        System.out.println(\"Photo taken\");\n",
    "    }\n",
    "}\n",
    "\n",
    "public class Application {\n",
    "    public static void main(String[] args) {\n",
    "        // The Machine object type cannot be referred to by the Camera child variable type, but can be referred to by the Machine parent variable type\n",
    "        Machine mach1 = new Machine();\n",
    "        Camera cam1 = new Camera();\n",
    "\n",
    "        mach1.start();\n",
    "        cam1.start();\n",
    "        cam1.snap();\n",
    "\n",
    "        // Upcasting\n",
    "        // Set mach2 of variable type Machine to refer to the same Camera object that cam1 refers to\n",
    "        // Moving up the class hierarchy, from child variable type Camera to parent variable type Machine\n",
    "        Machine mach2 = cam1;\n",
    "        // The object type is Camera, so the start() method overridden in Camera will be ran. The variable type is simply a reference to the object, and defines the range of attributes and methods that can be accessed.\n",
    "        mach2.start();\n",
    "        // mach2.snap() won't work, because the variable type is Machine, and snap() is not a method in the Machine class\n",
    "\n",
    "        // Downcasting\n",
    "        Machine mach3 = new Camera();\n",
    "        // Set cam2 of variable type Camera to refer to the same Camera object that mach3 refers to\n",
    "        // This way, all of the attributes and methods of Camera can be accessed with our new object\n",
    "        // Notation for manual casting, which is needed for downcasting. This is because downcasting is more inherently unsafe than upcasting, as more changes are being made to the object variable itself (object type stay the same)\n",
    "        // The Camera object type can be referred to both by the Camera child variable type and the Machine parent variable type\n",
    "        Camera cam2 = (Camera) mach3;\n",
    "        cam2.start();\n",
    "        cam2.snap();\n",
    "\n",
    "        // This won't work, because the parent object type Machine cannot be referenced by the child variable type Camera\n",
    "        // Object types remain constant, which means the object type Machine cannot be converted to an object type Camera\n",
    "        // Review: Child objects can be referred to by Parent types, but Parent objects cannot be referred to by Child types\n",
    "        // Machine mach4 = new Machine();\n",
    "        // Camera cam3 = (Camera) mach4;\n",
    "    }\n",
    "}\n",
    "\n",
    "Application.main(null);"
   ]
  },
  {
   "attachments": {},
   "cell_type": "markdown",
   "metadata": {},
   "source": [
    "# 30. Using Generics #"
   ]
  },
  {
   "attachments": {},
   "cell_type": "markdown",
   "metadata": {},
   "source": [
    "## Notes: ##\n",
    "* A Generic class is basically a class that can work with different data types and objects. Generic entities operate on a parameterized type(s), which specify the type of data they will work with (i.e. the types of objects they can store and retrieve for the programmer) when instantiated as methods or objects. Generics are able to provide templates for certain classes in a sense. Generic classes are used to create useful data structures in Java such as ArrayList, LinkedList, HashSet, HashMap, etc.\n",
    "* A Generic method, working just like a normal method, takes a \"type\" parameter(s) that specifies the type of data that should be passed into the method (usually in between the diamond brackets <>), enabling a general usage of the method.\n",
    "* A Generic class, working just like a normal class, takes a \"type\" parameter(s) in a certain section of its definition (usually in between the diamond brackets <>), which specifies the type of data the object of the class works with in general.\n",
    "* As Generics follow a parameterized type(s), they eliminate the need for programmers to perform redundant type castings (Programmers used to have to type cast the data retrieved from certain data structure classes in order to convert from unwanted object to desired variable type. Now, Generics will return data of the appropriate type). So, for a Generic entity to be Generic, it needs to have one or more type parameters. Parameterized types basically allow Generics to hold and work with (e.g. add, remove, retrieve) a general range of data that fit within the specified data type(s), in turn allowing for type-safety during compile time.\n",
    "* It is important to note that when defining parameterized types within the <> of a Generic entity, they need to be specified as objects. This means that primitive types need to be specified in their wrapper class forms (e.g. int - Integer). A parameterized type can also be specified as an object (referred by the class name) of a custom class that you created. You can also have nested parameterized types, where the outer parameterized type represents some kind of list which has its own parameterized data type (e.g. type parameter is ArrayList).\n",
    "* Wrapper classes are basically classes that represent equivalent primitive type counterparts. For example, the wrapper class of int is Integer, and the wrapper class of char is Character. Wrapper classes are essentially the reference/object equivalents to primitive types, and should be defined with Generics in Java's Collection framework."
   ]
  },
  {
   "attachments": {},
   "cell_type": "markdown",
   "metadata": {},
   "source": [
    "## Examples: ##"
   ]
  },
  {
   "cell_type": "code",
   "execution_count": 5,
   "metadata": {
    "vscode": {
     "languageId": "java"
    }
   },
   "outputs": [
    {
     "name": "stdout",
     "output_type": "stream",
     "text": [
      "banana\n",
      "dog\n"
     ]
    }
   ],
   "source": [
    "class Animal {\n",
    "    private String type = \"animal\";\n",
    "}\n",
    "\n",
    "public class Application {\n",
    "    public static void main(String[] args) {\n",
    "        // Before Java 5 with Generics was released\n",
    "        // Old way of initializing an ArrayList\n",
    "        ArrayList list = new ArrayList();\n",
    "        // Append elements to and retrieve elements from the ArrayList\n",
    "        list.add(\"apple\");\n",
    "        list.add(\"banana\");\n",
    "        list.add(\"orange\");\n",
    "\n",
    "        // In the old version, list.get(1) retrieves an object, and so we need to downcast the value of the object to get the desired String value\n",
    "        String fruit = (String) list.get(1);\n",
    "        System.out.println(fruit);\n",
    "\n",
    "        // After Generics were introduced with Java 5\n",
    "        // Modern way of initializing an ArrayList\n",
    "        // Notice how the parameterized type is specified with the ArrayList in between the diamond brackets <>, during both variable type declaration and object type declaration.\n",
    "        ArrayList<String> strings = new ArrayList<String>();\n",
    "        // Append elements to and retrieve elements from the ArrayList\n",
    "        // Modern way of modifying ArrayList is very similar to the old way, except we no longer need to type cast due to the parameterized types of Generics\n",
    "        strings.add(\"cat\");\n",
    "        strings.add(\"dog\");\n",
    "        strings.add(\"alligator\");\n",
    "\n",
    "        String animal = strings.get(1);\n",
    "        System.out.println(animal);\n",
    "\n",
    "        // There can be more than one parameterized type defined in Generic entities\n",
    "        // The multiple parameterized types are separated by commas\n",
    "        // Initialize HashMap Generic data structure\n",
    "        HashMap<Integer, String> map = new HashMap<Integer, String>();\n",
    "\n",
    "        // Java 7 style of initializing Generics\n",
    "        // The parameterized type only needs to be specified once (in the variable declaration), as the program automatically infers the parameterized type in the second part of declaration\n",
    "        // The ArrayList holds objects of the created Animal class\n",
    "        ArrayList<Animal> someList = new ArrayList<>();\n",
    "    }\n",
    "}\n",
    "\n",
    "Application.main(null);"
   ]
  },
  {
   "attachments": {},
   "cell_type": "markdown",
   "metadata": {},
   "source": [
    "# 31. Generics and Wildcards #"
   ]
  },
  {
   "attachments": {},
   "cell_type": "markdown",
   "metadata": {},
   "source": [
    "## Notes: ##\n",
    "* Normally, a Generic entity such as ArrayList with a parameterized type object of a child class is NOT a subclass of a Generic entity with a parameterized type object of a parent class.\n",
    "* In Java, a wildcard, represented by the ? symbol in the type parameter, indicates that the Generic entity works with data of an unknown type. Wildcard Generics are declared in the parameters of methods. Because of this, the type of variable(s) the Generic entity in the method parameter ultimately works with is typically specified as an argument during the passing of another Generic (which itself has a specified type parameter) to the method. \n",
    "* Keep in mind that after the parameterized type of a wildcard Generic has been determined with the argument passed, the parameterized type needs to remain consistent (e.g. An ArrayList of type parameter String was passed as an argument for the ArrayList parameter with a wildcard type parameter. In the method, the ArrayList parameter will now be treated as an ArrayList with type parameter String). A wildcard is basically a special kind of type parameter that essentially dictates the type safety of Generics on a broader scale.\n",
    "* Upper bounds and lower bounds of wildcards cannot be specified at the same time. The lower bound of a wildcard indicates that the unknown type is limited to the specified class type, or any super class of the specified class type. The upper bound of a wildcard indicates that the unknown type is limited to the specified class type, or an sub class of the specified class type."
   ]
  },
  {
   "attachments": {},
   "cell_type": "markdown",
   "metadata": {},
   "source": [
    "## Examples: ##"
   ]
  },
  {
   "cell_type": "code",
   "execution_count": 17,
   "metadata": {
    "vscode": {
     "languageId": "java"
    }
   },
   "outputs": [
    {
     "name": "stdout",
     "output_type": "stream",
     "text": [
      "one\n",
      "two\n",
      "I am a machine\n",
      "I am a machine\n",
      "I am a camera\n",
      "I am a camera\n",
      "I am a machine\n",
      "Machine is started\n",
      "I am a machine\n",
      "Machine is started\n",
      "I am a camera\n",
      "Machine is started\n",
      "I am a camera\n",
      "Machine is started\n",
      "I am a machine\n",
      "I am a machine\n",
      "I am a camera\n",
      "I am a camera\n"
     ]
    }
   ],
   "source": [
    "// Import ArrayList class from the java.util library\n",
    "import java.util.ArrayList;\n",
    "\n",
    "// Every class created extends from the Object ultimate parent class\n",
    "class Machine {\n",
    "    @Override\n",
    "    // Override toString() method inherited from the Object class\n",
    "    public String toString() {\n",
    "        return \"I am a machine\";\n",
    "    }\n",
    "\n",
    "    public void start() {\n",
    "        System.out.println(\"Machine is started\");\n",
    "    }\n",
    "}\n",
    "\n",
    "class Camera extends Machine {\n",
    "    @Override\n",
    "    public String toString() {\n",
    "        return \"I am a camera\";\n",
    "    }\n",
    "\n",
    "    public void snap() {\n",
    "        System.out.println(\"Snap\");\n",
    "    }\n",
    "}\n",
    "\n",
    "public class Application {\n",
    "    public static void main(String[] args) {\n",
    "        ArrayList<String> list = new ArrayList<String>();\n",
    "        list.add(\"one\");\n",
    "        list.add(\"two\");\n",
    "        showList(list);\n",
    "\n",
    "        ArrayList<Machine> machList = new ArrayList<Machine>();\n",
    "        // Add objects of the Machine class to the ArrayList\n",
    "        // Since the object type is Machine, the program assumes that the variable type is Machine as it is not declared? (inferring the variable type from the object type)\n",
    "        machList.add(new Machine());\n",
    "        machList.add(new Machine());\n",
    "        showMachList(machList);\n",
    "\n",
    "        ArrayList<Camera> camList = new ArrayList<Camera>();\n",
    "        // Add objects of the Machine class to the ArrayList\n",
    "        // Since the object type is Camera, the program assumes that the variable type is Camera as it is not declared? (inferring the variable type from the object type)\n",
    "        camList.add(new Camera());\n",
    "        camList.add(new Camera());\n",
    "        showWhateverList(camList);\n",
    "\n",
    "        showWhateverMachineList(machList);\n",
    "        showWhateverMachineList(camList);\n",
    "\n",
    "        showWhateverCameraList(machList);\n",
    "        showWhateverCameraList(camList);\n",
    "    }\n",
    "\n",
    "    // Make method static so that it can be directly accessed by the static main method, getting rid of the need of creating an object of the Application class\n",
    "    // Parameter of showList() is of variable type ArrayList with parameterized type String\n",
    "    public static void showList(ArrayList<String> list) {\n",
    "        // Enhanced for loop\n",
    "        for (String value : list) {\n",
    "            System.out.println(value);\n",
    "        }\n",
    "    }\n",
    "\n",
    "    // Parameter of showMachList() is of variable type ArrayList with parameterized type Machine\n",
    "    public static void showMachList(ArrayList<Machine> machList) {\n",
    "        for (Machine mach : machList) {\n",
    "            System.out.println(mach.toString());\n",
    "        }\n",
    "    }\n",
    "\n",
    "    // Usage of wildcard (indicated by ? symbol)\n",
    "    // Parameter of showWhateverList() is of variable type ArrayList with any kind of parameterized type\n",
    "    public static void showWhateverList(ArrayList<?> whateverList) {\n",
    "        // Since wildcard is used, we have to refer to the objects of the ArrayList as Object, since Object is the parent class of all classes in Java\n",
    "        for (Object value : whateverList) {\n",
    "            // Object itself has a toString() method that runs when an object is printed. Here, Camera's toString() method overrides that of the Object class, since objects of Camera were added to the ArrayList\n",
    "            // Since the variable type is Object, only attributes and methods a part of the Object class can be accessed.\n",
    "            // If we wanted to use the attributes and methods of the other classes here, we would have to downcast the variable type Object to a variable type of a child class\n",
    "            System.out.println(value);\n",
    "        }\n",
    "    }\n",
    "\n",
    "    // Usage of wildcard while specifying the upper bound of the parameterized type to be of variable type Machine (which encompasses the Machine class, or any child class of Machine)\n",
    "    public static void showWhateverMachineList(ArrayList<? extends Machine> list) {\n",
    "        // Since the variable type is Machine, only attributes and methods found in the Machine class can be accessed, though they could have been overridden any child classes\n",
    "        for (Machine value : list) {\n",
    "            // The toString() method runs when an object is printed\n",
    "            System.out.println(value);\n",
    "            value.start();\n",
    "        }\n",
    "    }\n",
    "\n",
    "    // Usage of wildcard while specifying the lower bound of the parameterized type to be of variable type Camera (which encompasses the Camera class, or any super/parent class of the Camera class)\n",
    "    public static void showWhateverCameraList(ArrayList<? super Camera> list) {\n",
    "        // Since lower bound is specified instead of upper bound, the Object class variable type needs to be used as sort of a parent in order to encompass objects of the Camera class and its super classes\n",
    "        for (Object value : list) {\n",
    "            System.out.println(value);\n",
    "        }\n",
    "    }\n",
    "}\n",
    "\n",
    "Application.main(null);"
   ]
  },
  {
   "attachments": {},
   "cell_type": "markdown",
   "metadata": {},
   "source": [
    "# 32. Anonymous Classes #"
   ]
  },
  {
   "attachments": {},
   "cell_type": "markdown",
   "metadata": {},
   "source": [
    "## Notes: ##\n",
    "* In Java, an anonymous class allows you to declare/define and instantiate a class at the same time. They are similar to normal local classes in terms of properties and behaviors, except for the fact that they do not have a name, and are created during instead of before the runtime of the program.\n",
    "* Anonymous classes primarily serve to provide a way of extending a class or implementing an interface. An anonymous class is used whenever you only want to utilize that local class once in your code (i.e. Only one object refers to the anonymous class, which is the object declared with the creation of an anonymous class that stems off a parent class or interface declaration. You can call as many attributes and methods from that object as you want, as long as they exist within the range of properties inherited from a parent class or implemented from an interface. Reminder that anonymous classes are typically declared to be children of parents classes and implementations of interfaces).\n",
    "* Anonymous classes ultimately help you make your code more concise, allowing you to essentially make real-time, temporary modifications to the attributes and methods of classes through a single object declaration."
   ]
  },
  {
   "attachments": {},
   "cell_type": "markdown",
   "metadata": {},
   "source": [
    "## Examples: ##"
   ]
  },
  {
   "cell_type": "code",
   "execution_count": 3,
   "metadata": {
    "vscode": {
     "languageId": "java"
    }
   },
   "outputs": [
    {
     "name": "stdout",
     "output_type": "stream",
     "text": [
      "Starting machine...\n",
      "Camera snapping\n",
      "Machine stopped\n",
      "Growing..."
     ]
    },
    {
     "name": "stdout",
     "output_type": "stream",
     "text": [
      "\n"
     ]
    }
   ],
   "source": [
    "class Machine {\n",
    "    public void start() {\n",
    "        System.out.println(\"Starting machine...\");\n",
    "    }\n",
    "\n",
    "    public void stop() {\n",
    "        System.out.println(\"Machine stopped\");\n",
    "    }\n",
    "}\n",
    "\n",
    "interface Plant {\n",
    "    // Reminder that you declare methods in interfaces, but you do not declare bodies of code, as they are defined by classes that implement the interface\n",
    "    public void grow();\n",
    "}\n",
    "\n",
    "public class Application {\n",
    "    public static void main(String[] args) {\n",
    "        // Create reference variable mach1 to refer to object of Machine class\n",
    "        Machine mach1 = new Machine();\n",
    "        mach1.start();\n",
    "\n",
    "        // Notation for creating an anonymous class that is not the Machine class itself, but rather a child of the Machine class\n",
    "        // Notice how the anonymous class does not have a name, but rather inherits or overrides the attributes and methods of Machine\n",
    "        Machine mach2 = new Machine() {\n",
    "            @Override\n",
    "            public void start() {\n",
    "                System.out.println(\"Camera snapping\");\n",
    "            }\n",
    "        };\n",
    "        // Call multiple methods of the single object of the above anonymous class\n",
    "        mach2.start();\n",
    "        mach2.stop();\n",
    "\n",
    "        // You cannot instantiate an object of an interface, as the interface cannot be implemented that way\n",
    "        // You need to instead instantiate an object of a class that actually implements the interface\n",
    "        // Notation for creating an anonymous class that is not the Plant interface itself, but rather a class that implements the Plant interface\n",
    "        // With the anonymous class, we can instantiate an object, since the object is derived from a valid class that implements the interface\n",
    "        Plant plant1 = new Plant() {\n",
    "            // Need to override all of the attributes and methods defined in the interface\n",
    "            @Override\n",
    "            public void grow() {\n",
    "                System.out.println(\"Growing...\");\n",
    "            }\n",
    "        };\n",
    "        plant1.grow();\n",
    "    }\n",
    "}\n",
    "\n",
    "Application.main(null);"
   ]
  },
  {
   "attachments": {},
   "cell_type": "markdown",
   "metadata": {},
   "source": [
    "# 33. Reading Files Using Scanner #"
   ]
  },
  {
   "attachments": {},
   "cell_type": "markdown",
   "metadata": {},
   "source": [
    "## Notes: ##\n",
    "* A backslash in a String usually indicates a special character within the String. To fix this problem, we could put double backslashes instead of single backslashes, because a double backslash indicates that the special character really is a backslash. You could also use forward slashes as an alternative to the double backslashes.\n",
    "* The Scanner class of the java.util library can be used to read the contents of a specified file, or scan the inputs given by users through an inputStream such as System.in. It provides a variety of methods to read through different data types, usually line by line.\n",
    "* The \"next\" methods of the Scanner class, such as nextLine() and nextInt(), literally read the \"next specified content\" of a file or user input each time they are called (e.g. nextInt() reads the next integer in the file, nextDouble() reads the next decimal number in the file, and nextLine() reads the next remaining line of content in the file). If multiple different data types were to be on the same line, the program can (but does not necessarily need to; could for example use nextInt() to read only the integer and use nextLine() to read the remaining content on the line) read the whole line as a String, concatenating all of the different data types into a single content.\n",
    "* If an alternative next function to nextLine() is used, such as nextInt(), after the integer in the first line has been read, there will be a blank line that will be read before the rest of the content in the file is read. This is because after the last character of each line, there is an invisible character(s) that represents the line feed, or the end of the line. The nextLine() method accounts for these line feeds along with its selected content, while most of the other next methods do not, as they only read through their appropriate data type contents. "
   ]
  },
  {
   "attachments": {},
   "cell_type": "markdown",
   "metadata": {},
   "source": [
    "## Examples: ##"
   ]
  },
  {
   "cell_type": "code",
   "execution_count": 37,
   "metadata": {
    "vscode": {
     "languageId": "java"
    }
   },
   "outputs": [
    {
     "name": "stdout",
     "output_type": "stream",
     "text": [
      "Read value: 7\n",
      "Read decimal: 7.7\n",
      "2: Hello World\n",
      "3: I am Dylan\n",
      "4: I love programming, especially in Java\n",
      "5: I love to work out\n",
      "6: I love to play soccer\n",
      "7: I hope to create a world-dominating AI\n"
     ]
    }
   ],
   "source": [
    "// Import the File class from the java.io library\n",
    "import java.io.File;\n",
    "// Import the FileNotFoundException class from the java.io library\n",
    "import java.io.FileNotFoundException;\n",
    "// Import the Scanner class from the java.util library\n",
    "import java.util.Scanner;\n",
    "\n",
    "public class Application {\n",
    "    // Indicates that the main program will just stop and throw a FileNotFoundException, in the case where the file path defined is not found on the system\n",
    "    public static void main(String[] args) throws FileNotFoundException {\n",
    "        // Set file path of the desired file on the project file system\n",
    "        // I used the project relative file path instead of the absolute computer system file path used in the tutorial\n",
    "        String filePath = \"/home/dylanluo05/DylanLuoAPCSA/assets/java-fundamentals-resources/lesson-33-file.txt\";\n",
    "        // Create object of the Java File class, and pass filePath as an argument into the File class's constructor\n",
    "        File textFile = new File(filePath);\n",
    "        // Create object of the Java Scanner class, and pass the textFile object (instead of System.in, which indicates that Scanner will take user input. Here, the Scanner reads from the File we defined) as an argument into the Scanner class's constructor\n",
    "        Scanner in = new Scanner(textFile);\n",
    "\n",
    "        // nextInt() does not account for line feeds, while nextLine() does.\n",
    "        // Use nextInt() to appropriately store the data in the first line of the file as an int, which is an integer variable type.\n",
    "        int value = in.nextInt();\n",
    "        System.out.println(\"Read value: \" + value);\n",
    "        // Read through the double value on the same line as the first integer read, and appropriately store it as a double variable type\n",
    "        double floatingPoint = in.nextDouble();\n",
    "        System.out.println(\"Read decimal: \" + floatingPoint);\n",
    "        // Line feed on the first line will be read after the integer and double data have been read\n",
    "        in.nextLine();\n",
    "\n",
    "        // Number the lines in the file after the first line that was just read\n",
    "        int count = 2;\n",
    "        // Loop to read the file line by line, after the first line that has already been read above\n",
    "        // While the file still has another line to read, perform the following actions\n",
    "        while (in.hasNextLine()) {\n",
    "            // Store the word content of the currently selected line in the file into a String variable\n",
    "            // The Scanner iterates through each line of the file from top to bottom\n",
    "            String line = in.nextLine();\n",
    "            System.out.println(count + \": \" + line);\n",
    "            count++;\n",
    "        }\n",
    "        // Here, the close() method will automatically close the specified file in the constructor after it has been scanned through\n",
    "        in.close();\n",
    "    }\n",
    "}\n",
    "\n",
    "Application.main(null);"
   ]
  },
  {
   "attachments": {},
   "cell_type": "markdown",
   "metadata": {},
   "source": [
    "# 34. Handling Exceptions #"
   ]
  },
  {
   "attachments": {},
   "cell_type": "markdown",
   "metadata": {},
   "source": [
    "## Notes: ##\n",
    "* In Java, an exception is essentially an event during a program's execution in which an error occurs in the flow of the code, leading to the program's disruption and possible stoppage, and sometimes prompting the program to create an object (exceptions are actually objects of a class called Exception) detailing the exception and sending it to the runtime.\n",
    "* The throws keyword is defined in a method signature/declaration, and determines which kind of exception (should usually be only one) should be thrown from the method, ultimately defining the certain kind of error the program should handle if it occurs. Generally, we should use throws to handle checked exceptions, since unchecked exceptions do not need to be manually handled as they are automatically caught by runtime. Throwing an exception means creating an object for the exception, then throwing it to the runtime to display. The message presented by the runtime about the exception is known as the stack trace.\n",
    "* In Java, the try catch statement provides a way of handling exceptions in the program. The code block within the try statement define the code that the program will test for errors. The moment a line of code within the try statement has an error, the try statement immediately throws an exception to the catch statement. \n",
    "* The exception is essentially caught by the catch statement (parameter of catch statement defines which kind of exceptions it should look for. e.g. FileNoteFoundException e, where e is the object variable to store the FileNoteFoundException; Exception e, where e is the object variable to store any kind of exceptions, as indicated by the general name Exception), and the code block within the catch statement defines the action that will be taken if an error is found within the try statement.\n",
    "* Following the try catch statement you can optionally write a finally statement, and the code block in the finally statement defines the actions that will be taken after the try catch statement regardless of the result. The useful aspect of try catch is that the program will still run even if errors are found in the try statement (since the exception thrown by try is caught by catch and handled, instead of thrown to runtime). However, exceptions found in the catch statement or finally statement will be thrown to runtime.\n",
    "* Sometimes, methods will call each other, which means that multiple methods could encounter the same exception. This means that good practice is that each method should have a way (throw or try catch) to handle the exception. Any exceptions that may be thrown that may be encountered anywhere else in the program should be handled in some way (either thrown again or caught again)."
   ]
  },
  {
   "attachments": {},
   "cell_type": "markdown",
   "metadata": {},
   "source": [
    "## Examples: ##"
   ]
  },
  {
   "cell_type": "code",
   "execution_count": 13,
   "metadata": {
    "vscode": {
     "languageId": "java"
    }
   },
   "outputs": [
    {
     "name": "stdout",
     "output_type": "stream",
     "text": [
      "FileNotFoundException occurred. File not found: test.txt\n"
     ]
    },
    {
     "name": "stdout",
     "output_type": "stream",
     "text": [
      "Could not open file. File not found\n"
     ]
    },
    {
     "ename": "EvalException",
     "evalue": "test.txt (No such file or directory)",
     "output_type": "error",
     "traceback": [
      "\u001b[1m\u001b[31m---------------------------------------------------------------------------\u001b[0m",
      "\u001b[1m\u001b[31mjava.io.FileNotFoundException: test.txt (No such file or directory)\u001b[0m",
      "\u001b[1m\u001b[31m\tat java.base/java.io.FileInputStream.open0(Native Method)\u001b[0m",
      "\u001b[1m\u001b[31m\tat java.base/java.io.FileInputStream.open(FileInputStream.java:219)\u001b[0m",
      "\u001b[1m\u001b[31m\tat java.base/java.io.FileInputStream.<init>(FileInputStream.java:157)\u001b[0m",
      "\u001b[1m\u001b[31m\tat java.base/java.io.FileReader.<init>(FileReader.java:75)\u001b[0m",
      "\u001b[1m\u001b[31m\tat Application.main(#14:1)\u001b[0m",
      "\u001b[1m\u001b[31m\tat .(#42:1)\u001b[0m"
     ]
    }
   ],
   "source": [
    "import java.io.File;\n",
    "import java.io.FileReader;\n",
    "\n",
    "public class Application {\n",
    "    // Use throws keyword to allow the main method to handle FileNotFoundException checked exceptions\n",
    "    public static void main(String[] args) throws FileNotFoundException {\n",
    "        File file = new File(\"test.txt\");\n",
    "        \n",
    "        // FileReader class serves as intermediate step to reading objects of File class\n",
    "        FileReader fr = new FileReader(file);\n",
    "    }\n",
    "}\n",
    "\n",
    "class ApplicationTwo {\n",
    "    public static void main(String[] args) {\n",
    "        File file = new File(\"test.txt\");\n",
    "\n",
    "        // Notation for try catch statement\n",
    "        // Create FileReader object in the try statement\n",
    "        // Catch statement specifically checks for FileNotFoundException\n",
    "        try {\n",
    "            FileReader fr = new FileReader(file);\n",
    "            // This will not run as an exception is thrown before it\n",
    "            System.out.println(\"Continuing...\");\n",
    "        } catch (FileNotFoundException e) {\n",
    "            // If FileNotFoundException occurs, use the printStackTrace() message of the object of the FileNotFoundException class\n",
    "            // e.printStackTrace();\n",
    "\n",
    "            // Use toString() to print a clear representation of the file object\n",
    "            System.out.println(\"FileNotFoundException occurred. File not found: \" + file.toString());\n",
    "        }\n",
    "    }\n",
    "}\n",
    "\n",
    "class ApplicationThree {\n",
    "    // If FileNotFoundException occurs in the main method, the method will by default throw it to runtime\n",
    "    // But if FileNoteFoundException occurs in a try statement, the catch statement will catch the exception and take its own action, preventing the program from throwing the exception to runtime\n",
    "    public static void main(String[] args) throws FileNotFoundException {\n",
    "        // Directly access openFile() method from static main tester method\n",
    "        // Since openFile() throws an exception itself, and is called in the main method, we need to choose what to do with the exception\n",
    "        // We can either throw the exception from main to runtime, and/or use a try catch statement to catch the exception thrown by openFile()\n",
    "        try {\n",
    "            openFile();\n",
    "            // Use Exception e to allow catch statement to handle any kind of exception\n",
    "        } catch (Exception e) {\n",
    "            System.out.println(\"Could not open file. File not found\");\n",
    "        }\n",
    "    }\n",
    "\n",
    "    // Make method static so we can directly access it in the static main method. This is because both methods are static and are in the same class\n",
    "    // The openFile() method throws the FileNotFoundException itself\n",
    "    public static void openFile() throws FileNotFoundException {\n",
    "        File file = new File(\"test.txt\");\n",
    "        \n",
    "        FileReader fr = new FileReader(file);\n",
    "    }\n",
    "}\n",
    "\n",
    "ApplicationTwo.main(null);\n",
    "ApplicationThree.main(null);\n",
    "// Most exceptions stop the runtime of the program completely\n",
    "Application.main(null);"
   ]
  },
  {
   "attachments": {},
   "cell_type": "markdown",
   "metadata": {},
   "source": [
    "# 35. Multiple Exceptions #"
   ]
  },
  {
   "attachments": {},
   "cell_type": "markdown",
   "metadata": {},
   "source": [
    "## Notes: ##\n",
    "* In Java, a method can be modified to be able to handle multiple exceptions, defined in the method signature and separated by commas. The thing is that the method can only throw one exception, but it has the potential to handle any of the exceptions defined, and the exception that is handled depends on the order in which the exceptions occur (whichever occurs first is handled first).\n",
    "* The throw keyword allows us to explicitly cause the program to throw a type of exception (checked or unchecked) from a block of code. The throw new command allows us to manually throw an object of the Exception class during the program, also enabling us to define a custom error message in the constructor of the object (different exception classes may have different constructor parameters). The throw keyword stops the running of the program.\n",
    "* The throws keyword, which is defined with exceptions separated commas in the method signature, helps us define a list of potential exceptions that may occur in a method. We can use try catch statements to choose how to handle each kind of exception (each catch statement parameter takes a specific type of exception, and the code block within the catch statement can take custom action with the program still running, or throw the appropriate exception to stop the running of the program).\n",
    "* In a try multi-catch statement, one catch statement typically lists multiple different exceptions that could occur, separated by |, and defines what action should be taken if any of those exceptions occur.\n",
    "* The classes that represent each kind of exception are all sub-classes of the Exception parent class. This means the Exception class can encapsulate any kind of exception that could occur. Child exceptions should always be checked before parent exceptions, since parent exceptions always (encapsulate) catch errors of child exceptions, but child exceptions cannot catch errors from the other children of parent exceptions. If a parent exception checker were to be placed before the child exception checker, the child exception would never be reached, because it would be handled by the parent exception checker."
   ]
  },
  {
   "attachments": {},
   "cell_type": "markdown",
   "metadata": {},
   "source": [
    "## Examples: ##"
   ]
  },
  {
   "cell_type": "code",
   "execution_count": 6,
   "metadata": {
    "vscode": {
     "languageId": "java"
    }
   },
   "outputs": [
    {
     "name": "stdout",
     "output_type": "stream",
     "text": [
      "Couldn't parse command file.\n"
     ]
    },
    {
     "name": "stderr",
     "output_type": "stream",
     "text": [
      "java.text.ParseException: Error in command list.\n",
      "\tat REPL.$JShell$14G$Test.run($JShell$14G.java:25)\n",
      "\tat REPL.$JShell$15H$Application.main($JShell$15H.java:33)\n",
      "\tat REPL.$JShell$21.do_it$($JShell$21.java:18)\n",
      "\tat java.base/jdk.internal.reflect.NativeMethodAccessorImpl.invoke0(Native Method)\n",
      "\tat java.base/jdk.internal.reflect.NativeMethodAccessorImpl.invoke(NativeMethodAccessorImpl.java:62)\n",
      "\tat java.base/jdk.internal.reflect.DelegatingMethodAccessorImpl.invoke(DelegatingMethodAccessorImpl.java:43)\n",
      "\tat java.base/java.lang.reflect.Method.invoke(Method.java:566)\n",
      "\tat io.github.spencerpark.ijava.execution.IJavaExecutionControl.lambda$execute$1(IJavaExecutionControl.java:95)\n",
      "\tat java.base/java.util.concurrent.FutureTask.run(FutureTask.java:264)\n",
      "\tat java.base/java.util.concurrent.ThreadPoolExecutor.runWorker(ThreadPoolExecutor.java:1128)\n",
      "\tat java.base/java.util.concurrent.ThreadPoolExecutor$Worker.run(ThreadPoolExecutor.java:628)\n",
      "\tat java.base/java.lang.Thread.run(Thread.java:829)\n",
      "java.text.ParseException: Error in command list.\n",
      "\tat REPL.$JShell$14G$Test.run($JShell$14G.java:25)\n",
      "\tat REPL.$JShell$15H$Application.main($JShell$15H.java:41)\n",
      "\tat REPL.$JShell$21.do_it$($JShell$21.java:18)\n",
      "\tat java.base/jdk.internal.reflect.NativeMethodAccessorImpl.invoke0(Native Method)\n",
      "\tat java.base/jdk.internal.reflect.NativeMethodAccessorImpl.invoke(NativeMethodAccessorImpl.java:62)\n",
      "\tat java.base/jdk.internal.reflect.DelegatingMethodAccessorImpl.invoke(DelegatingMethodAccessorImpl.java:43)\n",
      "\tat java.base/java.lang.reflect.Method.invoke(Method.java:566)\n",
      "\tat io.github.spencerpark.ijava.execution.IJavaExecutionControl.lambda$execute$1(IJavaExecutionControl.java:95)\n",
      "\tat java.base/java.util.concurrent.FutureTask.run(FutureTask.java:264)\n",
      "\tat java.base/java.util.concurrent.ThreadPoolExecutor.runWorker(ThreadPoolExecutor.java:1128)\n",
      "\tat java.base/java.util.concurrent.ThreadPoolExecutor$Worker.run(ThreadPoolExecutor.java:628)\n",
      "\tat java.base/java.lang.Thread.run(Thread.java:829)\n"
     ]
    },
    {
     "name": "stdout",
     "output_type": "stream",
     "text": [
      "FileNotFoundException occurred\n"
     ]
    }
   ],
   "source": [
    "import java.io.IOException;\n",
    "import java.text.ParseException;\n",
    "\n",
    "// The exceptions in this program are mostly checked exceptions that are checked during compile time. This means they need to be handled for the program to run. More on this topic later\n",
    "\n",
    "class Test {\n",
    "    // The run() method can throw either the IOException or the ParseException\n",
    "    public void run() throws IOException, ParseException {\n",
    "        // throw new IOException();\n",
    "        // You cannot simultaneously throw 2 different exceptions, so only throw one exception here, as we do not have a try catch statement to sort out the different cases\n",
    "        // The object of the ParseException class takes 2 parameters for its constructor\n",
    "        // Throw a custom exception message in the case of a ParseException. The program will take the default action of printing out a stack trace in the case of an IOException\n",
    "        throw new ParseException(\"Error in command list.\", 2);\n",
    "    }\n",
    "\n",
    "    // FileNotFoundException is a child class of IOException\n",
    "    public void input() throws IOException, FileNotFoundException {\n",
    "        throw new FileNotFoundException(\"File not found.\");\n",
    "    }\n",
    "}\n",
    "\n",
    "public class Application {\n",
    "    public static void main(String[] args) {\n",
    "        Test test = new Test();\n",
    "        // All of the possible exceptions thrown by run() need to be handled by the main() method too\n",
    "        // Try statement comes with multiple catch statements, each defining the case for a different kind of exception\n",
    "        try {\n",
    "            test.run();\n",
    "        } catch (IOException e) {\n",
    "            // The printStackTrace() method prints an error message just like throw, but it does not stop the runtime\n",
    "            e.printStackTrace();\n",
    "        } catch (ParseException e) {\n",
    "            System.out.println(\"Couldn't parse command file.\");\n",
    "        }\n",
    "\n",
    "        try {\n",
    "            test.run();\n",
    "            // Exception (variable type of variable e) means the catch statement can catch any kind of exception here\n",
    "        } catch (Exception e) {\n",
    "            e.printStackTrace();\n",
    "        }\n",
    "\n",
    "        // try multi-catch statement, which defines an action for IOException and ParseException\n",
    "        try {\n",
    "            test.run();\n",
    "        } catch(IOException | ParseException e) {\n",
    "            e.printStackTrace();\n",
    "        }\n",
    "\n",
    "        // Catch blocks are checked in the chronological order in which they are defined\n",
    "        // FileNotFoundException is a child class of IOException, which means that IOException encapsulates FileNoteFoundException\n",
    "        // This means that FileNotFoundException should be checked first, as if IOException were to be placed before, the catch statement containing FileNotFoundException would not be reached\n",
    "        try {\n",
    "            test.input();\n",
    "        } catch (FileNotFoundException e) {\n",
    "            System.out.println(\"FileNotFoundException occurred\");\n",
    "        } catch (IOException e) {\n",
    "            System.out.println(\"IOException occurred\");\n",
    "        }\n",
    "    }\n",
    "}\n",
    "\n",
    "Application.main(null);"
   ]
  },
  {
   "attachments": {},
   "cell_type": "markdown",
   "metadata": {},
   "source": [
    "# 36. Runtime vs. Checked Exceptions #"
   ]
  },
  {
   "attachments": {},
   "cell_type": "markdown",
   "metadata": {},
   "source": [
    "## Notes: ##\n",
    "* Checked exceptions are exceptions that are found during compile time and force you to handle them. Runtime (unchecked) exceptions are exceptions that are found during the actual runtime of the program, and do not necessarily force you to handle them all the time. Both checked and runtime exceptions need to be handled or fixed in some kind of way in order for the program to run properly.\n",
    "* If a compile time error occurs, the entire program just isn't able to execute. If a runtime error occurs, the part of the program before the line of the code that caused the exception is able to execute, but the rest of the program after it is unable to."
   ]
  },
  {
   "attachments": {},
   "cell_type": "markdown",
   "metadata": {},
   "source": [
    "## Examples: ##"
   ]
  },
  {
   "cell_type": "code",
   "execution_count": 20,
   "metadata": {
    "vscode": {
     "languageId": "java"
    }
   },
   "outputs": [
    {
     "name": "stdout",
     "output_type": "stream",
     "text": [
      "java.lang.ArrayIndexOutOfBoundsException: Index 3 out of bounds for length 3\n",
      "Exceptions are pretty interesting, right?\n"
     ]
    }
   ],
   "source": [
    "public class Application {\n",
    "    public static void main(String[] args) {\n",
    "        // Checked exception (checked during compile time)\n",
    "        // Thread.sleep(111);\n",
    "\n",
    "        // Runtime exception (checked during runtime)\n",
    "        // This prompts an ArithmeticException, which is a child class of RuntimeException, which in turn is a child class of the Exception class\n",
    "        // int value = 7;\n",
    "        // value = value/0;\n",
    "\n",
    "        // Another runtime exception\n",
    "        // text is a String reference to null, and you cannot really call methods on a reference to a null value\n",
    "        // Will produce NullPointerException\n",
    "        // String text = null;\n",
    "        // System.out.println(text.length());\n",
    "\n",
    "        // Another runtime exception\n",
    "        // Array texts only goes up to index 2, which is why texts[3] will produce an ArrayIndexOutOfBoundsException\n",
    "        String[] texts = {\"one\", \"two\", \"three\"};\n",
    "        try {\n",
    "            System.out.println(texts[3]);\n",
    "        } catch (RuntimeException e) {\n",
    "            // The toString() method of exception object e with variable type RuntimeException prints a clear text representation of the ArrayIndexOutOfBoundsException (RuntimeException encapsulates ArrayIndexOutOfBoundsException) that occurred\n",
    "            System.out.println(e.toString());\n",
    "        }\n",
    "\n",
    "        System.out.println(\"Exceptions are pretty interesting, right?\");\n",
    "    }\n",
    "}\n",
    "\n",
    "Application.main(null);"
   ]
  },
  {
   "attachments": {},
   "cell_type": "markdown",
   "metadata": {},
   "source": [
    "# 37. Abstract Classes #"
   ]
  },
  {
   "attachments": {},
   "cell_type": "markdown",
   "metadata": {},
   "source": [
    "## Notes: ##\n",
    "* In Java, abstraction is essentially hiding certain details about attributes and methods, and only providing essential information to users.\n",
    "* Abstract is a non-access modifier, and can be used on classes and methods. An abstract class basically serves as a base class, which is restricted in that it cannot be used to create objects. To set and get the actual values and bodies of the attributes and methods of an abstract class, it must be inherited by the child class, in which the values are actually established and accessed.\n",
    "* An abstract class can contain attributes, methods, and abstract methods. An abstract method can only be defined within an abstract class, and does not have a body, which means the action it does (its body) can only defined in a child class that inherits the abstract class. The normal attributes and methods of an abstract class can have values and bodies, though they can only be accessed through a child class that extends the abstract class (note that private instance variables of a parent class can be accessed/inherited by a separate/child class if that instance variable has public getters and setters).\n",
    "* Abstract methods defined in an abstract class should be coupled with the abstract keyword and have no body, but should not have the abstract modifier and should have a body when re-defined in child classes. Normal attributes and methods defined in either the abstract class or the child classes should not have the abstract keyword, and their values and bodies can be defined in both the abstract class and child classes.\n",
    "* The main difference in purpose between abstract classes and interfaces is that abstract classes are not intended to create objects from, as they serve to provide common functionality (sort of like a base parent class) to child classes that are related to each other (we want to create objects of these child classes), while interfaces serve to provide common functionality to child classes that are not necessarily related to each other. For example an abstract class Animal can be extended to child classes Pig and Cow (class hierarchy), which are related, while an interface showInfo can be implemented by child classes Machine and Person, which are not that related.\n",
    "* A class can implement multiple interfaces, but can only have one parent class (although it could technically inherit from the parent class of its parent class). In an interface you should have no implementation of methods (no bodies defined), but in an abstract class you can have implementation of methods (bodies defined for conventional methods but not abstract methods)."
   ]
  },
  {
   "attachments": {},
   "cell_type": "markdown",
   "metadata": {},
   "source": [
    "## Examples: ##"
   ]
  },
  {
   "cell_type": "code",
   "execution_count": 9,
   "metadata": {
    "vscode": {
     "languageId": "java"
    }
   },
   "outputs": [
    {
     "name": "stdout",
     "output_type": "stream",
     "text": [
      "6\n",
      "Starting camera\n",
      "Do stuff in camera\n",
      "Shutting down camera\n",
      "1\n",
      "Starting car\n",
      "Do stuff in car\n",
      "Shutting down car\n"
     ]
    }
   ],
   "source": [
    "// Make the Machine class abstract, so that we cannot create objects of it, since it serves as a base class for child classes\n",
    "abstract class Machine {\n",
    "    // Private attribute id. You cannot necessarily have abstract attributes, as you can set values for attributes of an abstract class in the abstract class itself\n",
    "    // Use encapsulation to hide details of attributes\n",
    "    private int id;\n",
    "\n",
    "    // Provide getters and setters for the private instance variable id, so that classes that inherit Machine can actually set and get the value of id\n",
    "    public int getId() {\n",
    "        return id;\n",
    "    }\n",
    "\n",
    "    public void setId(int id) {\n",
    "        this.id = id;\n",
    "    }\n",
    "\n",
    "    // Define an abstract method called start(). Note that it does not have a body\n",
    "    public abstract void start();\n",
    "\n",
    "    public abstract void doStuff();\n",
    "\n",
    "    public abstract void shutDown();\n",
    "\n",
    "    // Define a normal method called run(). Note that it does have a body\n",
    "    public void run() {\n",
    "        // Call abstract methods in the non-abstract method run(), which is also inherited to child classes\n",
    "        // These abstract methods will ultimately have to be defined in the child classes, in order for run() to compute properly\n",
    "        start();\n",
    "        doStuff();\n",
    "        shutDown();\n",
    "    }\n",
    "}\n",
    "\n",
    "// Both Camera and Car extend from Machine, implying they have some common functionalities\n",
    "// Camera and Car are conventional classes, meaning they can define the bodies of the abstract methods defined in Machine\n",
    "class Camera extends Machine {\n",
    "    // Implement once-abstract method start(), by overriding it and giving the method a body\n",
    "    @Override\n",
    "    public void start() {\n",
    "        System.out.println(\"Starting camera\");\n",
    "    }\n",
    "\n",
    "    @Override\n",
    "    public void doStuff() {\n",
    "        System.out.println(\"Do stuff in camera\");\n",
    "    }\n",
    "\n",
    "    @Override\n",
    "    public void shutDown() {\n",
    "        System.out.println(\"Shutting down camera\");\n",
    "    }\n",
    "}\n",
    "\n",
    "class Car extends Machine {\n",
    "    @Override\n",
    "    public void start() {\n",
    "        System.out.println(\"Starting car\");\n",
    "    }\n",
    "\n",
    "    @Override\n",
    "    public void doStuff() {\n",
    "        System.out.println(\"Do stuff in car\");\n",
    "    }\n",
    "\n",
    "    @Override\n",
    "    public void shutDown() {\n",
    "        System.out.println(\"Shutting down car\");\n",
    "    }\n",
    "}\n",
    "\n",
    "public class Application {\n",
    "    public static void main(String[] args) {\n",
    "        Camera cam1 = new Camera();\n",
    "        cam1.setId(6);\n",
    "        System.out.println(cam1.getId());\n",
    "        // Call inherited method run() from cam1 object, which was not overridden and maintained its original definition from Machine\n",
    "        cam1.run();\n",
    "\n",
    "        Car car1 = new Car();\n",
    "        car1.setId(1);\n",
    "        System.out.println(car1.getId());\n",
    "        car1.run();\n",
    "    }\n",
    "}\n",
    "\n",
    "Application.main(null);"
   ]
  },
  {
   "attachments": {},
   "cell_type": "markdown",
   "metadata": {},
   "source": [
    "# 38. Reading Files with File Reader #"
   ]
  },
  {
   "attachments": {},
   "cell_type": "markdown",
   "metadata": {},
   "source": [
    "## Notes: ##\n",
    "* The FileReader class in Java is a way of reading the contents of files. FileReader is typically used to read a stream, or line, of characters from a particular file when called. FileReader can be used to read a line of characters, and store that data in the form of bytes (which would later be converted to characters either by FileReader or more efficiently BufferedReader) with the process of buffering. \n",
    "* A buffer is essentially a linear and finite sequence of values that are of a particular primitive type. The BufferedReader class in Java serves an efficient way of reading and buffering characters from a character byte stream.\n",
    "* When it comes to reading files in Java, checked exceptions may be frequently met, so it is important to handle these exceptions in the program, usually in the form of try catch statements. Remember that a try statement can be accompanied by multiple catch statements, each specifying a different type of exception(s).\n",
    "* Reminder: Variables declared in Java are limited to the scope of the curly brackets around it. It can inside anywhere inside the brackets, but not outside the brackets. A variable can be declared in a wider scope, and its value can be changed either within that scope or within a more inner scope."
   ]
  },
  {
   "attachments": {},
   "cell_type": "markdown",
   "metadata": {},
   "source": [
    "## Examples: ##"
   ]
  },
  {
   "cell_type": "code",
   "execution_count": 10,
   "metadata": {
    "vscode": {
     "languageId": "java"
    }
   },
   "outputs": [
    {
     "name": "stdout",
     "output_type": "stream",
     "text": [
      "first line\n",
      "second line\n",
      "third line\n"
     ]
    }
   ],
   "source": [
    "import java.io.File;\n",
    "import java.io.FileReader;\n",
    "import java.io.FileNotFoundException;\n",
    "import java.io.BufferedReader;\n",
    "\n",
    "public class Application {\n",
    "    public static void main(String[] args) {\n",
    "        // File class for Java's representation of the file path, attributes, and systems\n",
    "        File file = new File(\"/home/dylanluo05/DylanLuoAPCSA/assets/java-fundamentals-resources/lesson-38-file.txt\");\n",
    "\n",
    "        // Define BufferedReader outside the try catch statement, so that it can be closed after the first set of try catch statements have been run through\n",
    "        // Give br a temporary null value as if the first catch statement executes before br gets a value, the program will not be able to execute the close() method later, since br does not have a value\n",
    "        BufferedReader br = null;\n",
    "        // Nested try catch statements\n",
    "        try {           \n",
    "            // FileReader class for Java to actually read the contents of the file object, and store the data in bytes\n",
    "            FileReader fr = new FileReader(file);\n",
    "            // BufferedReader class to buffer the byte data from FileReader into readable char data\n",
    "            br = new BufferedReader(fr);\n",
    "\n",
    "            // Do not define the actual value of String variable line yet, as Strings are immutable. Each time a line is read, store that stream of characters into line. Each time the value of line changes, a brand new String is created and stored into memory.\n",
    "            // Use StringBuilder actually work with mutable Strings\n",
    "            String line;\n",
    "            // While there is still actual content to read from the file, print out each line of the file using the readLine() method\n",
    "            // The readLine() method reads a particular line of the file provided in bytes by FileReader, and converts it to char (readable format). Each time the readLine() method is called, the next current line of the file is read\n",
    "            while ((line = br.readLine()) != null) {\n",
    "                System.out.println(line);\n",
    "            }\n",
    "        } catch (FileNotFoundException e) { \n",
    "            // Indicate that the file name that was not found on the system (for FileReader)\n",
    "            // Use toString() to represent the file name in an appropriate format\n",
    "            System.out.println(\"File not found: \" + file.toString());\n",
    "        } catch (IOException e) {\n",
    "            // Indicate that the file was unable to be read (for the readLine() method of BufferedReader)\n",
    "            System.out.println(\"Unable to read file \" + file.toString());\n",
    "            // The finally statement always runs regardless of the result of the try catch statement\n",
    "        } finally {\n",
    "            // New try catch statement to possibly re-throw exceptions that are met again. This is usually proper convention, as it indicates any further errors down the method hierarchy\n",
    "            try {\n",
    "                // BufferedReader is at the top of the chain, as it is reading the FileReader which in turn is reading the File, so it needs to be closed for the purpose of preventing memory leaks due to open files\n",
    "                // Because of this, closing BufferedReader will ultimately close both FileReader and File\n",
    "                br.close();\n",
    "            } catch (IOException e) {\n",
    "                // IOException to account for errors produced by the close() method of BufferedReader\n",
    "                System.out.println(\"Unable to close file: \" + file.toString());\n",
    "            } catch (NullPointerException e) {\n",
    "                // NullPointerException for if the BufferedReader object has a null value\n",
    "                // This exception probably would not even be met, since if the file were to be null, it would likely be handled by the catch statements above\n",
    "                System.out.println(\"Null Pointer Exception: \" + file.toString());\n",
    "            }\n",
    "        }\n",
    "    }\n",
    "}\n",
    "\n",
    "Application.main(null);"
   ]
  },
  {
   "attachments": {},
   "cell_type": "markdown",
   "metadata": {},
   "source": [
    "# 39. Try-With-Resources #"
   ]
  },
  {
   "attachments": {},
   "cell_type": "markdown",
   "metadata": {},
   "source": [
    "## Notes: ##\n",
    "* The built-in AutoCloseable interface of Java indicates that a class implementing it should have some adequate form of the close() method. \n",
    "* The try-with-resources statement in Java is very similar to the try catch statement. The notation is mostly the same, except the try statement can now take parameters/clauses, and within the parameters/clauses, you can declare the resources (or objects that work with resources) that the try statement will check and work with. Resources may include files or sockets, which are opened when they are accessed, and should be closed to prevent memory leaks. \n",
    "* The catch statement in the try-with-resources serves basically the same purpose, handling any exceptions that may be thrown during the running of the try statement, or any exceptions thrown while working with or closing the resource(s), and the finally statement will run no matter the outcome of the try and catch statements.\n",
    "* Objects of classes that implement AutoCloseable, which are declared within try-with-resources, will automatically call the close() method after finishing performing all of its called actions. If any errors are met before the close() method (in the try statement), the try-with-resources will call the catch statement, and the rest of the try statement will not be executed (known as try exception). However, the catch statement will check again for the close() method, which is ran at the very end of the try-with-resources (known as try-with-resources exception, which may become a suppressed exception if a try exception is met before the same try-with-resources statement. A suppressed exception is basically one that is thrown but somehow is ignored, and mainly appears within try, catch, and finally statements)."
   ]
  },
  {
   "attachments": {},
   "cell_type": "markdown",
   "metadata": {},
   "source": [
    "## Examples: ##"
   ]
  },
  {
   "cell_type": "code",
   "execution_count": 18,
   "metadata": {
    "vscode": {
     "languageId": "java"
    }
   },
   "outputs": [
    {
     "name": "stdout",
     "output_type": "stream",
     "text": [
      "Try-with-resources example\n",
      "Closing!\n"
     ]
    },
    {
     "name": "stderr",
     "output_type": "stream",
     "text": [
      "java.lang.Exception: oh no!\n",
      "\tat REPL.$JShell$12G$Temp.close($JShell$12G.java:30)\n",
      "\tat REPL.$JShell$13P$Application.main($JShell$13P.java:28)\n",
      "\tat REPL.$JShell$34.do_it$($JShell$34.java:21)\n",
      "\tat java.base/jdk.internal.reflect.NativeMethodAccessorImpl.invoke0(Native Method)\n",
      "\tat java.base/jdk.internal.reflect.NativeMethodAccessorImpl.invoke(NativeMethodAccessorImpl.java:62)\n",
      "\tat java.base/jdk.internal.reflect.DelegatingMethodAccessorImpl.invoke(DelegatingMethodAccessorImpl.java:43)\n",
      "\tat java.base/java.lang.reflect.Method.invoke(Method.java:566)\n",
      "\tat io.github.spencerpark.ijava.execution.IJavaExecutionControl.lambda$execute$1(IJavaExecutionControl.java:95)\n",
      "\tat java.base/java.util.concurrent.FutureTask.run(FutureTask.java:264)\n",
      "\tat java.base/java.util.concurrent.ThreadPoolExecutor.runWorker(ThreadPoolExecutor.java:1128)\n",
      "\tat java.base/java.util.concurrent.ThreadPoolExecutor$Worker.run(ThreadPoolExecutor.java:628)\n",
      "\tat java.base/java.lang.Thread.run(Thread.java:829)\n"
     ]
    },
    {
     "name": "stdout",
     "output_type": "stream",
     "text": [
      "Dylan\n",
      "will\n",
      "take\n",
      "over\n",
      "the\n",
      "mf\n",
      "world!\n",
      "End of program\n"
     ]
    }
   ],
   "source": [
    "import java.io.File;\n",
    "import java.io.FileReader;\n",
    "import java.io.BufferedReader;\n",
    "import java.io.FileNotFoundException;\n",
    "import java.io.IOException;\n",
    "\n",
    "\n",
    "// Temp needs to have a close() method because it implements AutoCloseable\n",
    "class Temp implements AutoCloseable {\n",
    "    // Override the close() method provided by AutoCloseable\n",
    "    // The throws keyword indicates that the close() method is capable of handling, or throwing, exceptions of type Exception (basically any exception)\n",
    "    @Override\n",
    "    public void close() throws Exception {\n",
    "        System.out.println(\"Closing!\");\n",
    "        // Manually throw an Exception at the end of the close() method\n",
    "        throw new Exception(\"oh no!\");\n",
    "    }\n",
    "}\n",
    "\n",
    "public class Application {\n",
    "    public static void main(String[] args) {\n",
    "        // Notation for try-with-resources\n",
    "        // The close() method may throw an exception, and that exception must be handled in some way in the main method\n",
    "        try(Temp temp = new Temp()) {\n",
    "            // The close() method of the temp object (which implements AutoCloseable) will automatically be called after the try-with-resources has fully been executed\n",
    "            System.out.println(\"Try-with-resources example\");\n",
    "        } catch (Exception e) {\n",
    "            // Print error message in standard format\n",
    "            e.printStackTrace();\n",
    "        }\n",
    "\n",
    "        File file = new File(\"/home/dylanluo05/DylanLuoAPCSA/assets/java-fundamentals-resources/lesson-39-file.txt\");\n",
    "        // Use FileReader and BufferedReader to read the file line by line (FileReader) and effectively get all the characters in each line (BufferedReader)\n",
    "        // Don't store the new object of FileReader in a variable, since we don't reference it again. Here, we just need to pass the new object of FileReader into the constructor of BufferedReader\n",
    "        // Try-with-resources with multiple catch statements\n",
    "        try(BufferedReader br = new BufferedReader(new FileReader(file))) {\n",
    "            // Perform actions on the declared resource (object that works with files) in the try clause above, inside the try statement\n",
    "            String line;\n",
    "            // While there is still actual content to read from the file, print out each line of the file using the readLine() method\n",
    "            // The readLine() method reads a particular line of the file provided in bytes by FileReader, and converts it to char (readable format). Each time the readLine() method is called, the next current line of the file is read\n",
    "            while ((line = br.readLine()) != null) {\n",
    "                System.out.println(line);\n",
    "            }\n",
    "        } catch (FileNotFoundException e) {\n",
    "            System.out.println(\"Can't find file \" + file.toString());\n",
    "        } catch (IOException e) {\n",
    "            System.out.println(\"Unable to read file \" + file.toString());\n",
    "        } finally {\n",
    "            System.out.println(\"End of program\");\n",
    "        }\n",
    "    }\n",
    "}\n",
    "\n",
    "Application.main(null);"
   ]
  },
  {
   "attachments": {},
   "cell_type": "markdown",
   "metadata": {},
   "source": [
    "# 40. Creating and Writing Text Files #"
   ]
  },
  {
   "attachments": {},
   "cell_type": "markdown",
   "metadata": {},
   "source": [
    "## Notes: ##\n",
    "* In Java, the FileWriter class is essentially used to change or write data in the form of characters to text files. If the specified file path does not exist, FileWriter will create the file itself.\n",
    "* The BufferedWriter class is essentially used to change or write data to text files while utilizing a character-output stream (contains character bytes that need to be buffered), effectively and efficiently buffering the character-stream passed into its constructor that is to be written into the text files.\n",
    "* As a reminder, a buffer is essentially an area of memory that is allocated toward temporarily saving data (used when working with files) while it is moved from one place to another (e.g. from program to text file), and buffering is the act of facilitating the data flow and transfer between these 2 places. \n",
    "* The key difference between FileWriter and BufferedWriter is that FileWriter writes that character-stream directly into the text file, while BufferedWriter internally buffers the character-stream into the text, effectively allowing for less IO operations and thus better overall performance. \n",
    "* FileWriter and BufferedWriter, like FileReader and BufferedReader, are usually used in correspondence, where FileWriter (initially accesses the file and inputted character streams) is passed into the constructor of BufferedWriter (buffers the character streams and appends them to file). Note that whenever FileWriter and BufferedWriter are used, they will make changes to the original state of the file in its creation (usually blank), not its latest state, which means you cannot add to changes throughout multiple runs of the program (the file will refresh to blank at the beginning of each run of the program). However, you can save the changes to the file, and the file will not refresh unless you run the program again."
   ]
  },
  {
   "attachments": {},
   "cell_type": "markdown",
   "metadata": {},
   "source": [
    "## Examples: ##"
   ]
  },
  {
   "cell_type": "code",
   "execution_count": 25,
   "metadata": {
    "vscode": {
     "languageId": "java"
    }
   },
   "outputs": [
    {
     "name": "stdout",
     "output_type": "stream",
     "text": [
      "End of program\n"
     ]
    }
   ],
   "source": [
    "import java.io.File;\n",
    "import java.io.FileWriter;\n",
    "import java.io.BufferedWriter;\n",
    "import java.io.IOException;\n",
    "\n",
    "public class Application {\n",
    "    public static void main(String[] args) {\n",
    "        File file = new File(\"/home/dylanluo05/DylanLuoAPCSA/assets/java-fundamentals-resources/lesson-40-file.txt\");\n",
    "        // Try-with-resources statement\n",
    "        // Declare resource(s) in the try clause\n",
    "        // Try-with-resources automatically closes resources\n",
    "        // Use FileWriter and BufferedWriter to access/create a file (FileReader), and change the content within it with buffered inputted character streams (BufferedReader)\n",
    "        try (BufferedWriter br = new BufferedWriter(new FileWriter(file))) {\n",
    "            // The write() method of BufferedReader can append new text/Strings to the current line of the file that the program is on\n",
    "            br.write(\"This is line one\");\n",
    "            // The newLine() method moves the program to the next line of the file\n",
    "            br.newLine();\n",
    "            br.write(\"This is line two\");\n",
    "            br.newLine();\n",
    "            br.write(\"Last line\");\n",
    "        } catch (IOException e) {\n",
    "            System.out.println(\"Unable to read file \" + file.toString());\n",
    "        } finally {\n",
    "            System.out.println(\"End of program\");\n",
    "        }\n",
    "\n",
    "    }\n",
    "}\n",
    "\n",
    "Application.main(null);"
   ]
  }
 ],
 "metadata": {
  "kernelspec": {
   "display_name": "Java",
   "language": "java",
   "name": "java"
  },
  "language_info": {
   "codemirror_mode": "java",
   "file_extension": ".jshell",
   "mimetype": "text/x-java-source",
   "name": "Java",
   "pygments_lexer": "java",
   "version": "11.0.16+8-post-Ubuntu-0ubuntu120.04"
  },
  "orig_nbformat": 4
 },
 "nbformat": 4,
 "nbformat_minor": 2
}
