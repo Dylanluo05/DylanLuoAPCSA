{
 "cells": [
  {
   "attachments": {},
   "cell_type": "markdown",
   "metadata": {},
   "source": [
    "# Data Types Post\n",
    "> Data Types Post\n",
    "\n",
    "- toc: true\n",
    "- description: Data types blog post for AP CSA\n",
    "- categories: [jupyter]\n",
    "- title: Data Types Post\n",
    "- author: Dylan Luo\n",
    "- show_tags: true\n",
    "- comments: true"
   ]
  },
  {
   "attachments": {},
   "cell_type": "markdown",
   "metadata": {},
   "source": [
    "## 2015 Practice Exam MCQ: 34/39 ##\n",
    "## Test Corrections: ##\n",
    "9. Generate random value of number cubes\n",
    "* Original Answer: C. Correct Answer: E. Math.random() generates a number between 0 and 1, 1 exclusive. By multiplying Math.random() by 6 and adding 1 to it, we are able to generate a number between 1 and 6, both inclusive.\n",
    "15. showMe method with int parameter\n",
    "* Original Answer: B. Correct Answer: A. The showMe method calls itself recursively until arg is equal to 10 (It calls itself with a value that is one more than arg each iteration). The recursion ends when the method prints out \"10.\"\n",
    "19. Loop that prints nothing\n",
    "* Original Answer: C. Correct Answer: E. In condition 1, nothing will print out since the base case is already not satisfied. In condition 2, the initialized value of x is not even so nothing will be printed. In condition 3, since x starts off as 1 and always increments by 2, nothing will be printed since x is never even.\n",
    "26. Methods start and changeIt aliases\n",
    "* Original Answer: B. Correct Answer: E. In this case, the changeIt method creates copies of the parameters, instead actually changing the values of them. Since we are referencing the original variable names, the original variable values will be printed instead of the values of the new variables.\n",
    "39. Consider the following code segment type question\n",
    "* Original Answer: A. Correct Answer: C. When the set method is called, it returns the original value that was at the index, instead of the new one. Thus, the first for loop will print out \"Alex Bob Carl\", as those are the original values before they are changed. The second for loop will print out \"Alex Alex Alex\", since it just prints out the current elements in the ArrayList students.\n"
   ]
  },
  {
   "cell_type": "code",
   "execution_count": 1,
   "metadata": {},
   "outputs": [
    {
     "name": "stdout",
     "output_type": "stream",
     "text": [
      "Primitive a = 10\n",
      "Primitive b = 3.7\n",
      "Primitive c = true\n",
      "Primitive d = @\n",
      "-------------------\n",
      "Wrapper a = 10\n",
      "Wrapper b = 3.7\n",
      "Wrapper c = true\n",
      "Wrapper d = @\n"
     ]
    }
   ],
   "source": [
    "public class dataTypes {\n",
    "    public static void main(String[] args) {\n",
    "        int a = 10;\n",
    "        double b = 3.7;\n",
    "        boolean c = true;\n",
    "        char d = '@';\n",
    "\n",
    "        Integer aWrapper = new Integer(10);\n",
    "        Double bWrapper = new Double(3.7);\n",
    "        Boolean cWrapper = new Boolean(true);\n",
    "        Character dWrapper = new Character('@');\n",
    "\n",
    "        System.out.println(\"Primitive a = \" + a);\n",
    "        System.out.println(\"Primitive b = \" + b);\n",
    "        System.out.println(\"Primitive c = \" + c);\n",
    "        System.out.println(\"Primitive d = \" + d);\n",
    "        System.out.println(\"-------------------\");\n",
    "        System.out.println(\"Wrapper a = \" + aWrapper);\n",
    "        System.out.println(\"Wrapper b = \" + bWrapper);\n",
    "        System.out.println(\"Wrapper c = \" + cWrapper);\n",
    "        System.out.println(\"Wrapper d = \" + dWrapper);\n",
    "    }\n",
    "}\n",
    "\n",
    "dataTypes.main(null);"
   ]
  },
  {
   "attachments": {},
   "cell_type": "markdown",
   "metadata": {},
   "source": [
    "<h2>Questions</h2>\n",
    "<hr>\n",
    "<ul>\n",
    "    <li>What are methods and control structures?</li>\n",
    "    <p>Methods in Java serve as functions, which when called, perform the certain actions written within its code block. Control structures are programming blocks that are used to alter the linear path that a program follows.</p>\n",
    "    <li>Control Structures AP FRQ</li>\n",
    "    <p></p>\n",
    "    <li>Look at Diverse Arrays, Matrix in Teacher code and see if you think this is Methods and Control structures.</li>\n",
    "    <p>Matrix.java contains a variety of methods that change the contents of a given matrix, and a variety of for loops that serve as iteration control structures, used to iterate through the contents of a matrix.</p>\n",
    "    <li>Look at Diverse Arrays, Matrix in Teacher code and see if you think this fits Data Types.</li>\n",
    "    <p>In Matrix.java, we can see a variety of data types. We see 2-dimensional matrices that </p>\n",
    "    <li>Describing Math.random</li>\n",
    "    <p></p>\n",
    "    <li>Review DoNothingByValue, what is key knowledge here?</li>\n",
    "    <p></p>\n",
    "    <li>Review IntByReference, what is key knowledge here?</li>\n",
    "    <p></p>\n",
    "    <li>Review Menu code. Try, Catch, Runnable are used to control program execution. See if there is a way to get this to work in Jupyter Notebooks.</li>\n",
    "    <p></p>\n",
    "    <li>Define \"Method and Control Structures\". To the Teacher, the Menu Code has the most work of methodDataTypes files that is related to the \"Methods and Control Structures\" topic. Such exploration would begin by asking \"describe Java Methods and Control structures\". Are instances of MenuRow and Runnable data types, control structures? Does Driver have control structures, enumerate them.</li>\n",
    "    <p></p>\n",
    "</ul>\n",
    "\n"
   ]
  }
 ],
 "metadata": {
  "kernelspec": {
   "display_name": "Java",
   "language": "java",
   "name": "java"
  },
  "language_info": {
   "codemirror_mode": "java",
   "file_extension": ".jshell",
   "mimetype": "text/x-java-source",
   "name": "java",
   "pygments_lexer": "java",
   "version": "11.0.16+8-post-Ubuntu-0ubuntu120.04"
  },
  "orig_nbformat": 4
 },
 "nbformat": 4,
 "nbformat_minor": 2
}
